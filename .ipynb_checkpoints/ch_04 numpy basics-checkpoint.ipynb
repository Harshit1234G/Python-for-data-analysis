{
 "cells": [
  {
   "cell_type": "markdown",
   "id": "c69f8fb2-96c8-4fa7-b92b-11c97a009cb6",
   "metadata": {},
   "source": [
    "# Basics"
   ]
  },
  {
   "cell_type": "code",
   "execution_count": 1,
   "id": "b53de62c-48c5-4a0b-bf75-8ee341795ceb",
   "metadata": {},
   "outputs": [],
   "source": [
    "import numpy as np"
   ]
  },
  {
   "cell_type": "code",
   "execution_count": 2,
   "id": "3f2d42d4-1b26-4cf7-b5bb-7ebde367415a",
   "metadata": {},
   "outputs": [],
   "source": [
    "array = np.arange(1_000_000)\n",
    "l = list(range(1_000_000))"
   ]
  },
  {
   "cell_type": "code",
   "execution_count": 3,
   "id": "10776012-f6e3-43f6-a2f8-78e490ea58b5",
   "metadata": {},
   "outputs": [
    {
     "name": "stdout",
     "output_type": "stream",
     "text": [
      "1.71 ms ± 374 µs per loop (mean ± std. dev. of 7 runs, 1,000 loops each)\n"
     ]
    }
   ],
   "source": [
    "%timeit array2 = array * 2"
   ]
  },
  {
   "cell_type": "code",
   "execution_count": 4,
   "id": "74aff8fc-6e58-4215-9a41-d85be03e7f64",
   "metadata": {},
   "outputs": [
    {
     "name": "stdout",
     "output_type": "stream",
     "text": [
      "79.5 ms ± 15.2 ms per loop (mean ± std. dev. of 7 runs, 10 loops each)\n"
     ]
    }
   ],
   "source": [
    "%timeit l2 = [i * 2 for i in l]"
   ]
  },
  {
   "cell_type": "code",
   "execution_count": 5,
   "id": "d8b4de13-f852-4dc2-ac11-01878e0ead99",
   "metadata": {},
   "outputs": [],
   "source": [
    "data = [[1,2,3,4,5], [6,7,8,4,3]]\n",
    "arr = np.array(data)"
   ]
  },
  {
   "cell_type": "code",
   "execution_count": 6,
   "id": "b8bc0258-3228-451e-8128-8fa545690545",
   "metadata": {},
   "outputs": [
    {
     "data": {
      "text/plain": [
       "array([[1, 2, 3, 4, 5],\n",
       "       [6, 7, 8, 4, 3]])"
      ]
     },
     "execution_count": 6,
     "metadata": {},
     "output_type": "execute_result"
    }
   ],
   "source": [
    "arr"
   ]
  },
  {
   "cell_type": "code",
   "execution_count": 7,
   "id": "096cb299-a5ae-4ee4-9b1f-5f35eda038f5",
   "metadata": {},
   "outputs": [
    {
     "data": {
      "text/plain": [
       "array([[ 3,  4,  5,  6,  7],\n",
       "       [ 8,  9, 10,  6,  5]])"
      ]
     },
     "execution_count": 7,
     "metadata": {},
     "output_type": "execute_result"
    }
   ],
   "source": [
    "arr + 2"
   ]
  },
  {
   "cell_type": "code",
   "execution_count": 8,
   "id": "049cb8a7-e9f8-44b4-8a61-445479a99118",
   "metadata": {},
   "outputs": [
    {
     "data": {
      "text/plain": [
       "array([[-33, -32, -31, -30, -29],\n",
       "       [-28, -27, -26, -30, -31]])"
      ]
     },
     "execution_count": 8,
     "metadata": {},
     "output_type": "execute_result"
    }
   ],
   "source": [
    "arr - 34"
   ]
  },
  {
   "cell_type": "code",
   "execution_count": 9,
   "id": "7f1571cc-cd31-41c9-ae67-af615e46b8a1",
   "metadata": {},
   "outputs": [
    {
     "data": {
      "text/plain": [
       "array([[ 4,  8, 12, 16, 20],\n",
       "       [24, 28, 32, 16, 12]])"
      ]
     },
     "execution_count": 9,
     "metadata": {},
     "output_type": "execute_result"
    }
   ],
   "source": [
    "arr * 4"
   ]
  },
  {
   "cell_type": "code",
   "execution_count": 10,
   "id": "9bf82f10-949b-407e-b161-7516dacec692",
   "metadata": {},
   "outputs": [
    {
     "data": {
      "text/plain": [
       "dtype('int32')"
      ]
     },
     "execution_count": 10,
     "metadata": {},
     "output_type": "execute_result"
    }
   ],
   "source": [
    "arr.dtype"
   ]
  },
  {
   "cell_type": "code",
   "execution_count": 11,
   "id": "f82ad79a-34ea-4357-a1db-65c631562c99",
   "metadata": {},
   "outputs": [
    {
     "data": {
      "text/plain": [
       "array([[ 2,  4,  6,  8, 10],\n",
       "       [12, 14, 16,  8,  6]])"
      ]
     },
     "execution_count": 11,
     "metadata": {},
     "output_type": "execute_result"
    }
   ],
   "source": [
    "arr + arr"
   ]
  },
  {
   "cell_type": "code",
   "execution_count": 12,
   "id": "5ff9708c-614f-41bc-93e7-a4024b748114",
   "metadata": {},
   "outputs": [
    {
     "data": {
      "text/plain": [
       "(2, 5)"
      ]
     },
     "execution_count": 12,
     "metadata": {},
     "output_type": "execute_result"
    }
   ],
   "source": [
    "arr.shape"
   ]
  },
  {
   "cell_type": "code",
   "execution_count": 13,
   "id": "249a9011-b6b0-4532-89e5-57e37118129f",
   "metadata": {},
   "outputs": [
    {
     "data": {
      "text/plain": [
       "array([[ 1,  4,  9, 16, 25],\n",
       "       [36, 49, 64, 16,  9]])"
      ]
     },
     "execution_count": 13,
     "metadata": {},
     "output_type": "execute_result"
    }
   ],
   "source": [
    "arr * arr"
   ]
  },
  {
   "cell_type": "code",
   "execution_count": 14,
   "id": "85eb3cca-2588-4f6e-9c0c-e5e5dd884d82",
   "metadata": {},
   "outputs": [
    {
     "data": {
      "text/plain": [
       "\u001b[1;31mSignature:\u001b[0m       \u001b[0mnp\u001b[0m\u001b[1;33m.\u001b[0m\u001b[0mndim\u001b[0m\u001b[1;33m(\u001b[0m\u001b[0ma\u001b[0m\u001b[1;33m)\u001b[0m\u001b[1;33m\u001b[0m\u001b[1;33m\u001b[0m\u001b[0m\n",
       "\u001b[1;31mCall signature:\u001b[0m  \u001b[0mnp\u001b[0m\u001b[1;33m.\u001b[0m\u001b[0mndim\u001b[0m\u001b[1;33m(\u001b[0m\u001b[1;33m*\u001b[0m\u001b[0margs\u001b[0m\u001b[1;33m,\u001b[0m \u001b[1;33m**\u001b[0m\u001b[0mkwargs\u001b[0m\u001b[1;33m)\u001b[0m\u001b[1;33m\u001b[0m\u001b[1;33m\u001b[0m\u001b[0m\n",
       "\u001b[1;31mType:\u001b[0m            _ArrayFunctionDispatcher\n",
       "\u001b[1;31mString form:\u001b[0m     <function ndim at 0x000002A9F26E9260>\n",
       "\u001b[1;31mFile:\u001b[0m            c:\\users\\harshit\\appdata\\local\\programs\\python\\python312\\lib\\site-packages\\numpy\\core\\fromnumeric.py\n",
       "\u001b[1;31mDocstring:\u001b[0m      \n",
       "Return the number of dimensions of an array.\n",
       "\n",
       "Parameters\n",
       "----------\n",
       "a : array_like\n",
       "    Input array.  If it is not already an ndarray, a conversion is\n",
       "    attempted.\n",
       "\n",
       "Returns\n",
       "-------\n",
       "number_of_dimensions : int\n",
       "    The number of dimensions in `a`.  Scalars are zero-dimensional.\n",
       "\n",
       "See Also\n",
       "--------\n",
       "ndarray.ndim : equivalent method\n",
       "shape : dimensions of array\n",
       "ndarray.shape : dimensions of array\n",
       "\n",
       "Examples\n",
       "--------\n",
       ">>> np.ndim([[1,2,3],[4,5,6]])\n",
       "2\n",
       ">>> np.ndim(np.array([[1,2,3],[4,5,6]]))\n",
       "2\n",
       ">>> np.ndim(1)\n",
       "0\n",
       "\u001b[1;31mClass docstring:\u001b[0m\n",
       "Class to wrap functions with checks for __array_function__ overrides.\n",
       "\n",
       "All arguments are required, and can only be passed by position.\n",
       "\n",
       "Parameters\n",
       "----------\n",
       "dispatcher : function or None\n",
       "    The dispatcher function that returns a single sequence-like object\n",
       "    of all arguments relevant.  It must have the same signature (except\n",
       "    the default values) as the actual implementation.\n",
       "    If ``None``, this is a ``like=`` dispatcher and the\n",
       "    ``_ArrayFunctionDispatcher`` must be called with ``like`` as the\n",
       "    first (additional and positional) argument.\n",
       "implementation : function\n",
       "    Function that implements the operation on NumPy arrays without\n",
       "    overrides.  Arguments passed calling the ``_ArrayFunctionDispatcher``\n",
       "    will be forwarded to this (and the ``dispatcher``) as if using\n",
       "    ``*args, **kwargs``.\n",
       "\n",
       "Attributes\n",
       "----------\n",
       "_implementation : function\n",
       "    The original implementation passed in."
      ]
     },
     "metadata": {},
     "output_type": "display_data"
    }
   ],
   "source": [
    "np.ndim?"
   ]
  },
  {
   "cell_type": "code",
   "execution_count": 15,
   "id": "d672ab0b-c493-4be2-8871-f9009005145a",
   "metadata": {},
   "outputs": [
    {
     "data": {
      "text/plain": [
       "2"
      ]
     },
     "execution_count": 15,
     "metadata": {},
     "output_type": "execute_result"
    }
   ],
   "source": [
    "np.ndim(arr)"
   ]
  },
  {
   "cell_type": "code",
   "execution_count": 16,
   "id": "f5dcfd1a-f470-4bae-913a-1f05fac9bd4f",
   "metadata": {},
   "outputs": [
    {
     "data": {
      "text/plain": [
       "2"
      ]
     },
     "execution_count": 16,
     "metadata": {},
     "output_type": "execute_result"
    }
   ],
   "source": [
    "arr.ndim"
   ]
  },
  {
   "cell_type": "markdown",
   "id": "cab20a41-56d0-47c2-9707-f17fa9b36877",
   "metadata": {},
   "source": [
    "## different ways of creating arrays "
   ]
  },
  {
   "cell_type": "code",
   "execution_count": 17,
   "id": "0744fc32-446b-4bfa-af11-fda2bce9c5fb",
   "metadata": {},
   "outputs": [
    {
     "data": {
      "text/plain": [
       "array([0., 0., 0., 0., 0., 0., 0., 0., 0., 0.])"
      ]
     },
     "execution_count": 17,
     "metadata": {},
     "output_type": "execute_result"
    }
   ],
   "source": [
    "np.zeros(10)"
   ]
  },
  {
   "cell_type": "code",
   "execution_count": 18,
   "id": "c461469d-8dbd-4c4a-95b7-ed9a8d3fd594",
   "metadata": {},
   "outputs": [
    {
     "data": {
      "text/plain": [
       "array([[0., 0., 0., ..., 0., 0., 0.],\n",
       "       [0., 0., 0., ..., 0., 0., 0.],\n",
       "       [0., 0., 0., ..., 0., 0., 0.],\n",
       "       ...,\n",
       "       [0., 0., 0., ..., 0., 0., 0.],\n",
       "       [0., 0., 0., ..., 0., 0., 0.],\n",
       "       [0., 0., 0., ..., 0., 0., 0.]])"
      ]
     },
     "execution_count": 18,
     "metadata": {},
     "output_type": "execute_result"
    }
   ],
   "source": [
    "np.zeros((500, 600))"
   ]
  },
  {
   "cell_type": "code",
   "execution_count": 19,
   "id": "d018c586-9e1f-4949-bd2b-6ed03a0e795c",
   "metadata": {},
   "outputs": [
    {
     "data": {
      "text/plain": [
       "array([[1., 1., 1., 1., 1., 1., 1.],\n",
       "       [1., 1., 1., 1., 1., 1., 1.],\n",
       "       [1., 1., 1., 1., 1., 1., 1.],\n",
       "       [1., 1., 1., 1., 1., 1., 1.],\n",
       "       [1., 1., 1., 1., 1., 1., 1.]])"
      ]
     },
     "execution_count": 19,
     "metadata": {},
     "output_type": "execute_result"
    }
   ],
   "source": [
    "np.ones((5, 7))"
   ]
  },
  {
   "cell_type": "code",
   "execution_count": 20,
   "id": "fe49d871-4fd1-4192-ae84-171b2243ce6f",
   "metadata": {},
   "outputs": [
    {
     "data": {
      "text/plain": [
       "array([[6.23042070e-307, 4.67296746e-307, 1.69121096e-306],\n",
       "       [1.60218491e-306, 1.78020169e-306, 8.70018274e-313]])"
      ]
     },
     "execution_count": 20,
     "metadata": {},
     "output_type": "execute_result"
    }
   ],
   "source": [
    "np.empty((2, 3))"
   ]
  },
  {
   "cell_type": "code",
   "execution_count": 21,
   "id": "5c41ea6d-1757-4940-8447-21d05a851405",
   "metadata": {},
   "outputs": [
    {
     "data": {
      "text/plain": [
       "array([[[6.23042070e-307, 4.67296746e-307],\n",
       "        [1.69121096e-306, 1.60218491e-306],\n",
       "        [1.78020169e-306, 1.42419938e-306],\n",
       "        [7.56603881e-307, 8.45603440e-307]],\n",
       "\n",
       "       [[3.56043054e-307, 1.60219306e-306],\n",
       "        [6.23059726e-307, 1.06811422e-306],\n",
       "        [3.56043054e-307, 1.37961641e-306],\n",
       "        [1.00132483e-307, 8.01097889e-307]],\n",
       "\n",
       "       [[1.78020169e-306, 7.56601165e-307],\n",
       "        [1.02359984e-306, 1.42417221e-306],\n",
       "        [9.34605037e-307, 6.23059726e-307],\n",
       "        [1.24612353e-306, 1.42404727e-306]]])"
      ]
     },
     "execution_count": 21,
     "metadata": {},
     "output_type": "execute_result"
    }
   ],
   "source": [
    "np.empty((3, 4, 2))"
   ]
  },
  {
   "cell_type": "code",
   "execution_count": 22,
   "id": "a7d563c8-3a1e-4af9-9689-285a72a82f1d",
   "metadata": {},
   "outputs": [
    {
     "data": {
      "text/plain": [
       "array([0, 1, 2, 3, 4, 5, 6, 7, 8, 9])"
      ]
     },
     "execution_count": 22,
     "metadata": {},
     "output_type": "execute_result"
    }
   ],
   "source": [
    "np.arange(10)   #python's range func "
   ]
  },
  {
   "cell_type": "code",
   "execution_count": 23,
   "id": "8bbd5134-e55a-4ac8-a4ae-69c4aaf503da",
   "metadata": {},
   "outputs": [
    {
     "data": {
      "text/plain": [
       "\u001b[1;31mDocstring:\u001b[0m\n",
       "asarray(a, dtype=None, order=None, *, like=None)\n",
       "\n",
       "Convert the input to an array.\n",
       "\n",
       "Parameters\n",
       "----------\n",
       "a : array_like\n",
       "    Input data, in any form that can be converted to an array.  This\n",
       "    includes lists, lists of tuples, tuples, tuples of tuples, tuples\n",
       "    of lists and ndarrays.\n",
       "dtype : data-type, optional\n",
       "    By default, the data-type is inferred from the input data.\n",
       "order : {'C', 'F', 'A', 'K'}, optional\n",
       "    Memory layout.  'A' and 'K' depend on the order of input array a.\n",
       "    'C' row-major (C-style),\n",
       "    'F' column-major (Fortran-style) memory representation.\n",
       "    'A' (any) means 'F' if `a` is Fortran contiguous, 'C' otherwise\n",
       "    'K' (keep) preserve input order\n",
       "    Defaults to 'K'.\n",
       "like : array_like, optional\n",
       "    Reference object to allow the creation of arrays which are not\n",
       "    NumPy arrays. If an array-like passed in as ``like`` supports\n",
       "    the ``__array_function__`` protocol, the result will be defined\n",
       "    by it. In this case, it ensures the creation of an array object\n",
       "    compatible with that passed in via this argument.\n",
       "\n",
       "    .. versionadded:: 1.20.0\n",
       "\n",
       "Returns\n",
       "-------\n",
       "out : ndarray\n",
       "    Array interpretation of `a`.  No copy is performed if the input\n",
       "    is already an ndarray with matching dtype and order.  If `a` is a\n",
       "    subclass of ndarray, a base class ndarray is returned.\n",
       "\n",
       "See Also\n",
       "--------\n",
       "asanyarray : Similar function which passes through subclasses.\n",
       "ascontiguousarray : Convert input to a contiguous array.\n",
       "asfarray : Convert input to a floating point ndarray.\n",
       "asfortranarray : Convert input to an ndarray with column-major\n",
       "                 memory order.\n",
       "asarray_chkfinite : Similar function which checks input for NaNs and Infs.\n",
       "fromiter : Create an array from an iterator.\n",
       "fromfunction : Construct an array by executing a function on grid\n",
       "               positions.\n",
       "\n",
       "Examples\n",
       "--------\n",
       "Convert a list into an array:\n",
       "\n",
       ">>> a = [1, 2]\n",
       ">>> np.asarray(a)\n",
       "array([1, 2])\n",
       "\n",
       "Existing arrays are not copied:\n",
       "\n",
       ">>> a = np.array([1, 2])\n",
       ">>> np.asarray(a) is a\n",
       "True\n",
       "\n",
       "If `dtype` is set, array is copied only if dtype does not match:\n",
       "\n",
       ">>> a = np.array([1, 2], dtype=np.float32)\n",
       ">>> np.asarray(a, dtype=np.float32) is a\n",
       "True\n",
       ">>> np.asarray(a, dtype=np.float64) is a\n",
       "False\n",
       "\n",
       "Contrary to `asanyarray`, ndarray subclasses are not passed through:\n",
       "\n",
       ">>> issubclass(np.recarray, np.ndarray)\n",
       "True\n",
       ">>> a = np.array([(1.0, 2), (3.0, 4)], dtype='f4,i4').view(np.recarray)\n",
       ">>> np.asarray(a) is a\n",
       "False\n",
       ">>> np.asanyarray(a) is a\n",
       "True\n",
       "\u001b[1;31mType:\u001b[0m      builtin_function_or_method"
      ]
     },
     "metadata": {},
     "output_type": "display_data"
    }
   ],
   "source": [
    "np.asarray?"
   ]
  },
  {
   "cell_type": "code",
   "execution_count": 24,
   "id": "94f3f781-cb34-4a55-90ea-db3b093adc4c",
   "metadata": {},
   "outputs": [
    {
     "data": {
      "text/plain": [
       "array([[1, 1, 1, 1, 1],\n",
       "       [1, 1, 1, 1, 1]])"
      ]
     },
     "execution_count": 24,
     "metadata": {},
     "output_type": "execute_result"
    }
   ],
   "source": [
    "np.ones_like(arr)"
   ]
  },
  {
   "cell_type": "code",
   "execution_count": 25,
   "id": "faf5ebdc-9ea2-4ea4-bddc-e68635478906",
   "metadata": {},
   "outputs": [
    {
     "data": {
      "text/plain": [
       "array([[0, 0, 0, 0, 0],\n",
       "       [0, 0, 0, 0, 0]])"
      ]
     },
     "execution_count": 25,
     "metadata": {},
     "output_type": "execute_result"
    }
   ],
   "source": [
    "np.zeros_like(arr)"
   ]
  },
  {
   "cell_type": "code",
   "execution_count": 26,
   "id": "e6ce6702-b63f-44d2-bdf5-243462031b96",
   "metadata": {},
   "outputs": [
    {
     "data": {
      "text/plain": [
       "array([[      0,       1,       0, 5570652,    1028],\n",
       "       [      0,     768,     681,       0,       0]])"
      ]
     },
     "execution_count": 26,
     "metadata": {},
     "output_type": "execute_result"
    }
   ],
   "source": [
    "np.empty_like(arr)"
   ]
  },
  {
   "cell_type": "code",
   "execution_count": 27,
   "id": "a2da0b0a-c9e6-414c-83c8-a2c1784948e6",
   "metadata": {},
   "outputs": [
    {
     "data": {
      "text/plain": [
       "\u001b[1;31mSignature:\u001b[0m \u001b[0mnp\u001b[0m\u001b[1;33m.\u001b[0m\u001b[0mfull\u001b[0m\u001b[1;33m(\u001b[0m\u001b[0mshape\u001b[0m\u001b[1;33m,\u001b[0m \u001b[0mfill_value\u001b[0m\u001b[1;33m,\u001b[0m \u001b[0mdtype\u001b[0m\u001b[1;33m=\u001b[0m\u001b[1;32mNone\u001b[0m\u001b[1;33m,\u001b[0m \u001b[0morder\u001b[0m\u001b[1;33m=\u001b[0m\u001b[1;34m'C'\u001b[0m\u001b[1;33m,\u001b[0m \u001b[1;33m*\u001b[0m\u001b[1;33m,\u001b[0m \u001b[0mlike\u001b[0m\u001b[1;33m=\u001b[0m\u001b[1;32mNone\u001b[0m\u001b[1;33m)\u001b[0m\u001b[1;33m\u001b[0m\u001b[1;33m\u001b[0m\u001b[0m\n",
       "\u001b[1;31mDocstring:\u001b[0m\n",
       "Return a new array of given shape and type, filled with `fill_value`.\n",
       "\n",
       "Parameters\n",
       "----------\n",
       "shape : int or sequence of ints\n",
       "    Shape of the new array, e.g., ``(2, 3)`` or ``2``.\n",
       "fill_value : scalar or array_like\n",
       "    Fill value.\n",
       "dtype : data-type, optional\n",
       "    The desired data-type for the array  The default, None, means\n",
       "     ``np.array(fill_value).dtype``.\n",
       "order : {'C', 'F'}, optional\n",
       "    Whether to store multidimensional data in C- or Fortran-contiguous\n",
       "    (row- or column-wise) order in memory.\n",
       "like : array_like, optional\n",
       "    Reference object to allow the creation of arrays which are not\n",
       "    NumPy arrays. If an array-like passed in as ``like`` supports\n",
       "    the ``__array_function__`` protocol, the result will be defined\n",
       "    by it. In this case, it ensures the creation of an array object\n",
       "    compatible with that passed in via this argument.\n",
       "\n",
       "    .. versionadded:: 1.20.0\n",
       "\n",
       "Returns\n",
       "-------\n",
       "out : ndarray\n",
       "    Array of `fill_value` with the given shape, dtype, and order.\n",
       "\n",
       "See Also\n",
       "--------\n",
       "full_like : Return a new array with shape of input filled with value.\n",
       "empty : Return a new uninitialized array.\n",
       "ones : Return a new array setting values to one.\n",
       "zeros : Return a new array setting values to zero.\n",
       "\n",
       "Examples\n",
       "--------\n",
       ">>> np.full((2, 2), np.inf)\n",
       "array([[inf, inf],\n",
       "       [inf, inf]])\n",
       ">>> np.full((2, 2), 10)\n",
       "array([[10, 10],\n",
       "       [10, 10]])\n",
       "\n",
       ">>> np.full((2, 2), [1, 2])\n",
       "array([[1, 2],\n",
       "       [1, 2]])\n",
       "\u001b[1;31mFile:\u001b[0m      c:\\users\\harshit\\appdata\\local\\programs\\python\\python312\\lib\\site-packages\\numpy\\core\\numeric.py\n",
       "\u001b[1;31mType:\u001b[0m      function"
      ]
     },
     "metadata": {},
     "output_type": "display_data"
    }
   ],
   "source": [
    "np.full?"
   ]
  },
  {
   "cell_type": "code",
   "execution_count": 28,
   "id": "c157c4b4-65d3-4069-8f14-5b6fe9d1fca1",
   "metadata": {},
   "outputs": [
    {
     "data": {
      "text/plain": [
       "array([[3, 3, 3, 3],\n",
       "       [3, 3, 3, 3]])"
      ]
     },
     "execution_count": 28,
     "metadata": {},
     "output_type": "execute_result"
    }
   ],
   "source": [
    "np.full((2, 4), 3)"
   ]
  },
  {
   "cell_type": "code",
   "execution_count": 29,
   "id": "ac64d791-3c59-4d26-bbd1-efaafbce4672",
   "metadata": {},
   "outputs": [
    {
     "data": {
      "text/plain": [
       "array([[1, 0, 0],\n",
       "       [0, 1, 0],\n",
       "       [0, 0, 1]])"
      ]
     },
     "execution_count": 29,
     "metadata": {},
     "output_type": "execute_result"
    }
   ],
   "source": [
    "np.identity(3, dtype= np.int32)"
   ]
  },
  {
   "cell_type": "code",
   "execution_count": 30,
   "id": "dc73db72-3316-47cb-92f3-fea584aa1207",
   "metadata": {},
   "outputs": [
    {
     "data": {
      "text/plain": [
       "array([[1., 0.],\n",
       "       [0., 1.]])"
      ]
     },
     "execution_count": 30,
     "metadata": {},
     "output_type": "execute_result"
    }
   ],
   "source": [
    "np.eye(2)"
   ]
  },
  {
   "cell_type": "markdown",
   "id": "d6c6d476-d032-4d03-ba89-e8b25ecd4c2e",
   "metadata": {},
   "source": [
    "## data types in np"
   ]
  },
  {
   "cell_type": "code",
   "execution_count": 31,
   "id": "455c83bd-446e-45ea-b3b5-0c732382a8c4",
   "metadata": {},
   "outputs": [],
   "source": [
    "arr3 = np.asarray(arr, dtype= np.string_)"
   ]
  },
  {
   "cell_type": "code",
   "execution_count": 32,
   "id": "64255c79-a15a-476b-9dfd-e5d822ada620",
   "metadata": {},
   "outputs": [
    {
     "data": {
      "text/plain": [
       "array([[b'1', b'2', b'3', b'4', b'5'],\n",
       "       [b'6', b'7', b'8', b'4', b'3']], dtype='|S11')"
      ]
     },
     "execution_count": 32,
     "metadata": {},
     "output_type": "execute_result"
    }
   ],
   "source": [
    "arr3"
   ]
  },
  {
   "cell_type": "code",
   "execution_count": 33,
   "id": "c19ce0a5-843c-4779-8c53-e3ba09f3082a",
   "metadata": {},
   "outputs": [
    {
     "data": {
      "text/plain": [
       "dtype('S11')"
      ]
     },
     "execution_count": 33,
     "metadata": {},
     "output_type": "execute_result"
    }
   ],
   "source": [
    "arr3.dtype"
   ]
  },
  {
   "cell_type": "code",
   "execution_count": 34,
   "id": "9036c76b-ff8e-4c45-86db-13733849db21",
   "metadata": {},
   "outputs": [
    {
     "data": {
      "text/plain": [
       "array([[1., 2., 3., 4., 5.],\n",
       "       [6., 7., 8., 4., 3.]])"
      ]
     },
     "execution_count": 34,
     "metadata": {},
     "output_type": "execute_result"
    }
   ],
   "source": [
    "arr3.astype(np.float64)"
   ]
  },
  {
   "cell_type": "code",
   "execution_count": 35,
   "id": "f22a0609-3a36-4a64-9875-1e20e8043a7f",
   "metadata": {},
   "outputs": [],
   "source": [
    "a = arr3.astype(float)"
   ]
  },
  {
   "cell_type": "code",
   "execution_count": 36,
   "id": "f4019704-ecbb-47db-990f-9fa85374ebe6",
   "metadata": {},
   "outputs": [
    {
     "data": {
      "text/plain": [
       "dtype('float64')"
      ]
     },
     "execution_count": 36,
     "metadata": {},
     "output_type": "execute_result"
    }
   ],
   "source": [
    "a.dtype"
   ]
  },
  {
   "cell_type": "code",
   "execution_count": 37,
   "id": "2dc93da3-02dc-4437-b7f2-783c31177f0e",
   "metadata": {},
   "outputs": [
    {
     "data": {
      "text/plain": [
       "array([[1, 2, 3, 4, 5],\n",
       "       [6, 7, 8, 4, 3]], dtype=uint32)"
      ]
     },
     "execution_count": 37,
     "metadata": {},
     "output_type": "execute_result"
    }
   ],
   "source": [
    "a.astype('u4')   #using type code"
   ]
  },
  {
   "cell_type": "code",
   "execution_count": 38,
   "id": "a4503ece-2af9-444b-82df-f00bdf69ddde",
   "metadata": {},
   "outputs": [
    {
     "data": {
      "text/plain": [
       "array([[1., 2., 3., 4., 5.],\n",
       "       [6., 7., 8., 4., 3.]])"
      ]
     },
     "execution_count": 38,
     "metadata": {},
     "output_type": "execute_result"
    }
   ],
   "source": [
    "a"
   ]
  },
  {
   "cell_type": "code",
   "execution_count": 39,
   "id": "6f1d803c-b193-4b25-9bb6-54b8beaa7dc0",
   "metadata": {},
   "outputs": [
    {
     "data": {
      "text/plain": [
       "array([[b'1', b'2', b'3', b'4', b'5'],\n",
       "       [b'6', b'7', b'8', b'4', b'3']], dtype='|S11')"
      ]
     },
     "execution_count": 39,
     "metadata": {},
     "output_type": "execute_result"
    }
   ],
   "source": [
    "arr3"
   ]
  },
  {
   "cell_type": "markdown",
   "id": "f40b434d-8439-4185-882e-ba48d6725e23",
   "metadata": {},
   "source": [
    "## Arithmetic with numpy arrays"
   ]
  },
  {
   "cell_type": "code",
   "execution_count": 40,
   "id": "7baa2d3c-25df-4f8b-b56b-a45e09470e15",
   "metadata": {},
   "outputs": [],
   "source": [
    "arr1 = np.array([[1, 2, 3], [4, 5, 6]])"
   ]
  },
  {
   "cell_type": "code",
   "execution_count": 41,
   "id": "9013deef-9aee-4432-aadf-0bf0a6b063cb",
   "metadata": {},
   "outputs": [],
   "source": [
    "arr2 = np.array([[2, 3, 5], [6, 9, 7]])"
   ]
  },
  {
   "cell_type": "code",
   "execution_count": 42,
   "id": "733b9435-e914-426c-acf6-b921eab88bd2",
   "metadata": {},
   "outputs": [
    {
     "data": {
      "text/plain": [
       "(array([[1, 2, 3],\n",
       "        [4, 5, 6]]),\n",
       " array([[2, 3, 5],\n",
       "        [6, 9, 7]]))"
      ]
     },
     "execution_count": 42,
     "metadata": {},
     "output_type": "execute_result"
    }
   ],
   "source": [
    "arr1, arr2"
   ]
  },
  {
   "cell_type": "code",
   "execution_count": 43,
   "id": "7aaa3a08-4313-4bb0-a5d1-d1959e2c2705",
   "metadata": {},
   "outputs": [
    {
     "data": {
      "text/plain": [
       "array([[ 2,  6, 15],\n",
       "       [24, 45, 42]])"
      ]
     },
     "execution_count": 43,
     "metadata": {},
     "output_type": "execute_result"
    }
   ],
   "source": [
    "arr1 * arr2"
   ]
  },
  {
   "cell_type": "code",
   "execution_count": 44,
   "id": "b52154ec-ee50-4109-bf32-9d23594f24d3",
   "metadata": {},
   "outputs": [
    {
     "data": {
      "text/plain": [
       "array([[2, 3, 4],\n",
       "       [5, 6, 7]])"
      ]
     },
     "execution_count": 44,
     "metadata": {},
     "output_type": "execute_result"
    }
   ],
   "source": [
    "arr1 + 1"
   ]
  },
  {
   "cell_type": "code",
   "execution_count": 45,
   "id": "567e5c3e-d7c3-4e3d-b80d-5c3155a32949",
   "metadata": {},
   "outputs": [
    {
     "data": {
      "text/plain": [
       "array([[21, 20, 18],\n",
       "       [17, 14, 16]])"
      ]
     },
     "execution_count": 45,
     "metadata": {},
     "output_type": "execute_result"
    }
   ],
   "source": [
    "23 - arr2"
   ]
  },
  {
   "cell_type": "code",
   "execution_count": 46,
   "id": "95549372-5a31-4693-9350-bc4bd156043b",
   "metadata": {},
   "outputs": [
    {
     "data": {
      "text/plain": [
       "array([[1.        , 0.5       , 0.33333333],\n",
       "       [0.25      , 0.2       , 0.16666667]])"
      ]
     },
     "execution_count": 46,
     "metadata": {},
     "output_type": "execute_result"
    }
   ],
   "source": [
    "1 / arr1"
   ]
  },
  {
   "cell_type": "code",
   "execution_count": 47,
   "id": "de68ae67-55d9-4011-a141-195f9aeb833d",
   "metadata": {},
   "outputs": [
    {
     "data": {
      "text/plain": [
       "array([[ 1,  4,  9],\n",
       "       [16, 25, 36]])"
      ]
     },
     "execution_count": 47,
     "metadata": {},
     "output_type": "execute_result"
    }
   ],
   "source": [
    "arr1 ** 2"
   ]
  },
  {
   "cell_type": "code",
   "execution_count": 48,
   "id": "f79ffa26-2e91-4a50-bfaa-49880cd67a19",
   "metadata": {},
   "outputs": [
    {
     "data": {
      "text/plain": [
       "array([[1, 0, 1],\n",
       "       [0, 1, 0]], dtype=int32)"
      ]
     },
     "execution_count": 48,
     "metadata": {},
     "output_type": "execute_result"
    }
   ],
   "source": [
    "arr1 % 2"
   ]
  },
  {
   "cell_type": "code",
   "execution_count": 49,
   "id": "e8e833fb-947c-46dd-a720-ca36fe7d13c1",
   "metadata": {},
   "outputs": [
    {
     "data": {
      "text/plain": [
       "array([[      1,       8,     243],\n",
       "       [   4096, 1953125,  279936]])"
      ]
     },
     "execution_count": 49,
     "metadata": {},
     "output_type": "execute_result"
    }
   ],
   "source": [
    "arr1 ** arr2"
   ]
  },
  {
   "cell_type": "code",
   "execution_count": 50,
   "id": "8eecf24e-9dd2-4009-b198-b786f7bb00b2",
   "metadata": {},
   "outputs": [
    {
     "data": {
      "text/plain": [
       "array([[ True,  True,  True],\n",
       "       [ True,  True,  True]])"
      ]
     },
     "execution_count": 50,
     "metadata": {},
     "output_type": "execute_result"
    }
   ],
   "source": [
    "arr2 > arr1"
   ]
  },
  {
   "cell_type": "code",
   "execution_count": 51,
   "id": "85e792a6-ae2a-4367-b47d-6bd5216085d9",
   "metadata": {},
   "outputs": [
    {
     "data": {
      "text/plain": [
       "array([[False, False, False],\n",
       "       [False, False, False]])"
      ]
     },
     "execution_count": 51,
     "metadata": {},
     "output_type": "execute_result"
    }
   ],
   "source": [
    "arr1 > arr2"
   ]
  },
  {
   "cell_type": "markdown",
   "id": "711f147d-c4ec-44ea-8eb4-fa04e57d3421",
   "metadata": {},
   "source": [
    "## indexing and slicing"
   ]
  },
  {
   "cell_type": "code",
   "execution_count": 52,
   "id": "5fcec8b7-d2b6-40c3-900b-077873b48439",
   "metadata": {},
   "outputs": [],
   "source": [
    "arr1 = np.arange(10)"
   ]
  },
  {
   "cell_type": "code",
   "execution_count": 53,
   "id": "4bac1468-6b04-40f5-b909-3ce45e0ff2f7",
   "metadata": {},
   "outputs": [
    {
     "data": {
      "text/plain": [
       "array([0, 1, 2, 3, 4, 5, 6, 7, 8, 9])"
      ]
     },
     "execution_count": 53,
     "metadata": {},
     "output_type": "execute_result"
    }
   ],
   "source": [
    "arr1"
   ]
  },
  {
   "cell_type": "code",
   "execution_count": 54,
   "id": "d27d7740-ad76-4bfd-8ce7-fb6e6f8a6900",
   "metadata": {},
   "outputs": [
    {
     "data": {
      "text/plain": [
       "5"
      ]
     },
     "execution_count": 54,
     "metadata": {},
     "output_type": "execute_result"
    }
   ],
   "source": [
    "arr1[5]"
   ]
  },
  {
   "cell_type": "code",
   "execution_count": 55,
   "id": "09de7a5b-1491-47b9-b27c-ba74b6924493",
   "metadata": {},
   "outputs": [
    {
     "data": {
      "text/plain": [
       "array([2, 3, 4])"
      ]
     },
     "execution_count": 55,
     "metadata": {},
     "output_type": "execute_result"
    }
   ],
   "source": [
    "arr1[2:5]"
   ]
  },
  {
   "cell_type": "code",
   "execution_count": 56,
   "id": "b4868abd-bbd7-402f-832d-47cc860204c6",
   "metadata": {},
   "outputs": [
    {
     "data": {
      "text/plain": [
       "array([9, 8, 7, 6, 5, 4, 3, 2, 1, 0])"
      ]
     },
     "execution_count": 56,
     "metadata": {},
     "output_type": "execute_result"
    }
   ],
   "source": [
    "arr1[::-1]"
   ]
  },
  {
   "cell_type": "code",
   "execution_count": 57,
   "id": "d30a8b0d-cdf4-49f7-99e7-b8114b234f5e",
   "metadata": {},
   "outputs": [
    {
     "data": {
      "text/plain": [
       "array([6, 9, 7])"
      ]
     },
     "execution_count": 57,
     "metadata": {},
     "output_type": "execute_result"
    }
   ],
   "source": [
    "arr2[1]"
   ]
  },
  {
   "cell_type": "code",
   "execution_count": 58,
   "id": "26a7f897-defc-4ea5-b94d-f8f1d2787d97",
   "metadata": {},
   "outputs": [
    {
     "data": {
      "text/plain": [
       "array([[2, 3, 5],\n",
       "       [6, 9, 7]])"
      ]
     },
     "execution_count": 58,
     "metadata": {},
     "output_type": "execute_result"
    }
   ],
   "source": [
    "arr2[0:]"
   ]
  },
  {
   "cell_type": "code",
   "execution_count": 59,
   "id": "03893386-bdba-4945-8a40-9c85910299a9",
   "metadata": {},
   "outputs": [
    {
     "data": {
      "text/plain": [
       "7"
      ]
     },
     "execution_count": 59,
     "metadata": {},
     "output_type": "execute_result"
    }
   ],
   "source": [
    "arr2[1][2]"
   ]
  },
  {
   "cell_type": "code",
   "execution_count": 60,
   "id": "b2403220-8aad-4ab8-b2c5-3fca3ae8828f",
   "metadata": {},
   "outputs": [],
   "source": [
    "arr2[0][0] = 1234"
   ]
  },
  {
   "cell_type": "code",
   "execution_count": 61,
   "id": "e5a81c81-3eac-44e8-abe2-4650a08995cb",
   "metadata": {},
   "outputs": [
    {
     "data": {
      "text/plain": [
       "array([[1234,    3,    5],\n",
       "       [   6,    9,    7]])"
      ]
     },
     "execution_count": 61,
     "metadata": {},
     "output_type": "execute_result"
    }
   ],
   "source": [
    "arr2"
   ]
  },
  {
   "cell_type": "code",
   "execution_count": 62,
   "id": "79f07aca-b5b3-4653-99ee-ddbebca7d39b",
   "metadata": {},
   "outputs": [],
   "source": [
    "arr1[2:5] = 123"
   ]
  },
  {
   "cell_type": "code",
   "execution_count": 63,
   "id": "202fb3bd-9aaf-4612-b4ac-c8aff318cd64",
   "metadata": {},
   "outputs": [
    {
     "data": {
      "text/plain": [
       "array([  0,   1, 123, 123, 123,   5,   6,   7,   8,   9])"
      ]
     },
     "execution_count": 63,
     "metadata": {},
     "output_type": "execute_result"
    }
   ],
   "source": [
    "arr1"
   ]
  },
  {
   "cell_type": "code",
   "execution_count": 64,
   "id": "1fe49aad-f5ec-446b-8d11-6cef65ee90fa",
   "metadata": {},
   "outputs": [],
   "source": [
    "arr_slice = arr1[2:5]"
   ]
  },
  {
   "cell_type": "code",
   "execution_count": 65,
   "id": "604e4c2f-7e5c-4033-bbae-bfaa0c822717",
   "metadata": {},
   "outputs": [
    {
     "data": {
      "text/plain": [
       "array([123, 123, 123])"
      ]
     },
     "execution_count": 65,
     "metadata": {},
     "output_type": "execute_result"
    }
   ],
   "source": [
    "arr_slice"
   ]
  },
  {
   "cell_type": "code",
   "execution_count": 66,
   "id": "add2153d-594c-41fc-b0db-ca7b0c7b1c77",
   "metadata": {},
   "outputs": [],
   "source": [
    "arr_slice[2] = 45"
   ]
  },
  {
   "cell_type": "code",
   "execution_count": 67,
   "id": "e3a6c991-8f52-4b62-9b01-c953a71eebe4",
   "metadata": {},
   "outputs": [
    {
     "data": {
      "text/plain": [
       "array([123, 123,  45])"
      ]
     },
     "execution_count": 67,
     "metadata": {},
     "output_type": "execute_result"
    }
   ],
   "source": [
    "arr_slice"
   ]
  },
  {
   "cell_type": "code",
   "execution_count": 68,
   "id": "45c81433-3fec-49a5-8286-c182760a4383",
   "metadata": {},
   "outputs": [
    {
     "data": {
      "text/plain": [
       "array([  0,   1, 123, 123,  45,   5,   6,   7,   8,   9])"
      ]
     },
     "execution_count": 68,
     "metadata": {},
     "output_type": "execute_result"
    }
   ],
   "source": [
    "arr1"
   ]
  },
  {
   "cell_type": "code",
   "execution_count": 69,
   "id": "c3f1367a-c009-4ba0-af43-a0ee173f218b",
   "metadata": {},
   "outputs": [],
   "source": [
    "copied_array = arr1[2:5].copy()"
   ]
  },
  {
   "cell_type": "code",
   "execution_count": 70,
   "id": "5a4d1551-67fe-491a-9a1b-075d42cb61c8",
   "metadata": {},
   "outputs": [],
   "source": [
    "copied_array[0] = 78"
   ]
  },
  {
   "cell_type": "code",
   "execution_count": 71,
   "id": "f4999832-6685-4b87-882e-5c9195511941",
   "metadata": {},
   "outputs": [
    {
     "data": {
      "text/plain": [
       "array([ 78, 123,  45])"
      ]
     },
     "execution_count": 71,
     "metadata": {},
     "output_type": "execute_result"
    }
   ],
   "source": [
    "copied_array"
   ]
  },
  {
   "cell_type": "code",
   "execution_count": 72,
   "id": "e394710a-991d-47d9-b726-1be99153bf45",
   "metadata": {},
   "outputs": [
    {
     "data": {
      "text/plain": [
       "array([  0,   1, 123, 123,  45,   5,   6,   7,   8,   9])"
      ]
     },
     "execution_count": 72,
     "metadata": {},
     "output_type": "execute_result"
    }
   ],
   "source": [
    "arr1"
   ]
  },
  {
   "cell_type": "code",
   "execution_count": 73,
   "id": "6e26805c-1ec3-4f5d-b788-9ea705ac079b",
   "metadata": {},
   "outputs": [
    {
     "data": {
      "text/plain": [
       "7"
      ]
     },
     "execution_count": 73,
     "metadata": {},
     "output_type": "execute_result"
    }
   ],
   "source": [
    "arr2[1, 2]"
   ]
  },
  {
   "cell_type": "code",
   "execution_count": 74,
   "id": "b235d53e-7baa-48d6-a897-b39904e4a9e5",
   "metadata": {},
   "outputs": [
    {
     "data": {
      "text/plain": [
       "7"
      ]
     },
     "execution_count": 74,
     "metadata": {},
     "output_type": "execute_result"
    }
   ],
   "source": [
    "arr2[1][2]"
   ]
  },
  {
   "cell_type": "code",
   "execution_count": 75,
   "id": "1642cee1-54e0-4b08-a999-076797f0c2bf",
   "metadata": {},
   "outputs": [],
   "source": [
    "arr3d = np.array([[[1, 2, 3], [4, 5, 6]], [[7, 8, 9], [0, 11, 23]]])"
   ]
  },
  {
   "cell_type": "code",
   "execution_count": 76,
   "id": "d2d9f13d-ca1d-4bac-b4af-ccce42b83641",
   "metadata": {},
   "outputs": [
    {
     "data": {
      "text/plain": [
       "array([[[ 1,  2,  3],\n",
       "        [ 4,  5,  6]],\n",
       "\n",
       "       [[ 7,  8,  9],\n",
       "        [ 0, 11, 23]]])"
      ]
     },
     "execution_count": 76,
     "metadata": {},
     "output_type": "execute_result"
    }
   ],
   "source": [
    "arr3d"
   ]
  },
  {
   "cell_type": "code",
   "execution_count": 77,
   "id": "31d04f74-acc9-4f3b-8c9a-ecd93e4006ec",
   "metadata": {},
   "outputs": [
    {
     "data": {
      "text/plain": [
       "array([[1, 2, 3],\n",
       "       [4, 5, 6]])"
      ]
     },
     "execution_count": 77,
     "metadata": {},
     "output_type": "execute_result"
    }
   ],
   "source": [
    "arr3d[0]"
   ]
  },
  {
   "cell_type": "code",
   "execution_count": 78,
   "id": "bf2e674e-a74b-4a95-84fb-84babba7d0e9",
   "metadata": {},
   "outputs": [
    {
     "data": {
      "text/plain": [
       "array([1, 2, 3])"
      ]
     },
     "execution_count": 78,
     "metadata": {},
     "output_type": "execute_result"
    }
   ],
   "source": [
    "arr3d[0][0]"
   ]
  },
  {
   "cell_type": "code",
   "execution_count": 79,
   "id": "d89bd6ac-8031-4221-a99f-ffe3c1644e12",
   "metadata": {},
   "outputs": [],
   "source": [
    "arr3d[0] = 42"
   ]
  },
  {
   "cell_type": "code",
   "execution_count": 80,
   "id": "3ed2ce45-02a6-450d-9a98-4cb2eecdb5b5",
   "metadata": {},
   "outputs": [
    {
     "data": {
      "text/plain": [
       "array([[[42, 42, 42],\n",
       "        [42, 42, 42]],\n",
       "\n",
       "       [[ 7,  8,  9],\n",
       "        [ 0, 11, 23]]])"
      ]
     },
     "execution_count": 80,
     "metadata": {},
     "output_type": "execute_result"
    }
   ],
   "source": [
    "arr3d"
   ]
  },
  {
   "cell_type": "code",
   "execution_count": 81,
   "id": "a166e4a4-f7a1-4ae8-b851-faa4dfdaef58",
   "metadata": {},
   "outputs": [],
   "source": [
    "arr3d[0] = [[1, 2, 3], [4, 5, 6]]"
   ]
  },
  {
   "cell_type": "code",
   "execution_count": 82,
   "id": "db09d37d-6f2d-4173-b04d-7165e2ea4659",
   "metadata": {},
   "outputs": [
    {
     "data": {
      "text/plain": [
       "array([[[ 1,  2,  3],\n",
       "        [ 4,  5,  6]],\n",
       "\n",
       "       [[ 7,  8,  9],\n",
       "        [ 0, 11, 23]]])"
      ]
     },
     "execution_count": 82,
     "metadata": {},
     "output_type": "execute_result"
    }
   ],
   "source": [
    "arr3d"
   ]
  },
  {
   "cell_type": "code",
   "execution_count": 83,
   "id": "4289b84e-1edf-46c0-9e00-4deb54540b56",
   "metadata": {},
   "outputs": [
    {
     "data": {
      "text/plain": [
       "0"
      ]
     },
     "execution_count": 83,
     "metadata": {},
     "output_type": "execute_result"
    }
   ],
   "source": [
    "arr3d[1, 1, 0]"
   ]
  },
  {
   "cell_type": "code",
   "execution_count": 84,
   "id": "6b27660f-a0ce-4c0f-a50b-b5505eccc39f",
   "metadata": {},
   "outputs": [
    {
     "data": {
      "text/plain": [
       "array([  0,   1, 123, 123,  45,   5,   6,   7,   8,   9])"
      ]
     },
     "execution_count": 84,
     "metadata": {},
     "output_type": "execute_result"
    }
   ],
   "source": [
    "arr1"
   ]
  },
  {
   "cell_type": "code",
   "execution_count": 85,
   "id": "692edd04-ab8f-4398-9117-5a20fd3ad32a",
   "metadata": {},
   "outputs": [
    {
     "data": {
      "text/plain": [
       "array([[1234,    3,    5],\n",
       "       [   6,    9,    7]])"
      ]
     },
     "execution_count": 85,
     "metadata": {},
     "output_type": "execute_result"
    }
   ],
   "source": [
    "arr2"
   ]
  },
  {
   "cell_type": "code",
   "execution_count": 86,
   "id": "1b5c3e7e-f887-4989-9c6b-7691f0e8cba4",
   "metadata": {},
   "outputs": [],
   "source": [
    "arr2 = np.array([[1, 2, 3], [4, 5, 6], [7, 8, 9]])"
   ]
  },
  {
   "cell_type": "code",
   "execution_count": 87,
   "id": "33308399-e721-43dc-a222-fac05fccf1b2",
   "metadata": {},
   "outputs": [
    {
     "data": {
      "text/plain": [
       "array([[1, 2, 3],\n",
       "       [4, 5, 6]])"
      ]
     },
     "execution_count": 87,
     "metadata": {},
     "output_type": "execute_result"
    }
   ],
   "source": [
    "arr2[:2]"
   ]
  },
  {
   "cell_type": "code",
   "execution_count": 88,
   "id": "4f3e8260-428d-404c-a572-f03f17232676",
   "metadata": {},
   "outputs": [
    {
     "data": {
      "text/plain": [
       "array([[2, 3],\n",
       "       [5, 6]])"
      ]
     },
     "execution_count": 88,
     "metadata": {},
     "output_type": "execute_result"
    }
   ],
   "source": [
    "arr2[:2, 1:]"
   ]
  },
  {
   "cell_type": "code",
   "execution_count": 89,
   "id": "53dfcdd0-78e6-4d58-8218-64a3df0a19fb",
   "metadata": {},
   "outputs": [
    {
     "data": {
      "text/plain": [
       "array([5, 6])"
      ]
     },
     "execution_count": 89,
     "metadata": {},
     "output_type": "execute_result"
    }
   ],
   "source": [
    "arr2[1, 1:]    #if use integer it will give a lower dimension array"
   ]
  },
  {
   "cell_type": "code",
   "execution_count": 90,
   "id": "0051cd58-04e7-4b43-b728-31a1492f1954",
   "metadata": {},
   "outputs": [
    {
     "data": {
      "text/plain": [
       "(2,)"
      ]
     },
     "execution_count": 90,
     "metadata": {},
     "output_type": "execute_result"
    }
   ],
   "source": [
    "arr2[1, :2].shape"
   ]
  },
  {
   "cell_type": "code",
   "execution_count": 91,
   "id": "6ed7e37c-d4d3-4435-aa2b-8a23b9fb74c3",
   "metadata": {},
   "outputs": [
    {
     "data": {
      "text/plain": [
       "array([4])"
      ]
     },
     "execution_count": 91,
     "metadata": {},
     "output_type": "execute_result"
    }
   ],
   "source": [
    "arr2[1, :1]"
   ]
  },
  {
   "cell_type": "code",
   "execution_count": 92,
   "id": "de5683dd-806f-4527-991e-8bb1dc95c950",
   "metadata": {},
   "outputs": [
    {
     "data": {
      "text/plain": [
       "array([3, 6])"
      ]
     },
     "execution_count": 92,
     "metadata": {},
     "output_type": "execute_result"
    }
   ],
   "source": [
    "arr2[:2, 2]"
   ]
  },
  {
   "cell_type": "code",
   "execution_count": 93,
   "id": "d5bb9baa-6f6b-4f55-9d3a-6b94fe620883",
   "metadata": {},
   "outputs": [
    {
     "data": {
      "text/plain": [
       "array([[1],\n",
       "       [4],\n",
       "       [7]])"
      ]
     },
     "execution_count": 93,
     "metadata": {},
     "output_type": "execute_result"
    }
   ],
   "source": [
    "arr2[:, :1]"
   ]
  },
  {
   "cell_type": "code",
   "execution_count": 94,
   "id": "8194563c-72e2-451d-90c1-1a069f683f3b",
   "metadata": {},
   "outputs": [
    {
     "data": {
      "text/plain": [
       "array([[1, 2],\n",
       "       [4, 5],\n",
       "       [7, 8]])"
      ]
     },
     "execution_count": 94,
     "metadata": {},
     "output_type": "execute_result"
    }
   ],
   "source": [
    "arr2[:, :2]"
   ]
  },
  {
   "cell_type": "code",
   "execution_count": 95,
   "id": "a94d5b9d-9fc0-4711-b118-f41483efd966",
   "metadata": {},
   "outputs": [
    {
     "data": {
      "text/plain": [
       "array([[1, 2],\n",
       "       [4, 5]])"
      ]
     },
     "execution_count": 95,
     "metadata": {},
     "output_type": "execute_result"
    }
   ],
   "source": [
    "arr2[:2, :2]"
   ]
  },
  {
   "cell_type": "code",
   "execution_count": 96,
   "id": "bf465b31-0d02-4352-8205-6c2b5a2dd3c4",
   "metadata": {},
   "outputs": [],
   "source": [
    "arr2[:2, 1:] = 0"
   ]
  },
  {
   "cell_type": "code",
   "execution_count": 97,
   "id": "6f3c8643-d2bd-4336-a250-ae8707fb5056",
   "metadata": {},
   "outputs": [
    {
     "data": {
      "text/plain": [
       "array([[1, 0, 0],\n",
       "       [4, 0, 0],\n",
       "       [7, 8, 9]])"
      ]
     },
     "execution_count": 97,
     "metadata": {},
     "output_type": "execute_result"
    }
   ],
   "source": [
    "arr2"
   ]
  },
  {
   "cell_type": "code",
   "execution_count": 98,
   "id": "2e9eb141-e7ba-4046-b73a-5c2cd32ffa6b",
   "metadata": {},
   "outputs": [
    {
     "data": {
      "text/plain": [
       "array([[4, 0]])"
      ]
     },
     "execution_count": 98,
     "metadata": {},
     "output_type": "execute_result"
    }
   ],
   "source": [
    "arr2[1:2, :2]"
   ]
  },
  {
   "cell_type": "markdown",
   "id": "2ac718be-4618-49b3-9a02-0361a8891956",
   "metadata": {},
   "source": [
    "## boolean indexing"
   ]
  },
  {
   "cell_type": "code",
   "execution_count": 99,
   "id": "8ed3cac6-cbe8-4803-8eef-d094216e41fd",
   "metadata": {},
   "outputs": [],
   "source": [
    "names = np.array([\"Bob\", \"Joe\", \"Will\", \"Bob\", \"Will\", \"Joe\", \"Joe\"])"
   ]
  },
  {
   "cell_type": "code",
   "execution_count": 100,
   "id": "11b7a5fd-dbd9-492e-a4e0-c63a37752744",
   "metadata": {},
   "outputs": [],
   "source": [
    "data = np.array([[4, 7], [3, -2], [0, 7], [5, -4], [9, -1], [0, 6], [-1, -2]])"
   ]
  },
  {
   "cell_type": "code",
   "execution_count": 101,
   "id": "08519feb-225a-45b0-a4a8-44f58459e149",
   "metadata": {},
   "outputs": [
    {
     "data": {
      "text/plain": [
       "array([ True, False, False,  True, False, False, False])"
      ]
     },
     "execution_count": 101,
     "metadata": {},
     "output_type": "execute_result"
    }
   ],
   "source": [
    "names == 'Bob'"
   ]
  },
  {
   "cell_type": "code",
   "execution_count": 102,
   "id": "a59fa58f-b0e5-466e-a699-af811c024130",
   "metadata": {},
   "outputs": [
    {
     "data": {
      "text/plain": [
       "array([[ 4,  7],\n",
       "       [ 5, -4]])"
      ]
     },
     "execution_count": 102,
     "metadata": {},
     "output_type": "execute_result"
    }
   ],
   "source": [
    "data[names == 'Bob']"
   ]
  },
  {
   "cell_type": "code",
   "execution_count": 103,
   "id": "9c2b9ad6-149a-461a-af73-3a386325e411",
   "metadata": {},
   "outputs": [
    {
     "data": {
      "text/plain": [
       "array([4, 5])"
      ]
     },
     "execution_count": 103,
     "metadata": {},
     "output_type": "execute_result"
    }
   ],
   "source": [
    "data[names == 'Bob', 0]"
   ]
  },
  {
   "cell_type": "code",
   "execution_count": 104,
   "id": "4a7e1822-4ce7-4c40-8b19-716ec6d60497",
   "metadata": {},
   "outputs": [
    {
     "data": {
      "text/plain": [
       "array([[4],\n",
       "       [5]])"
      ]
     },
     "execution_count": 104,
     "metadata": {},
     "output_type": "execute_result"
    }
   ],
   "source": [
    "data[names == 'Bob', :1]"
   ]
  },
  {
   "cell_type": "code",
   "execution_count": 105,
   "id": "f519386c-0e1a-4718-8c3c-3b83cb7a197f",
   "metadata": {},
   "outputs": [
    {
     "data": {
      "text/plain": [
       "array([False,  True,  True, False,  True,  True,  True])"
      ]
     },
     "execution_count": 105,
     "metadata": {},
     "output_type": "execute_result"
    }
   ],
   "source": [
    "names != 'Bob'"
   ]
  },
  {
   "cell_type": "code",
   "execution_count": 106,
   "id": "c3fff199-c4b6-4832-b724-c6085abdf9cd",
   "metadata": {},
   "outputs": [
    {
     "data": {
      "text/plain": [
       "array([False,  True,  True, False,  True,  True,  True])"
      ]
     },
     "execution_count": 106,
     "metadata": {},
     "output_type": "execute_result"
    }
   ],
   "source": [
    "~(names == 'Bob')"
   ]
  },
  {
   "cell_type": "code",
   "execution_count": 107,
   "id": "04e1da0b-5f0a-47af-ad43-fe54312c6da5",
   "metadata": {},
   "outputs": [],
   "source": [
    "index_to_slice = names == 'Bob'"
   ]
  },
  {
   "cell_type": "code",
   "execution_count": 108,
   "id": "e7e643df-030e-4f4b-a9ed-3af688b6a38e",
   "metadata": {},
   "outputs": [],
   "source": [
    "modified_data = data[~index_to_slice]"
   ]
  },
  {
   "cell_type": "code",
   "execution_count": 109,
   "id": "eeb1b91d-6f8e-4c33-be65-4c6c4401aff8",
   "metadata": {},
   "outputs": [
    {
     "data": {
      "text/plain": [
       "array([[ 3, -2],\n",
       "       [ 0,  7],\n",
       "       [ 9, -1],\n",
       "       [ 0,  6],\n",
       "       [-1, -2]])"
      ]
     },
     "execution_count": 109,
     "metadata": {},
     "output_type": "execute_result"
    }
   ],
   "source": [
    "modified_data"
   ]
  },
  {
   "cell_type": "code",
   "execution_count": 110,
   "id": "aaaa7018-8072-4ad7-90dd-281db6cfe1e5",
   "metadata": {},
   "outputs": [
    {
     "data": {
      "text/plain": [
       "array([[ 4,  7],\n",
       "       [ 3, -2],\n",
       "       [ 0,  7],\n",
       "       [ 5, -4],\n",
       "       [ 9, -1],\n",
       "       [ 0,  6],\n",
       "       [-1, -2]])"
      ]
     },
     "execution_count": 110,
     "metadata": {},
     "output_type": "execute_result"
    }
   ],
   "source": [
    "data"
   ]
  },
  {
   "cell_type": "code",
   "execution_count": 111,
   "id": "6d2033a0-5eb4-4f57-8abb-9b5bcdd12cf6",
   "metadata": {},
   "outputs": [],
   "source": [
    "mask = (names == 'Bob') | (names == 'Joe')"
   ]
  },
  {
   "cell_type": "code",
   "execution_count": 112,
   "id": "e79d5748-a6d1-4436-9c39-22e50c8c39d1",
   "metadata": {},
   "outputs": [
    {
     "data": {
      "text/plain": [
       "array([ True,  True, False,  True, False,  True,  True])"
      ]
     },
     "execution_count": 112,
     "metadata": {},
     "output_type": "execute_result"
    }
   ],
   "source": [
    "mask"
   ]
  },
  {
   "cell_type": "code",
   "execution_count": 113,
   "id": "99d7e34a-476a-4769-b78d-142dd053c317",
   "metadata": {},
   "outputs": [
    {
     "data": {
      "text/plain": [
       "array([[ 4,  7],\n",
       "       [ 3, -2],\n",
       "       [ 5, -4],\n",
       "       [ 0,  6],\n",
       "       [-1, -2]])"
      ]
     },
     "execution_count": 113,
     "metadata": {},
     "output_type": "execute_result"
    }
   ],
   "source": [
    "data[mask]"
   ]
  },
  {
   "cell_type": "code",
   "execution_count": 114,
   "id": "0c41f91d-11ec-42d6-b6b3-634f1f6fa25a",
   "metadata": {},
   "outputs": [],
   "source": [
    "data[data < 0] = 0"
   ]
  },
  {
   "cell_type": "code",
   "execution_count": 115,
   "id": "48907272-bf6f-45bb-b60f-d4903903f369",
   "metadata": {},
   "outputs": [
    {
     "data": {
      "text/plain": [
       "array([[4, 7],\n",
       "       [3, 0],\n",
       "       [0, 7],\n",
       "       [5, 0],\n",
       "       [9, 0],\n",
       "       [0, 6],\n",
       "       [0, 0]])"
      ]
     },
     "execution_count": 115,
     "metadata": {},
     "output_type": "execute_result"
    }
   ],
   "source": [
    "data"
   ]
  },
  {
   "cell_type": "code",
   "execution_count": 116,
   "id": "a88e5b37-4563-4129-870a-775ed814b19d",
   "metadata": {},
   "outputs": [],
   "source": [
    "data[names == 'Bob'] = 123"
   ]
  },
  {
   "cell_type": "code",
   "execution_count": 117,
   "id": "78f4c84b-f891-41a6-a05b-04d9872186e2",
   "metadata": {},
   "outputs": [
    {
     "data": {
      "text/plain": [
       "array([[123, 123],\n",
       "       [  3,   0],\n",
       "       [  0,   7],\n",
       "       [123, 123],\n",
       "       [  9,   0],\n",
       "       [  0,   6],\n",
       "       [  0,   0]])"
      ]
     },
     "execution_count": 117,
     "metadata": {},
     "output_type": "execute_result"
    }
   ],
   "source": [
    "data"
   ]
  },
  {
   "cell_type": "markdown",
   "id": "41363496-91f8-460e-9a02-f8f9c90db10d",
   "metadata": {},
   "source": [
    "## fancy indexing"
   ]
  },
  {
   "cell_type": "code",
   "execution_count": 118,
   "id": "d5cd1f55-7477-4072-8d6f-c3855f314fd3",
   "metadata": {},
   "outputs": [],
   "source": [
    "arr = np.zeros((8, 4), dtype= np.int32)"
   ]
  },
  {
   "cell_type": "code",
   "execution_count": 119,
   "id": "65e273fd-1f1b-4083-a2ad-8f95285adf40",
   "metadata": {},
   "outputs": [
    {
     "data": {
      "text/plain": [
       "array([[0, 0, 0, 0],\n",
       "       [0, 0, 0, 0],\n",
       "       [0, 0, 0, 0],\n",
       "       [0, 0, 0, 0],\n",
       "       [0, 0, 0, 0],\n",
       "       [0, 0, 0, 0],\n",
       "       [0, 0, 0, 0],\n",
       "       [0, 0, 0, 0]])"
      ]
     },
     "execution_count": 119,
     "metadata": {},
     "output_type": "execute_result"
    }
   ],
   "source": [
    "arr"
   ]
  },
  {
   "cell_type": "code",
   "execution_count": 120,
   "id": "fc7f7c1b-a703-47c4-87f8-c19f1ac6b05f",
   "metadata": {},
   "outputs": [],
   "source": [
    "for i in range(8):\n",
    "    arr[i] = i"
   ]
  },
  {
   "cell_type": "code",
   "execution_count": 121,
   "id": "390e01b9-7903-4527-aa79-0762ddcccc31",
   "metadata": {},
   "outputs": [
    {
     "data": {
      "text/plain": [
       "array([[0, 0, 0, 0],\n",
       "       [1, 1, 1, 1],\n",
       "       [2, 2, 2, 2],\n",
       "       [3, 3, 3, 3],\n",
       "       [4, 4, 4, 4],\n",
       "       [5, 5, 5, 5],\n",
       "       [6, 6, 6, 6],\n",
       "       [7, 7, 7, 7]])"
      ]
     },
     "execution_count": 121,
     "metadata": {},
     "output_type": "execute_result"
    }
   ],
   "source": [
    "arr"
   ]
  },
  {
   "cell_type": "code",
   "execution_count": 122,
   "id": "c06b8483-5b5c-46e9-874b-0004890ac64e",
   "metadata": {},
   "outputs": [
    {
     "data": {
      "text/plain": [
       "array([[1, 1, 1, 1],\n",
       "       [5, 5, 5, 5],\n",
       "       [3, 3, 3, 3]])"
      ]
     },
     "execution_count": 122,
     "metadata": {},
     "output_type": "execute_result"
    }
   ],
   "source": [
    "arr[[1, 5, 3]]"
   ]
  },
  {
   "cell_type": "code",
   "execution_count": 123,
   "id": "f2fbfbd0-80ad-4a37-be06-361c8bac2b18",
   "metadata": {},
   "outputs": [],
   "source": [
    "arr = np.arange(45).reshape(9, 5)"
   ]
  },
  {
   "cell_type": "code",
   "execution_count": 124,
   "id": "c825e844-2f2e-405a-a859-7f68ba3b5ea6",
   "metadata": {},
   "outputs": [
    {
     "data": {
      "text/plain": [
       "array([[ 0,  1,  2,  3,  4],\n",
       "       [ 5,  6,  7,  8,  9],\n",
       "       [10, 11, 12, 13, 14],\n",
       "       [15, 16, 17, 18, 19],\n",
       "       [20, 21, 22, 23, 24],\n",
       "       [25, 26, 27, 28, 29],\n",
       "       [30, 31, 32, 33, 34],\n",
       "       [35, 36, 37, 38, 39],\n",
       "       [40, 41, 42, 43, 44]])"
      ]
     },
     "execution_count": 124,
     "metadata": {},
     "output_type": "execute_result"
    }
   ],
   "source": [
    "arr"
   ]
  },
  {
   "cell_type": "code",
   "execution_count": 125,
   "id": "a56fc392-4efd-48e1-8664-d4bed54a879d",
   "metadata": {},
   "outputs": [
    {
     "data": {
      "text/plain": [
       "array([38, 24, 44])"
      ]
     },
     "execution_count": 125,
     "metadata": {},
     "output_type": "execute_result"
    }
   ],
   "source": [
    "arr[[-2, 4, -1], [3, 4, -1]]"
   ]
  },
  {
   "cell_type": "code",
   "execution_count": 126,
   "id": "f56dce6d-caaa-45ef-b303-6b60a467b8ec",
   "metadata": {},
   "outputs": [
    {
     "data": {
      "text/plain": [
       "array([[13, 12, 10, 11],\n",
       "       [18, 17, 15, 16],\n",
       "       [28, 27, 25, 26],\n",
       "       [38, 37, 35, 36]])"
      ]
     },
     "execution_count": 126,
     "metadata": {},
     "output_type": "execute_result"
    }
   ],
   "source": [
    "arr[[2, 3, 5, 7]][:, [3, 2, 0, 1]]   #to get columns in this arrangement"
   ]
  },
  {
   "cell_type": "code",
   "execution_count": 127,
   "id": "7fb9bf45-cf66-4e3c-a62a-2452491437fc",
   "metadata": {},
   "outputs": [],
   "source": [
    "arr[[1, 4, 3, 5], [1, 2, 1, 3]] = 0"
   ]
  },
  {
   "cell_type": "code",
   "execution_count": 128,
   "id": "f8388267-608e-45e1-852a-82bfbec3e7b4",
   "metadata": {},
   "outputs": [
    {
     "data": {
      "text/plain": [
       "array([[ 0,  1,  2,  3,  4],\n",
       "       [ 5,  0,  7,  8,  9],\n",
       "       [10, 11, 12, 13, 14],\n",
       "       [15,  0, 17, 18, 19],\n",
       "       [20, 21,  0, 23, 24],\n",
       "       [25, 26, 27,  0, 29],\n",
       "       [30, 31, 32, 33, 34],\n",
       "       [35, 36, 37, 38, 39],\n",
       "       [40, 41, 42, 43, 44]])"
      ]
     },
     "execution_count": 128,
     "metadata": {},
     "output_type": "execute_result"
    }
   ],
   "source": [
    "arr"
   ]
  },
  {
   "cell_type": "markdown",
   "id": "056b56a7-6252-4a9c-8117-8eca6df3ed9c",
   "metadata": {},
   "source": [
    "## Transposing and Swapping axes"
   ]
  },
  {
   "cell_type": "code",
   "execution_count": 129,
   "id": "7c20d8e8-65a1-4cc1-9915-8fbb87730636",
   "metadata": {},
   "outputs": [
    {
     "data": {
      "text/plain": [
       "array([[ 0,  5, 10, 15, 20, 25, 30, 35, 40],\n",
       "       [ 1,  0, 11,  0, 21, 26, 31, 36, 41],\n",
       "       [ 2,  7, 12, 17,  0, 27, 32, 37, 42],\n",
       "       [ 3,  8, 13, 18, 23,  0, 33, 38, 43],\n",
       "       [ 4,  9, 14, 19, 24, 29, 34, 39, 44]])"
      ]
     },
     "execution_count": 129,
     "metadata": {},
     "output_type": "execute_result"
    }
   ],
   "source": [
    "arr.T"
   ]
  },
  {
   "cell_type": "code",
   "execution_count": 130,
   "id": "6bd1debf-910b-4095-aaa8-83c0083fff79",
   "metadata": {},
   "outputs": [
    {
     "data": {
      "text/plain": [
       "array([[ 0,  5, 10, 15, 20, 25, 30, 35, 40],\n",
       "       [ 1,  0, 11,  0, 21, 26, 31, 36, 41],\n",
       "       [ 2,  7, 12, 17,  0, 27, 32, 37, 42],\n",
       "       [ 3,  8, 13, 18, 23,  0, 33, 38, 43],\n",
       "       [ 4,  9, 14, 19, 24, 29, 34, 39, 44]])"
      ]
     },
     "execution_count": 130,
     "metadata": {},
     "output_type": "execute_result"
    }
   ],
   "source": [
    "arr.transpose()"
   ]
  },
  {
   "cell_type": "code",
   "execution_count": 131,
   "id": "e4627975-60e0-49bd-92bc-2cd748228d83",
   "metadata": {},
   "outputs": [
    {
     "data": {
      "text/plain": [
       "array([[ 0,  5, 10, 15, 20, 25, 30, 35, 40],\n",
       "       [ 1,  0, 11,  0, 21, 26, 31, 36, 41],\n",
       "       [ 2,  7, 12, 17,  0, 27, 32, 37, 42],\n",
       "       [ 3,  8, 13, 18, 23,  0, 33, 38, 43],\n",
       "       [ 4,  9, 14, 19, 24, 29, 34, 39, 44]])"
      ]
     },
     "execution_count": 131,
     "metadata": {},
     "output_type": "execute_result"
    }
   ],
   "source": [
    "arr.swapaxes(1, 0)"
   ]
  },
  {
   "cell_type": "code",
   "execution_count": 132,
   "id": "99874bbc-eb07-4522-bc4c-f913ffa6dbd7",
   "metadata": {},
   "outputs": [
    {
     "data": {
      "text/plain": [
       "array([[ 0,  5, 10, 15, 20, 25, 30, 35, 40],\n",
       "       [ 1,  0, 11,  0, 21, 26, 31, 36, 41],\n",
       "       [ 2,  7, 12, 17,  0, 27, 32, 37, 42],\n",
       "       [ 3,  8, 13, 18, 23,  0, 33, 38, 43],\n",
       "       [ 4,  9, 14, 19, 24, 29, 34, 39, 44]])"
      ]
     },
     "execution_count": 132,
     "metadata": {},
     "output_type": "execute_result"
    }
   ],
   "source": [
    "arr.swapaxes(0, 1)"
   ]
  },
  {
   "cell_type": "code",
   "execution_count": 133,
   "id": "da5a57be-9609-4a1d-b226-92e8c3d29a5d",
   "metadata": {},
   "outputs": [
    {
     "data": {
      "text/plain": [
       "array([[[ 1,  2,  3],\n",
       "        [ 4,  5,  6]],\n",
       "\n",
       "       [[ 7,  8,  9],\n",
       "        [ 0, 11, 23]]])"
      ]
     },
     "execution_count": 133,
     "metadata": {},
     "output_type": "execute_result"
    }
   ],
   "source": [
    "arr3d"
   ]
  },
  {
   "cell_type": "code",
   "execution_count": 134,
   "id": "2504086c-5704-44da-b160-faa7c3247799",
   "metadata": {},
   "outputs": [
    {
     "data": {
      "text/plain": [
       "array([[[ 1,  4],\n",
       "        [ 2,  5],\n",
       "        [ 3,  6]],\n",
       "\n",
       "       [[ 7,  0],\n",
       "        [ 8, 11],\n",
       "        [ 9, 23]]])"
      ]
     },
     "execution_count": 134,
     "metadata": {},
     "output_type": "execute_result"
    }
   ],
   "source": [
    "arr3d.swapaxes(2, 1)"
   ]
  },
  {
   "cell_type": "markdown",
   "id": "cb8e1545-a327-4f73-8ae9-e9d91bc31e89",
   "metadata": {},
   "source": [
    "## Matrix Multiplication"
   ]
  },
  {
   "cell_type": "code",
   "execution_count": 135,
   "id": "6f41cd0b-5d90-45b4-9eb6-3bedc796d501",
   "metadata": {},
   "outputs": [
    {
     "data": {
      "text/plain": [
       "array([[  30,   74,  130,  164,  186,  196,  330,  380,  430],\n",
       "       [  74,  219,  364,  509,  500,  575,  944, 1089, 1234],\n",
       "       [ 130,  364,  730,  854, 1066, 1266, 1930, 2230, 2530],\n",
       "       [ 164,  509,  854, 1199, 1170, 1385, 2234, 2579, 2924],\n",
       "       [ 186,  500, 1066, 1170, 1946, 1742, 2826, 3266, 3706],\n",
       "       [ 196,  575, 1266, 1385, 1742, 2871, 3406, 3941, 4476],\n",
       "       [ 330,  944, 1930, 2234, 2826, 3406, 5130, 5930, 6730],\n",
       "       [ 380, 1089, 2230, 2579, 3266, 3941, 5930, 6855, 7780],\n",
       "       [ 430, 1234, 2530, 2924, 3706, 4476, 6730, 7780, 8830]])"
      ]
     },
     "execution_count": 135,
     "metadata": {},
     "output_type": "execute_result"
    }
   ],
   "source": [
    "np.dot(arr, arr.T)"
   ]
  },
  {
   "cell_type": "code",
   "execution_count": 136,
   "id": "87e701bb-1901-49c7-8b2f-15bd832af492",
   "metadata": {},
   "outputs": [
    {
     "data": {
      "text/plain": [
       "array([[  30,   74,  130,  164,  186,  196,  330,  380,  430],\n",
       "       [  74,  219,  364,  509,  500,  575,  944, 1089, 1234],\n",
       "       [ 130,  364,  730,  854, 1066, 1266, 1930, 2230, 2530],\n",
       "       [ 164,  509,  854, 1199, 1170, 1385, 2234, 2579, 2924],\n",
       "       [ 186,  500, 1066, 1170, 1946, 1742, 2826, 3266, 3706],\n",
       "       [ 196,  575, 1266, 1385, 1742, 2871, 3406, 3941, 4476],\n",
       "       [ 330,  944, 1930, 2234, 2826, 3406, 5130, 5930, 6730],\n",
       "       [ 380, 1089, 2230, 2579, 3266, 3941, 5930, 6855, 7780],\n",
       "       [ 430, 1234, 2530, 2924, 3706, 4476, 6730, 7780, 8830]])"
      ]
     },
     "execution_count": 136,
     "metadata": {},
     "output_type": "execute_result"
    }
   ],
   "source": [
    "arr @ arr.T"
   ]
  },
  {
   "cell_type": "markdown",
   "id": "afefb592-3032-483c-8cec-d8bf08225f45",
   "metadata": {},
   "source": [
    "## Pseudorandom Number generation"
   ]
  },
  {
   "cell_type": "code",
   "execution_count": 137,
   "id": "45b19d4c-af5f-422d-aa1b-73132a290a97",
   "metadata": {},
   "outputs": [
    {
     "data": {
      "text/plain": [
       "array([[ 0.26503903, -0.15953174, -0.43360066, -1.19517473],\n",
       "       [ 1.12612437, -0.31865227, -0.39849652, -1.65957738],\n",
       "       [ 0.32611892, -1.13967752,  0.20825965, -0.8611262 ],\n",
       "       [-0.38286852, -0.7078662 , -0.76595864, -0.31514165]])"
      ]
     },
     "execution_count": 137,
     "metadata": {},
     "output_type": "execute_result"
    }
   ],
   "source": [
    "np.random.standard_normal(size= (4, 4))"
   ]
  },
  {
   "cell_type": "code",
   "execution_count": 138,
   "id": "d7ef7262-3271-41d7-8d6e-2bb51eae6d3a",
   "metadata": {},
   "outputs": [
    {
     "data": {
      "text/plain": [
       "array([[0.38772467, 0.29779528, 1.38463637, 0.50596318],\n",
       "       [0.66630632, 0.71863593, 2.74245098, 0.48116482],\n",
       "       [1.53525469, 0.52864984, 1.43831272, 0.4415974 ],\n",
       "       [1.14123397, 0.02307282, 1.18639479, 1.18382312]])"
      ]
     },
     "execution_count": 138,
     "metadata": {},
     "output_type": "execute_result"
    }
   ],
   "source": [
    "np.random.standard_exponential(size=(4, 4))"
   ]
  },
  {
   "cell_type": "code",
   "execution_count": 139,
   "id": "1ecf8f36-bfb9-4e6b-82e3-e06e392d49a9",
   "metadata": {},
   "outputs": [],
   "source": [
    "from random import normalvariate"
   ]
  },
  {
   "cell_type": "code",
   "execution_count": 140,
   "id": "2dd28436-f24c-4ae8-8d02-b1286c63357b",
   "metadata": {},
   "outputs": [],
   "source": [
    "n = 1_000_000"
   ]
  },
  {
   "cell_type": "code",
   "execution_count": 141,
   "id": "31852088-bb0f-48f2-a662-47e15e88cbce",
   "metadata": {},
   "outputs": [
    {
     "name": "stdout",
     "output_type": "stream",
     "text": [
      "977 ms ± 81.7 ms per loop (mean ± std. dev. of 7 runs, 1 loop each)\n"
     ]
    }
   ],
   "source": [
    "%timeit [normalvariate(1, 0) for _ in range(n)]"
   ]
  },
  {
   "cell_type": "code",
   "execution_count": 142,
   "id": "25caf968-4641-42c4-875b-37010cf95454",
   "metadata": {},
   "outputs": [
    {
     "name": "stdout",
     "output_type": "stream",
     "text": [
      "34.9 ms ± 3.15 ms per loop (mean ± std. dev. of 7 runs, 10 loops each)\n"
     ]
    }
   ],
   "source": [
    "%timeit np.random.standard_normal(size= n)"
   ]
  },
  {
   "cell_type": "code",
   "execution_count": 143,
   "id": "ba689f0b-2582-4aad-b907-956ca21c55a9",
   "metadata": {},
   "outputs": [],
   "source": [
    "rng = np.random.default_rng(seed= 1234)"
   ]
  },
  {
   "cell_type": "code",
   "execution_count": 144,
   "id": "863222d7-39d5-465b-a1d5-dc82a53b3b6e",
   "metadata": {},
   "outputs": [
    {
     "data": {
      "text/plain": [
       "Generator(PCG64) at 0x2A9F55D4D60"
      ]
     },
     "execution_count": 144,
     "metadata": {},
     "output_type": "execute_result"
    }
   ],
   "source": [
    "rng"
   ]
  },
  {
   "cell_type": "code",
   "execution_count": 145,
   "id": "3aee681b-a25d-4aea-813c-85a83166f2c8",
   "metadata": {},
   "outputs": [
    {
     "data": {
      "text/plain": [
       "array([[-1.60383681,  0.06409991,  0.7408913 ,  0.15261919],\n",
       "       [ 0.86374389,  2.91309922, -1.47882336,  0.94547297],\n",
       "       [-1.66613546,  0.34374458, -0.51244371,  1.32375896],\n",
       "       [-0.86028019,  0.5194932 , -1.26514372, -2.15913901]])"
      ]
     },
     "execution_count": 145,
     "metadata": {},
     "output_type": "execute_result"
    }
   ],
   "source": [
    "rng.standard_normal(size=(4, 4))"
   ]
  },
  {
   "cell_type": "code",
   "execution_count": 146,
   "id": "39df7857-af97-4c9d-83b9-9f74e2d1b9e5",
   "metadata": {},
   "outputs": [
    {
     "data": {
      "text/plain": [
       "\u001b[1;31mDocstring:\u001b[0m\n",
       "permutation(x)\n",
       "\n",
       "Randomly permute a sequence, or return a permuted range.\n",
       "\n",
       "If `x` is a multi-dimensional array, it is only shuffled along its\n",
       "first index.\n",
       "\n",
       ".. note::\n",
       "    New code should use the\n",
       "    `~numpy.random.Generator.permutation`\n",
       "    method of a `~numpy.random.Generator` instance instead;\n",
       "    please see the :ref:`random-quick-start`.\n",
       "\n",
       "Parameters\n",
       "----------\n",
       "x : int or array_like\n",
       "    If `x` is an integer, randomly permute ``np.arange(x)``.\n",
       "    If `x` is an array, make a copy and shuffle the elements\n",
       "    randomly.\n",
       "\n",
       "Returns\n",
       "-------\n",
       "out : ndarray\n",
       "    Permuted sequence or array range.\n",
       "\n",
       "See Also\n",
       "--------\n",
       "random.Generator.permutation: which should be used for new code.\n",
       "\n",
       "Examples\n",
       "--------\n",
       ">>> np.random.permutation(10)\n",
       "array([1, 7, 4, 3, 0, 9, 2, 5, 8, 6]) # random\n",
       "\n",
       ">>> np.random.permutation([1, 4, 9, 12, 15])\n",
       "array([15,  1,  9,  4, 12]) # random\n",
       "\n",
       ">>> arr = np.arange(9).reshape((3, 3))\n",
       ">>> np.random.permutation(arr)\n",
       "array([[6, 7, 8], # random\n",
       "       [0, 1, 2],\n",
       "       [3, 4, 5]])\n",
       "\u001b[1;31mType:\u001b[0m      builtin_function_or_method"
      ]
     },
     "metadata": {},
     "output_type": "display_data"
    }
   ],
   "source": [
    "np.random.permutation?"
   ]
  },
  {
   "cell_type": "code",
   "execution_count": 147,
   "id": "3d801882-fbae-4e38-89a7-616f0a358430",
   "metadata": {},
   "outputs": [
    {
     "data": {
      "text/plain": [
       "array([3, 0, 1, 2])"
      ]
     },
     "execution_count": 147,
     "metadata": {},
     "output_type": "execute_result"
    }
   ],
   "source": [
    "np.random.permutation(4)"
   ]
  },
  {
   "cell_type": "code",
   "execution_count": 148,
   "id": "6e242c84-6d9c-46ee-968e-ad78f0618172",
   "metadata": {},
   "outputs": [
    {
     "data": {
      "text/plain": [
       "array([[25, 26, 27,  0, 29],\n",
       "       [35, 36, 37, 38, 39],\n",
       "       [ 0,  1,  2,  3,  4],\n",
       "       [10, 11, 12, 13, 14],\n",
       "       [15,  0, 17, 18, 19],\n",
       "       [40, 41, 42, 43, 44],\n",
       "       [ 5,  0,  7,  8,  9],\n",
       "       [30, 31, 32, 33, 34],\n",
       "       [20, 21,  0, 23, 24]])"
      ]
     },
     "execution_count": 148,
     "metadata": {},
     "output_type": "execute_result"
    }
   ],
   "source": [
    "np.random.permutation(arr)"
   ]
  },
  {
   "cell_type": "code",
   "execution_count": 149,
   "id": "39a80ef0-ab98-4d83-be3a-a4e7b1ae2a65",
   "metadata": {},
   "outputs": [
    {
     "data": {
      "text/plain": [
       "\u001b[1;31mDocstring:\u001b[0m\n",
       "shuffle(x)\n",
       "\n",
       "Modify a sequence in-place by shuffling its contents.\n",
       "\n",
       "This function only shuffles the array along the first axis of a\n",
       "multi-dimensional array. The order of sub-arrays is changed but\n",
       "their contents remains the same.\n",
       "\n",
       ".. note::\n",
       "    New code should use the `~numpy.random.Generator.shuffle`\n",
       "    method of a `~numpy.random.Generator` instance instead;\n",
       "    please see the :ref:`random-quick-start`.\n",
       "\n",
       "Parameters\n",
       "----------\n",
       "x : ndarray or MutableSequence\n",
       "    The array, list or mutable sequence to be shuffled.\n",
       "\n",
       "Returns\n",
       "-------\n",
       "None\n",
       "\n",
       "See Also\n",
       "--------\n",
       "random.Generator.shuffle: which should be used for new code.\n",
       "\n",
       "Examples\n",
       "--------\n",
       ">>> arr = np.arange(10)\n",
       ">>> np.random.shuffle(arr)\n",
       ">>> arr\n",
       "[1 7 5 2 9 4 3 6 0 8] # random\n",
       "\n",
       "Multi-dimensional arrays are only shuffled along the first axis:\n",
       "\n",
       ">>> arr = np.arange(9).reshape((3, 3))\n",
       ">>> np.random.shuffle(arr)\n",
       ">>> arr\n",
       "array([[3, 4, 5], # random\n",
       "       [6, 7, 8],\n",
       "       [0, 1, 2]])\n",
       "\u001b[1;31mType:\u001b[0m      builtin_function_or_method"
      ]
     },
     "metadata": {},
     "output_type": "display_data"
    }
   ],
   "source": [
    "np.random.shuffle?"
   ]
  },
  {
   "cell_type": "code",
   "execution_count": 150,
   "id": "456f7912-ad95-4b3f-8180-b95c95592832",
   "metadata": {},
   "outputs": [],
   "source": [
    "np.random.shuffle(arr)"
   ]
  },
  {
   "cell_type": "code",
   "execution_count": 151,
   "id": "94d3b0d5-e972-4af5-986c-694e7676eaa8",
   "metadata": {},
   "outputs": [
    {
     "data": {
      "text/plain": [
       "array([[15,  0, 17, 18, 19],\n",
       "       [ 0,  1,  2,  3,  4],\n",
       "       [25, 26, 27,  0, 29],\n",
       "       [20, 21,  0, 23, 24],\n",
       "       [ 5,  0,  7,  8,  9],\n",
       "       [30, 31, 32, 33, 34],\n",
       "       [35, 36, 37, 38, 39],\n",
       "       [10, 11, 12, 13, 14],\n",
       "       [40, 41, 42, 43, 44]])"
      ]
     },
     "execution_count": 151,
     "metadata": {},
     "output_type": "execute_result"
    }
   ],
   "source": [
    "arr"
   ]
  },
  {
   "cell_type": "code",
   "execution_count": 152,
   "id": "c6921464-00ca-447c-bc78-485c5553ff94",
   "metadata": {
    "scrolled": true
   },
   "outputs": [
    {
     "data": {
      "text/plain": [
       "\u001b[1;31mDocstring:\u001b[0m\n",
       "uniform(low=0.0, high=1.0, size=None)\n",
       "\n",
       "Draw samples from a uniform distribution.\n",
       "\n",
       "Samples are uniformly distributed over the half-open interval\n",
       "``[low, high)`` (includes low, but excludes high).  In other words,\n",
       "any value within the given interval is equally likely to be drawn\n",
       "by `uniform`.\n",
       "\n",
       ".. note::\n",
       "    New code should use the `~numpy.random.Generator.uniform`\n",
       "    method of a `~numpy.random.Generator` instance instead;\n",
       "    please see the :ref:`random-quick-start`.\n",
       "\n",
       "Parameters\n",
       "----------\n",
       "low : float or array_like of floats, optional\n",
       "    Lower boundary of the output interval.  All values generated will be\n",
       "    greater than or equal to low.  The default value is 0.\n",
       "high : float or array_like of floats\n",
       "    Upper boundary of the output interval.  All values generated will be\n",
       "    less than or equal to high.  The high limit may be included in the \n",
       "    returned array of floats due to floating-point rounding in the \n",
       "    equation ``low + (high-low) * random_sample()``.  The default value \n",
       "    is 1.0.\n",
       "size : int or tuple of ints, optional\n",
       "    Output shape.  If the given shape is, e.g., ``(m, n, k)``, then\n",
       "    ``m * n * k`` samples are drawn.  If size is ``None`` (default),\n",
       "    a single value is returned if ``low`` and ``high`` are both scalars.\n",
       "    Otherwise, ``np.broadcast(low, high).size`` samples are drawn.\n",
       "\n",
       "Returns\n",
       "-------\n",
       "out : ndarray or scalar\n",
       "    Drawn samples from the parameterized uniform distribution.\n",
       "\n",
       "See Also\n",
       "--------\n",
       "randint : Discrete uniform distribution, yielding integers.\n",
       "random_integers : Discrete uniform distribution over the closed\n",
       "                  interval ``[low, high]``.\n",
       "random_sample : Floats uniformly distributed over ``[0, 1)``.\n",
       "random : Alias for `random_sample`.\n",
       "rand : Convenience function that accepts dimensions as input, e.g.,\n",
       "       ``rand(2,2)`` would generate a 2-by-2 array of floats,\n",
       "       uniformly distributed over ``[0, 1)``.\n",
       "random.Generator.uniform: which should be used for new code.\n",
       "\n",
       "Notes\n",
       "-----\n",
       "The probability density function of the uniform distribution is\n",
       "\n",
       ".. math:: p(x) = \\frac{1}{b - a}\n",
       "\n",
       "anywhere within the interval ``[a, b)``, and zero elsewhere.\n",
       "\n",
       "When ``high`` == ``low``, values of ``low`` will be returned.\n",
       "If ``high`` < ``low``, the results are officially undefined\n",
       "and may eventually raise an error, i.e. do not rely on this\n",
       "function to behave when passed arguments satisfying that\n",
       "inequality condition. The ``high`` limit may be included in the\n",
       "returned array of floats due to floating-point rounding in the\n",
       "equation ``low + (high-low) * random_sample()``. For example:\n",
       "\n",
       ">>> x = np.float32(5*0.99999999)\n",
       ">>> x\n",
       "5.0\n",
       "\n",
       "\n",
       "Examples\n",
       "--------\n",
       "Draw samples from the distribution:\n",
       "\n",
       ">>> s = np.random.uniform(-1,0,1000)\n",
       "\n",
       "All values are within the given interval:\n",
       "\n",
       ">>> np.all(s >= -1)\n",
       "True\n",
       ">>> np.all(s < 0)\n",
       "True\n",
       "\n",
       "Display the histogram of the samples, along with the\n",
       "probability density function:\n",
       "\n",
       ">>> import matplotlib.pyplot as plt\n",
       ">>> count, bins, ignored = plt.hist(s, 15, density=True)\n",
       ">>> plt.plot(bins, np.ones_like(bins), linewidth=2, color='r')\n",
       ">>> plt.show()\n",
       "\u001b[1;31mType:\u001b[0m      builtin_function_or_method"
      ]
     },
     "metadata": {},
     "output_type": "display_data"
    }
   ],
   "source": [
    "np.random.uniform?"
   ]
  },
  {
   "cell_type": "code",
   "execution_count": 153,
   "id": "5f151ec5-d6d9-4da1-be70-5ece9318a000",
   "metadata": {},
   "outputs": [
    {
     "data": {
      "text/plain": [
       "array([[0.58661015, 0.6681954 , 0.21432447, 0.98324418],\n",
       "       [0.60488109, 0.16890959, 0.98581628, 0.44117456],\n",
       "       [0.64381508, 0.04845624, 0.76930117, 0.99824314],\n",
       "       [0.07859306, 0.22134895, 0.68701201, 0.5480294 ]])"
      ]
     },
     "execution_count": 153,
     "metadata": {},
     "output_type": "execute_result"
    }
   ],
   "source": [
    "np.random.uniform(size= (4, 4))"
   ]
  },
  {
   "cell_type": "code",
   "execution_count": 154,
   "id": "6dc3bf89-c6c9-4dc9-9f49-930e83cd5908",
   "metadata": {},
   "outputs": [],
   "source": [
    "arr = np.random.standard_normal(size= (3, 3))"
   ]
  },
  {
   "cell_type": "code",
   "execution_count": 155,
   "id": "cdbaf4bc-d214-4471-8614-81ca2dd5895c",
   "metadata": {},
   "outputs": [
    {
     "data": {
      "text/plain": [
       "(array([[-0.38839778, -0.68112799, -1.43366418],\n",
       "        [-1.18909888, -1.25529386, -1.04581939],\n",
       "        [ 0.80980656,  0.48115781,  0.2054197 ]]),\n",
       " array([[1, 0, 0],\n",
       "        [4, 0, 0],\n",
       "        [7, 8, 9]]))"
      ]
     },
     "execution_count": 155,
     "metadata": {},
     "output_type": "execute_result"
    }
   ],
   "source": [
    "arr, arr2"
   ]
  },
  {
   "cell_type": "code",
   "execution_count": 156,
   "id": "2dd3129c-4f16-42c0-b5c9-36476843db3a",
   "metadata": {},
   "outputs": [
    {
     "data": {
      "text/plain": [
       "array([[ 0.3097332 , -0.31732928, -1.24296989],\n",
       "       [ 0.60437636, -0.94773342, -0.21249033],\n",
       "       [ 3.5839226 ,  6.62036403,  3.18250366]])"
      ]
     },
     "execution_count": 156,
     "metadata": {},
     "output_type": "execute_result"
    }
   ],
   "source": [
    "np.random.uniform(low= arr, high= arr2)"
   ]
  },
  {
   "cell_type": "code",
   "execution_count": 157,
   "id": "631f0124-5b01-4708-958a-6e2d7c8f107c",
   "metadata": {
    "scrolled": true
   },
   "outputs": [
    {
     "data": {
      "text/plain": [
       "\u001b[1;31mDocstring:\u001b[0m\n",
       "binomial(n, p, size=None)\n",
       "\n",
       "Draw samples from a binomial distribution.\n",
       "\n",
       "Samples are drawn from a binomial distribution with specified\n",
       "parameters, n trials and p probability of success where\n",
       "n an integer >= 0 and p is in the interval [0,1]. (n may be\n",
       "input as a float, but it is truncated to an integer in use)\n",
       "\n",
       ".. note::\n",
       "    New code should use the `~numpy.random.Generator.binomial`\n",
       "    method of a `~numpy.random.Generator` instance instead;\n",
       "    please see the :ref:`random-quick-start`.\n",
       "\n",
       "Parameters\n",
       "----------\n",
       "n : int or array_like of ints\n",
       "    Parameter of the distribution, >= 0. Floats are also accepted,\n",
       "    but they will be truncated to integers.\n",
       "p : float or array_like of floats\n",
       "    Parameter of the distribution, >= 0 and <=1.\n",
       "size : int or tuple of ints, optional\n",
       "    Output shape.  If the given shape is, e.g., ``(m, n, k)``, then\n",
       "    ``m * n * k`` samples are drawn.  If size is ``None`` (default),\n",
       "    a single value is returned if ``n`` and ``p`` are both scalars.\n",
       "    Otherwise, ``np.broadcast(n, p).size`` samples are drawn.\n",
       "\n",
       "Returns\n",
       "-------\n",
       "out : ndarray or scalar\n",
       "    Drawn samples from the parameterized binomial distribution, where\n",
       "    each sample is equal to the number of successes over the n trials.\n",
       "\n",
       "See Also\n",
       "--------\n",
       "scipy.stats.binom : probability density function, distribution or\n",
       "    cumulative density function, etc.\n",
       "random.Generator.binomial: which should be used for new code.\n",
       "\n",
       "Notes\n",
       "-----\n",
       "The probability density for the binomial distribution is\n",
       "\n",
       ".. math:: P(N) = \\binom{n}{N}p^N(1-p)^{n-N},\n",
       "\n",
       "where :math:`n` is the number of trials, :math:`p` is the probability\n",
       "of success, and :math:`N` is the number of successes.\n",
       "\n",
       "When estimating the standard error of a proportion in a population by\n",
       "using a random sample, the normal distribution works well unless the\n",
       "product p*n <=5, where p = population proportion estimate, and n =\n",
       "number of samples, in which case the binomial distribution is used\n",
       "instead. For example, a sample of 15 people shows 4 who are left\n",
       "handed, and 11 who are right handed. Then p = 4/15 = 27%. 0.27*15 = 4,\n",
       "so the binomial distribution should be used in this case.\n",
       "\n",
       "References\n",
       "----------\n",
       ".. [1] Dalgaard, Peter, \"Introductory Statistics with R\",\n",
       "       Springer-Verlag, 2002.\n",
       ".. [2] Glantz, Stanton A. \"Primer of Biostatistics.\", McGraw-Hill,\n",
       "       Fifth Edition, 2002.\n",
       ".. [3] Lentner, Marvin, \"Elementary Applied Statistics\", Bogden\n",
       "       and Quigley, 1972.\n",
       ".. [4] Weisstein, Eric W. \"Binomial Distribution.\" From MathWorld--A\n",
       "       Wolfram Web Resource.\n",
       "       http://mathworld.wolfram.com/BinomialDistribution.html\n",
       ".. [5] Wikipedia, \"Binomial distribution\",\n",
       "       https://en.wikipedia.org/wiki/Binomial_distribution\n",
       "\n",
       "Examples\n",
       "--------\n",
       "Draw samples from the distribution:\n",
       "\n",
       ">>> n, p = 10, .5  # number of trials, probability of each trial\n",
       ">>> s = np.random.binomial(n, p, 1000)\n",
       "# result of flipping a coin 10 times, tested 1000 times.\n",
       "\n",
       "A real world example. A company drills 9 wild-cat oil exploration\n",
       "wells, each with an estimated probability of success of 0.1. All nine\n",
       "wells fail. What is the probability of that happening?\n",
       "\n",
       "Let's do 20,000 trials of the model, and count the number that\n",
       "generate zero positive results.\n",
       "\n",
       ">>> sum(np.random.binomial(9, 0.1, 20000) == 0)/20000.\n",
       "# answer = 0.38885, or 38%.\n",
       "\u001b[1;31mType:\u001b[0m      builtin_function_or_method"
      ]
     },
     "metadata": {},
     "output_type": "display_data"
    }
   ],
   "source": [
    "np.random.binomial?"
   ]
  },
  {
   "cell_type": "markdown",
   "id": "49978b58-965f-4bd8-abff-2cc1301a3c45",
   "metadata": {},
   "source": [
    "## Universal Functions"
   ]
  },
  {
   "cell_type": "code",
   "execution_count": 158,
   "id": "c5d60e14-2776-427e-9a1d-938e038d5ad0",
   "metadata": {},
   "outputs": [],
   "source": [
    "arr = np.arange(10)"
   ]
  },
  {
   "cell_type": "code",
   "execution_count": 159,
   "id": "a03336ad-9c30-4d59-a1fb-1aead8829638",
   "metadata": {},
   "outputs": [
    {
     "data": {
      "text/plain": [
       "array([0.        , 1.        , 1.41421356, 1.73205081, 2.        ,\n",
       "       2.23606798, 2.44948974, 2.64575131, 2.82842712, 3.        ])"
      ]
     },
     "execution_count": 159,
     "metadata": {},
     "output_type": "execute_result"
    }
   ],
   "source": [
    "np.sqrt(arr)"
   ]
  },
  {
   "cell_type": "code",
   "execution_count": 160,
   "id": "9f309e26-17fa-473a-b7cb-5ab576dbf94c",
   "metadata": {},
   "outputs": [
    {
     "data": {
      "text/plain": [
       "array([1.00000000e+00, 2.71828183e+00, 7.38905610e+00, 2.00855369e+01,\n",
       "       5.45981500e+01, 1.48413159e+02, 4.03428793e+02, 1.09663316e+03,\n",
       "       2.98095799e+03, 8.10308393e+03])"
      ]
     },
     "execution_count": 160,
     "metadata": {},
     "output_type": "execute_result"
    }
   ],
   "source": [
    "np.exp(arr)"
   ]
  },
  {
   "cell_type": "code",
   "execution_count": 161,
   "id": "cf319e20-259d-4405-8d51-401f65492b6d",
   "metadata": {},
   "outputs": [
    {
     "data": {
      "text/plain": [
       "\u001b[1;31mCall signature:\u001b[0m  \u001b[0mnp\u001b[0m\u001b[1;33m.\u001b[0m\u001b[0mexp\u001b[0m\u001b[1;33m(\u001b[0m\u001b[1;33m*\u001b[0m\u001b[0margs\u001b[0m\u001b[1;33m,\u001b[0m \u001b[1;33m**\u001b[0m\u001b[0mkwargs\u001b[0m\u001b[1;33m)\u001b[0m\u001b[1;33m\u001b[0m\u001b[1;33m\u001b[0m\u001b[0m\n",
       "\u001b[1;31mType:\u001b[0m            ufunc\n",
       "\u001b[1;31mString form:\u001b[0m     <ufunc 'exp'>\n",
       "\u001b[1;31mFile:\u001b[0m            c:\\users\\harshit\\appdata\\local\\programs\\python\\python312\\lib\\site-packages\\numpy\\__init__.py\n",
       "\u001b[1;31mDocstring:\u001b[0m      \n",
       "exp(x, /, out=None, *, where=True, casting='same_kind', order='K', dtype=None, subok=True[, signature, extobj])\n",
       "\n",
       "Calculate the exponential of all elements in the input array.\n",
       "\n",
       "Parameters\n",
       "----------\n",
       "x : array_like\n",
       "    Input values.\n",
       "out : ndarray, None, or tuple of ndarray and None, optional\n",
       "    A location into which the result is stored. If provided, it must have\n",
       "    a shape that the inputs broadcast to. If not provided or None,\n",
       "    a freshly-allocated array is returned. A tuple (possible only as a\n",
       "    keyword argument) must have length equal to the number of outputs.\n",
       "where : array_like, optional\n",
       "    This condition is broadcast over the input. At locations where the\n",
       "    condition is True, the `out` array will be set to the ufunc result.\n",
       "    Elsewhere, the `out` array will retain its original value.\n",
       "    Note that if an uninitialized `out` array is created via the default\n",
       "    ``out=None``, locations within it where the condition is False will\n",
       "    remain uninitialized.\n",
       "**kwargs\n",
       "    For other keyword-only arguments, see the\n",
       "    :ref:`ufunc docs <ufuncs.kwargs>`.\n",
       "\n",
       "Returns\n",
       "-------\n",
       "out : ndarray or scalar\n",
       "    Output array, element-wise exponential of `x`.\n",
       "    This is a scalar if `x` is a scalar.\n",
       "\n",
       "See Also\n",
       "--------\n",
       "expm1 : Calculate ``exp(x) - 1`` for all elements in the array.\n",
       "exp2  : Calculate ``2**x`` for all elements in the array.\n",
       "\n",
       "Notes\n",
       "-----\n",
       "The irrational number ``e`` is also known as Euler's number.  It is\n",
       "approximately 2.718281, and is the base of the natural logarithm,\n",
       "``ln`` (this means that, if :math:`x = \\ln y = \\log_e y`,\n",
       "then :math:`e^x = y`. For real input, ``exp(x)`` is always positive.\n",
       "\n",
       "For complex arguments, ``x = a + ib``, we can write\n",
       ":math:`e^x = e^a e^{ib}`.  The first term, :math:`e^a`, is already\n",
       "known (it is the real argument, described above).  The second term,\n",
       ":math:`e^{ib}`, is :math:`\\cos b + i \\sin b`, a function with\n",
       "magnitude 1 and a periodic phase.\n",
       "\n",
       "References\n",
       "----------\n",
       ".. [1] Wikipedia, \"Exponential function\",\n",
       "       https://en.wikipedia.org/wiki/Exponential_function\n",
       ".. [2] M. Abramovitz and I. A. Stegun, \"Handbook of Mathematical Functions\n",
       "       with Formulas, Graphs, and Mathematical Tables,\" Dover, 1964, p. 69,\n",
       "       https://personal.math.ubc.ca/~cbm/aands/page_69.htm\n",
       "\n",
       "Examples\n",
       "--------\n",
       "Plot the magnitude and phase of ``exp(x)`` in the complex plane:\n",
       "\n",
       ">>> import matplotlib.pyplot as plt\n",
       "\n",
       ">>> x = np.linspace(-2*np.pi, 2*np.pi, 100)\n",
       ">>> xx = x + 1j * x[:, np.newaxis] # a + ib over complex plane\n",
       ">>> out = np.exp(xx)\n",
       "\n",
       ">>> plt.subplot(121)\n",
       ">>> plt.imshow(np.abs(out),\n",
       "...            extent=[-2*np.pi, 2*np.pi, -2*np.pi, 2*np.pi], cmap='gray')\n",
       ">>> plt.title('Magnitude of exp(x)')\n",
       "\n",
       ">>> plt.subplot(122)\n",
       ">>> plt.imshow(np.angle(out),\n",
       "...            extent=[-2*np.pi, 2*np.pi, -2*np.pi, 2*np.pi], cmap='hsv')\n",
       ">>> plt.title('Phase (angle) of exp(x)')\n",
       ">>> plt.show()\n",
       "\u001b[1;31mClass docstring:\u001b[0m\n",
       "Functions that operate element by element on whole arrays.\n",
       "\n",
       "To see the documentation for a specific ufunc, use `info`.  For\n",
       "example, ``np.info(np.sin)``.  Because ufuncs are written in C\n",
       "(for speed) and linked into Python with NumPy's ufunc facility,\n",
       "Python's help() function finds this page whenever help() is called\n",
       "on a ufunc.\n",
       "\n",
       "A detailed explanation of ufuncs can be found in the docs for :ref:`ufuncs`.\n",
       "\n",
       "**Calling ufuncs:** ``op(*x[, out], where=True, **kwargs)``\n",
       "\n",
       "Apply `op` to the arguments `*x` elementwise, broadcasting the arguments.\n",
       "\n",
       "The broadcasting rules are:\n",
       "\n",
       "* Dimensions of length 1 may be prepended to either array.\n",
       "* Arrays may be repeated along dimensions of length 1.\n",
       "\n",
       "Parameters\n",
       "----------\n",
       "*x : array_like\n",
       "    Input arrays.\n",
       "out : ndarray, None, or tuple of ndarray and None, optional\n",
       "    Alternate array object(s) in which to put the result; if provided, it\n",
       "    must have a shape that the inputs broadcast to. A tuple of arrays\n",
       "    (possible only as a keyword argument) must have length equal to the\n",
       "    number of outputs; use None for uninitialized outputs to be\n",
       "    allocated by the ufunc.\n",
       "where : array_like, optional\n",
       "    This condition is broadcast over the input. At locations where the\n",
       "    condition is True, the `out` array will be set to the ufunc result.\n",
       "    Elsewhere, the `out` array will retain its original value.\n",
       "    Note that if an uninitialized `out` array is created via the default\n",
       "    ``out=None``, locations within it where the condition is False will\n",
       "    remain uninitialized.\n",
       "**kwargs\n",
       "    For other keyword-only arguments, see the :ref:`ufunc docs <ufuncs.kwargs>`.\n",
       "\n",
       "Returns\n",
       "-------\n",
       "r : ndarray or tuple of ndarray\n",
       "    `r` will have the shape that the arrays in `x` broadcast to; if `out` is\n",
       "    provided, it will be returned. If not, `r` will be allocated and\n",
       "    may contain uninitialized values. If the function has more than one\n",
       "    output, then the result will be a tuple of arrays."
      ]
     },
     "metadata": {},
     "output_type": "display_data"
    }
   ],
   "source": [
    "np.exp?"
   ]
  },
  {
   "cell_type": "code",
   "execution_count": 162,
   "id": "56ed4a1d-af09-42e9-9ac3-c3f0d108f0a3",
   "metadata": {},
   "outputs": [],
   "source": [
    "x = rng.standard_normal(10)"
   ]
  },
  {
   "cell_type": "code",
   "execution_count": 163,
   "id": "48b9ab3e-fad3-49f9-a714-ec49f62d83bb",
   "metadata": {},
   "outputs": [
    {
     "data": {
      "text/plain": [
       "array([ 0.43473395,  1.73328932,  0.52013416, -1.00216579,  0.26834554,\n",
       "        0.7671747 ,  1.19127203, -1.15741081,  0.6962794 ,  0.35138369])"
      ]
     },
     "execution_count": 163,
     "metadata": {},
     "output_type": "execute_result"
    }
   ],
   "source": [
    "x"
   ]
  },
  {
   "cell_type": "code",
   "execution_count": 164,
   "id": "4b4c2eec-3fec-42c9-a71a-6e80d7b7969b",
   "metadata": {},
   "outputs": [
    {
     "data": {
      "text/plain": [
       "array([0.43473395, 1.73328932, 2.        , 3.        , 4.        ,\n",
       "       5.        , 6.        , 7.        , 8.        , 9.        ])"
      ]
     },
     "execution_count": 164,
     "metadata": {},
     "output_type": "execute_result"
    }
   ],
   "source": [
    "np.maximum(x, arr)"
   ]
  },
  {
   "cell_type": "code",
   "execution_count": 165,
   "id": "e415c8ca-3239-492a-bbc8-f8b128fd438e",
   "metadata": {},
   "outputs": [
    {
     "data": {
      "text/plain": [
       "(array([ 0.43473395,  0.73328932,  0.52013416, -0.00216579,  0.26834554,\n",
       "         0.7671747 ,  0.19127203, -0.15741081,  0.6962794 ,  0.35138369]),\n",
       " array([ 0.,  1.,  0., -1.,  0.,  0.,  1., -1.,  0.,  0.]))"
      ]
     },
     "execution_count": 165,
     "metadata": {},
     "output_type": "execute_result"
    }
   ],
   "source": [
    "np.modf(x)"
   ]
  },
  {
   "cell_type": "code",
   "execution_count": 166,
   "id": "89245d23-5778-4bd0-8fec-bc22ce688c20",
   "metadata": {},
   "outputs": [],
   "source": [
    "remainder, whole_part = np.modf(x)"
   ]
  },
  {
   "cell_type": "code",
   "execution_count": 167,
   "id": "58984937-d3ed-459d-9c9e-649947790c10",
   "metadata": {},
   "outputs": [
    {
     "data": {
      "text/plain": [
       "array([ 0.43473395,  0.73328932,  0.52013416, -0.00216579,  0.26834554,\n",
       "        0.7671747 ,  0.19127203, -0.15741081,  0.6962794 ,  0.35138369])"
      ]
     },
     "execution_count": 167,
     "metadata": {},
     "output_type": "execute_result"
    }
   ],
   "source": [
    "remainder"
   ]
  },
  {
   "cell_type": "code",
   "execution_count": 168,
   "id": "b0e304a6-39b4-454e-bda9-faea4108b941",
   "metadata": {},
   "outputs": [
    {
     "data": {
      "text/plain": [
       "array([ 0.,  1.,  0., -1.,  0.,  0.,  1., -1.,  0.,  0.])"
      ]
     },
     "execution_count": 168,
     "metadata": {},
     "output_type": "execute_result"
    }
   ],
   "source": [
    "whole_part"
   ]
  },
  {
   "cell_type": "code",
   "execution_count": 169,
   "id": "08f63352-ecff-4437-9738-15f1812c3216",
   "metadata": {},
   "outputs": [],
   "source": [
    "out_array = np.zeros_like(x)"
   ]
  },
  {
   "cell_type": "code",
   "execution_count": 170,
   "id": "ce617fb5-8bab-410f-b5be-50e756711f2c",
   "metadata": {},
   "outputs": [
    {
     "data": {
      "text/plain": [
       "array([2.43473395, 3.73328932, 2.52013416, 0.99783421, 2.26834554,\n",
       "       2.7671747 , 3.19127203, 0.84258919, 2.6962794 , 2.35138369])"
      ]
     },
     "execution_count": 170,
     "metadata": {},
     "output_type": "execute_result"
    }
   ],
   "source": [
    "np.add(x, 2, out= out_array)"
   ]
  },
  {
   "cell_type": "code",
   "execution_count": 171,
   "id": "1f6ebf33-651a-4f94-993c-b731f6a4219f",
   "metadata": {},
   "outputs": [
    {
     "data": {
      "text/plain": [
       "array([2.43473395, 3.73328932, 2.52013416, 0.99783421, 2.26834554,\n",
       "       2.7671747 , 3.19127203, 0.84258919, 2.6962794 , 2.35138369])"
      ]
     },
     "execution_count": 171,
     "metadata": {},
     "output_type": "execute_result"
    }
   ],
   "source": [
    "out_array"
   ]
  },
  {
   "cell_type": "code",
   "execution_count": 172,
   "id": "940dee24-a125-48b4-ab16-ef5547fd6a74",
   "metadata": {},
   "outputs": [
    {
     "data": {
      "text/plain": [
       "array([ 0.43473395,  1.73328932,  0.52013416, -1.00216579,  0.26834554,\n",
       "        0.7671747 ,  1.19127203, -1.15741081,  0.6962794 ,  0.35138369])"
      ]
     },
     "execution_count": 172,
     "metadata": {},
     "output_type": "execute_result"
    }
   ],
   "source": [
    "x"
   ]
  },
  {
   "cell_type": "code",
   "execution_count": 173,
   "id": "4e429cef-cebe-47ed-aa6e-5a5a2020e8e7",
   "metadata": {},
   "outputs": [
    {
     "data": {
      "text/plain": [
       "array([0.43473395, 1.73328932, 0.52013416, 1.00216579, 0.26834554,\n",
       "       0.7671747 , 1.19127203, 1.15741081, 0.6962794 , 0.35138369])"
      ]
     },
     "execution_count": 173,
     "metadata": {},
     "output_type": "execute_result"
    }
   ],
   "source": [
    "np.abs(x)"
   ]
  },
  {
   "cell_type": "code",
   "execution_count": 174,
   "id": "2104c382-dfa3-4b83-a3b6-db6744fc0620",
   "metadata": {},
   "outputs": [
    {
     "data": {
      "text/plain": [
       "array([0.43473395, 1.73328932, 0.52013416, 1.00216579, 0.26834554,\n",
       "       0.7671747 , 1.19127203, 1.15741081, 0.6962794 , 0.35138369])"
      ]
     },
     "execution_count": 174,
     "metadata": {},
     "output_type": "execute_result"
    }
   ],
   "source": [
    "np.fabs(x)"
   ]
  },
  {
   "cell_type": "code",
   "execution_count": 175,
   "id": "e73cb9fd-35fc-4767-b9a9-365bb4470e33",
   "metadata": {},
   "outputs": [
    {
     "data": {
      "text/plain": [
       "array([ 0,  1,  4,  9, 16, 25, 36, 49, 64, 81])"
      ]
     },
     "execution_count": 175,
     "metadata": {},
     "output_type": "execute_result"
    }
   ],
   "source": [
    "np.square(arr)"
   ]
  },
  {
   "cell_type": "code",
   "execution_count": 176,
   "id": "b0325eaf-b8a0-4bb6-82be-b78520fb9878",
   "metadata": {},
   "outputs": [],
   "source": [
    "arr = np.arange(1, 20, 2)"
   ]
  },
  {
   "cell_type": "code",
   "execution_count": 177,
   "id": "5618580a-7ec7-447f-9efd-57f29c37624b",
   "metadata": {},
   "outputs": [
    {
     "data": {
      "text/plain": [
       "array([ 1,  3,  5,  7,  9, 11, 13, 15, 17, 19])"
      ]
     },
     "execution_count": 177,
     "metadata": {},
     "output_type": "execute_result"
    }
   ],
   "source": [
    "arr"
   ]
  },
  {
   "cell_type": "code",
   "execution_count": 178,
   "id": "b0305556-f072-4ea1-8521-87c7ad3cac47",
   "metadata": {},
   "outputs": [
    {
     "data": {
      "text/plain": [
       "array([0.        , 0.47712125, 0.69897   , 0.84509804, 0.95424251,\n",
       "       1.04139269, 1.11394335, 1.17609126, 1.23044892, 1.2787536 ])"
      ]
     },
     "execution_count": 178,
     "metadata": {},
     "output_type": "execute_result"
    }
   ],
   "source": [
    "np.log10(arr)"
   ]
  },
  {
   "cell_type": "code",
   "execution_count": 179,
   "id": "b409749a-8fec-4d0c-a4f7-17375a2d33da",
   "metadata": {},
   "outputs": [
    {
     "data": {
      "text/plain": [
       "array([0.        , 1.09861229, 1.60943791, 1.94591015, 2.19722458,\n",
       "       2.39789527, 2.56494936, 2.7080502 , 2.83321334, 2.94443898])"
      ]
     },
     "execution_count": 179,
     "metadata": {},
     "output_type": "execute_result"
    }
   ],
   "source": [
    "np.log(arr)"
   ]
  },
  {
   "cell_type": "code",
   "execution_count": 180,
   "id": "665aa949-1f9f-4ece-9e4b-2ff8708f3ad2",
   "metadata": {},
   "outputs": [
    {
     "data": {
      "text/plain": [
       "array([0.        , 1.5849625 , 2.32192809, 2.80735492, 3.169925  ,\n",
       "       3.45943162, 3.70043972, 3.9068906 , 4.08746284, 4.24792751])"
      ]
     },
     "execution_count": 180,
     "metadata": {},
     "output_type": "execute_result"
    }
   ],
   "source": [
    "np.log2(arr)"
   ]
  },
  {
   "cell_type": "code",
   "execution_count": 181,
   "id": "07a3aa14-a87c-4c96-bf7c-5c9e60d6f045",
   "metadata": {
    "scrolled": true
   },
   "outputs": [
    {
     "data": {
      "text/plain": [
       "\u001b[1;31mCall signature:\u001b[0m  \u001b[0mnp\u001b[0m\u001b[1;33m.\u001b[0m\u001b[0mlog1p\u001b[0m\u001b[1;33m(\u001b[0m\u001b[1;33m*\u001b[0m\u001b[0margs\u001b[0m\u001b[1;33m,\u001b[0m \u001b[1;33m**\u001b[0m\u001b[0mkwargs\u001b[0m\u001b[1;33m)\u001b[0m\u001b[1;33m\u001b[0m\u001b[1;33m\u001b[0m\u001b[0m\n",
       "\u001b[1;31mType:\u001b[0m            ufunc\n",
       "\u001b[1;31mString form:\u001b[0m     <ufunc 'log1p'>\n",
       "\u001b[1;31mFile:\u001b[0m            c:\\users\\harshit\\appdata\\local\\programs\\python\\python312\\lib\\site-packages\\numpy\\__init__.py\n",
       "\u001b[1;31mDocstring:\u001b[0m      \n",
       "log1p(x, /, out=None, *, where=True, casting='same_kind', order='K', dtype=None, subok=True[, signature, extobj])\n",
       "\n",
       "Return the natural logarithm of one plus the input array, element-wise.\n",
       "\n",
       "Calculates ``log(1 + x)``.\n",
       "\n",
       "Parameters\n",
       "----------\n",
       "x : array_like\n",
       "    Input values.\n",
       "out : ndarray, None, or tuple of ndarray and None, optional\n",
       "    A location into which the result is stored. If provided, it must have\n",
       "    a shape that the inputs broadcast to. If not provided or None,\n",
       "    a freshly-allocated array is returned. A tuple (possible only as a\n",
       "    keyword argument) must have length equal to the number of outputs.\n",
       "where : array_like, optional\n",
       "    This condition is broadcast over the input. At locations where the\n",
       "    condition is True, the `out` array will be set to the ufunc result.\n",
       "    Elsewhere, the `out` array will retain its original value.\n",
       "    Note that if an uninitialized `out` array is created via the default\n",
       "    ``out=None``, locations within it where the condition is False will\n",
       "    remain uninitialized.\n",
       "**kwargs\n",
       "    For other keyword-only arguments, see the\n",
       "    :ref:`ufunc docs <ufuncs.kwargs>`.\n",
       "\n",
       "Returns\n",
       "-------\n",
       "y : ndarray\n",
       "    Natural logarithm of `1 + x`, element-wise.\n",
       "    This is a scalar if `x` is a scalar.\n",
       "\n",
       "See Also\n",
       "--------\n",
       "expm1 : ``exp(x) - 1``, the inverse of `log1p`.\n",
       "\n",
       "Notes\n",
       "-----\n",
       "For real-valued input, `log1p` is accurate also for `x` so small\n",
       "that `1 + x == 1` in floating-point accuracy.\n",
       "\n",
       "Logarithm is a multivalued function: for each `x` there is an infinite\n",
       "number of `z` such that `exp(z) = 1 + x`. The convention is to return\n",
       "the `z` whose imaginary part lies in `[-pi, pi]`.\n",
       "\n",
       "For real-valued input data types, `log1p` always returns real output.\n",
       "For each value that cannot be expressed as a real number or infinity,\n",
       "it yields ``nan`` and sets the `invalid` floating point error flag.\n",
       "\n",
       "For complex-valued input, `log1p` is a complex analytical function that\n",
       "has a branch cut `[-inf, -1]` and is continuous from above on it.\n",
       "`log1p` handles the floating-point negative zero as an infinitesimal\n",
       "negative number, conforming to the C99 standard.\n",
       "\n",
       "References\n",
       "----------\n",
       ".. [1] M. Abramowitz and I.A. Stegun, \"Handbook of Mathematical Functions\",\n",
       "       10th printing, 1964, pp. 67.\n",
       "       https://personal.math.ubc.ca/~cbm/aands/page_67.htm\n",
       ".. [2] Wikipedia, \"Logarithm\". https://en.wikipedia.org/wiki/Logarithm\n",
       "\n",
       "Examples\n",
       "--------\n",
       ">>> np.log1p(1e-99)\n",
       "1e-99\n",
       ">>> np.log(1 + 1e-99)\n",
       "0.0\n",
       "\u001b[1;31mClass docstring:\u001b[0m\n",
       "Functions that operate element by element on whole arrays.\n",
       "\n",
       "To see the documentation for a specific ufunc, use `info`.  For\n",
       "example, ``np.info(np.sin)``.  Because ufuncs are written in C\n",
       "(for speed) and linked into Python with NumPy's ufunc facility,\n",
       "Python's help() function finds this page whenever help() is called\n",
       "on a ufunc.\n",
       "\n",
       "A detailed explanation of ufuncs can be found in the docs for :ref:`ufuncs`.\n",
       "\n",
       "**Calling ufuncs:** ``op(*x[, out], where=True, **kwargs)``\n",
       "\n",
       "Apply `op` to the arguments `*x` elementwise, broadcasting the arguments.\n",
       "\n",
       "The broadcasting rules are:\n",
       "\n",
       "* Dimensions of length 1 may be prepended to either array.\n",
       "* Arrays may be repeated along dimensions of length 1.\n",
       "\n",
       "Parameters\n",
       "----------\n",
       "*x : array_like\n",
       "    Input arrays.\n",
       "out : ndarray, None, or tuple of ndarray and None, optional\n",
       "    Alternate array object(s) in which to put the result; if provided, it\n",
       "    must have a shape that the inputs broadcast to. A tuple of arrays\n",
       "    (possible only as a keyword argument) must have length equal to the\n",
       "    number of outputs; use None for uninitialized outputs to be\n",
       "    allocated by the ufunc.\n",
       "where : array_like, optional\n",
       "    This condition is broadcast over the input. At locations where the\n",
       "    condition is True, the `out` array will be set to the ufunc result.\n",
       "    Elsewhere, the `out` array will retain its original value.\n",
       "    Note that if an uninitialized `out` array is created via the default\n",
       "    ``out=None``, locations within it where the condition is False will\n",
       "    remain uninitialized.\n",
       "**kwargs\n",
       "    For other keyword-only arguments, see the :ref:`ufunc docs <ufuncs.kwargs>`.\n",
       "\n",
       "Returns\n",
       "-------\n",
       "r : ndarray or tuple of ndarray\n",
       "    `r` will have the shape that the arrays in `x` broadcast to; if `out` is\n",
       "    provided, it will be returned. If not, `r` will be allocated and\n",
       "    may contain uninitialized values. If the function has more than one\n",
       "    output, then the result will be a tuple of arrays."
      ]
     },
     "metadata": {},
     "output_type": "display_data"
    }
   ],
   "source": [
    "np.log1p?"
   ]
  },
  {
   "cell_type": "code",
   "execution_count": 182,
   "id": "83c7e3d6-27c3-4b10-8c5e-34fa44b3a559",
   "metadata": {},
   "outputs": [
    {
     "data": {
      "text/plain": [
       "array([0.69314718, 1.38629436, 1.79175947, 2.07944154, 2.30258509,\n",
       "       2.48490665, 2.63905733, 2.77258872, 2.89037176, 2.99573227])"
      ]
     },
     "execution_count": 182,
     "metadata": {},
     "output_type": "execute_result"
    }
   ],
   "source": [
    "np.log1p(arr)"
   ]
  },
  {
   "cell_type": "code",
   "execution_count": 183,
   "id": "453ad040-1e38-4ccc-8a74-b7a51f0a6691",
   "metadata": {},
   "outputs": [
    {
     "data": {
      "text/plain": [
       "array([ 1.,  1.,  1., -1.,  1.,  1.,  1., -1.,  1.,  1.])"
      ]
     },
     "execution_count": 183,
     "metadata": {},
     "output_type": "execute_result"
    }
   ],
   "source": [
    "np.sign(x)"
   ]
  },
  {
   "cell_type": "code",
   "execution_count": 184,
   "id": "4ca3b21a-f670-4d28-b283-99c862c5bd29",
   "metadata": {},
   "outputs": [
    {
     "data": {
      "text/plain": [
       "array([ 1.,  2.,  1., -1.,  1.,  1.,  2., -1.,  1.,  1.])"
      ]
     },
     "execution_count": 184,
     "metadata": {},
     "output_type": "execute_result"
    }
   ],
   "source": [
    "np.ceil(x)"
   ]
  },
  {
   "cell_type": "code",
   "execution_count": 185,
   "id": "2fd6bd99-f7c8-47ad-91b7-166c9cf4b061",
   "metadata": {},
   "outputs": [
    {
     "data": {
      "text/plain": [
       "array([ 0.,  1.,  0., -2.,  0.,  0.,  1., -2.,  0.,  0.])"
      ]
     },
     "execution_count": 185,
     "metadata": {},
     "output_type": "execute_result"
    }
   ],
   "source": [
    "np.floor(x)"
   ]
  },
  {
   "cell_type": "code",
   "execution_count": 186,
   "id": "2ef907c0-fe70-47fd-90f4-17ce8e127569",
   "metadata": {},
   "outputs": [
    {
     "data": {
      "text/plain": [
       "array([ 0.,  2.,  1., -1.,  0.,  1.,  1., -1.,  1.,  0.])"
      ]
     },
     "execution_count": 186,
     "metadata": {},
     "output_type": "execute_result"
    }
   ],
   "source": [
    "np.rint(x)"
   ]
  },
  {
   "cell_type": "code",
   "execution_count": 187,
   "id": "24627351-a4b6-4307-9f5e-c2fce3a42246",
   "metadata": {},
   "outputs": [
    {
     "data": {
      "text/plain": [
       "array([False, False, False, False, False, False, False, False, False,\n",
       "       False])"
      ]
     },
     "execution_count": 187,
     "metadata": {},
     "output_type": "execute_result"
    }
   ],
   "source": [
    "np.isnan(x)"
   ]
  },
  {
   "cell_type": "code",
   "execution_count": 188,
   "id": "e363b418-15c4-4a16-8dbc-fad4af2771cc",
   "metadata": {},
   "outputs": [],
   "source": [
    "from sympy import oo"
   ]
  },
  {
   "cell_type": "code",
   "execution_count": 189,
   "id": "e1df0776-3902-47b8-a817-735c0e94c183",
   "metadata": {},
   "outputs": [],
   "source": [
    "x[0] = oo"
   ]
  },
  {
   "cell_type": "code",
   "execution_count": 190,
   "id": "7f3f68ef-50f9-4f59-b6f4-a4bcb3e240d6",
   "metadata": {},
   "outputs": [
    {
     "data": {
      "text/plain": [
       "array([        inf,  1.73328932,  0.52013416, -1.00216579,  0.26834554,\n",
       "        0.7671747 ,  1.19127203, -1.15741081,  0.6962794 ,  0.35138369])"
      ]
     },
     "execution_count": 190,
     "metadata": {},
     "output_type": "execute_result"
    }
   ],
   "source": [
    "x"
   ]
  },
  {
   "cell_type": "code",
   "execution_count": 191,
   "id": "3a3269b7-9bc7-4883-8d78-45628e3d0901",
   "metadata": {},
   "outputs": [
    {
     "data": {
      "text/plain": [
       "array([False, False, False, False, False, False, False, False, False,\n",
       "       False])"
      ]
     },
     "execution_count": 191,
     "metadata": {},
     "output_type": "execute_result"
    }
   ],
   "source": [
    "np.isnan(x)"
   ]
  },
  {
   "cell_type": "code",
   "execution_count": 192,
   "id": "4ed5ac91-c861-4aa4-a3b2-b012bc3b3196",
   "metadata": {},
   "outputs": [
    {
     "data": {
      "text/plain": [
       "array([ True, False, False, False, False, False, False, False, False,\n",
       "       False])"
      ]
     },
     "execution_count": 192,
     "metadata": {},
     "output_type": "execute_result"
    }
   ],
   "source": [
    "np.isinf(x)"
   ]
  },
  {
   "cell_type": "code",
   "execution_count": 193,
   "id": "97ca207d-633b-4628-b02f-98a68faeb63f",
   "metadata": {},
   "outputs": [
    {
     "data": {
      "text/plain": [
       "array([False, False,  True,  True,  True,  True,  True,  True,  True,\n",
       "        True])"
      ]
     },
     "execution_count": 193,
     "metadata": {},
     "output_type": "execute_result"
    }
   ],
   "source": [
    "np.logical_not(arr < 5)"
   ]
  },
  {
   "cell_type": "code",
   "execution_count": 194,
   "id": "3aa4913c-0560-41ce-b1a1-96c21dc70517",
   "metadata": {},
   "outputs": [
    {
     "data": {
      "text/plain": [
       "array([ -2,  -4,  -6,  -8, -10, -12, -14, -16, -18, -20])"
      ]
     },
     "execution_count": 194,
     "metadata": {},
     "output_type": "execute_result"
    }
   ],
   "source": [
    "~arr"
   ]
  },
  {
   "cell_type": "code",
   "execution_count": 195,
   "id": "81d9b761-4df1-4a11-96ee-5f3b43f6ca53",
   "metadata": {
    "scrolled": true
   },
   "outputs": [
    {
     "data": {
      "text/plain": [
       "\u001b[1;31mCall signature:\u001b[0m  \u001b[0mnp\u001b[0m\u001b[1;33m.\u001b[0m\u001b[0mlogical_not\u001b[0m\u001b[1;33m(\u001b[0m\u001b[1;33m*\u001b[0m\u001b[0margs\u001b[0m\u001b[1;33m,\u001b[0m \u001b[1;33m**\u001b[0m\u001b[0mkwargs\u001b[0m\u001b[1;33m)\u001b[0m\u001b[1;33m\u001b[0m\u001b[1;33m\u001b[0m\u001b[0m\n",
       "\u001b[1;31mType:\u001b[0m            ufunc\n",
       "\u001b[1;31mString form:\u001b[0m     <ufunc 'logical_not'>\n",
       "\u001b[1;31mFile:\u001b[0m            c:\\users\\harshit\\appdata\\local\\programs\\python\\python312\\lib\\site-packages\\numpy\\__init__.py\n",
       "\u001b[1;31mDocstring:\u001b[0m      \n",
       "logical_not(x, /, out=None, *, where=True, casting='same_kind', order='K', dtype=None, subok=True[, signature, extobj])\n",
       "\n",
       "Compute the truth value of NOT x element-wise.\n",
       "\n",
       "Parameters\n",
       "----------\n",
       "x : array_like\n",
       "    Logical NOT is applied to the elements of `x`.\n",
       "out : ndarray, None, or tuple of ndarray and None, optional\n",
       "    A location into which the result is stored. If provided, it must have\n",
       "    a shape that the inputs broadcast to. If not provided or None,\n",
       "    a freshly-allocated array is returned. A tuple (possible only as a\n",
       "    keyword argument) must have length equal to the number of outputs.\n",
       "where : array_like, optional\n",
       "    This condition is broadcast over the input. At locations where the\n",
       "    condition is True, the `out` array will be set to the ufunc result.\n",
       "    Elsewhere, the `out` array will retain its original value.\n",
       "    Note that if an uninitialized `out` array is created via the default\n",
       "    ``out=None``, locations within it where the condition is False will\n",
       "    remain uninitialized.\n",
       "**kwargs\n",
       "    For other keyword-only arguments, see the\n",
       "    :ref:`ufunc docs <ufuncs.kwargs>`.\n",
       "\n",
       "Returns\n",
       "-------\n",
       "y : bool or ndarray of bool\n",
       "    Boolean result with the same shape as `x` of the NOT operation\n",
       "    on elements of `x`.\n",
       "    This is a scalar if `x` is a scalar.\n",
       "\n",
       "See Also\n",
       "--------\n",
       "logical_and, logical_or, logical_xor\n",
       "\n",
       "Examples\n",
       "--------\n",
       ">>> np.logical_not(3)\n",
       "False\n",
       ">>> np.logical_not([True, False, 0, 1])\n",
       "array([False,  True,  True, False])\n",
       "\n",
       ">>> x = np.arange(5)\n",
       ">>> np.logical_not(x<3)\n",
       "array([False, False, False,  True,  True])\n",
       "\u001b[1;31mClass docstring:\u001b[0m\n",
       "Functions that operate element by element on whole arrays.\n",
       "\n",
       "To see the documentation for a specific ufunc, use `info`.  For\n",
       "example, ``np.info(np.sin)``.  Because ufuncs are written in C\n",
       "(for speed) and linked into Python with NumPy's ufunc facility,\n",
       "Python's help() function finds this page whenever help() is called\n",
       "on a ufunc.\n",
       "\n",
       "A detailed explanation of ufuncs can be found in the docs for :ref:`ufuncs`.\n",
       "\n",
       "**Calling ufuncs:** ``op(*x[, out], where=True, **kwargs)``\n",
       "\n",
       "Apply `op` to the arguments `*x` elementwise, broadcasting the arguments.\n",
       "\n",
       "The broadcasting rules are:\n",
       "\n",
       "* Dimensions of length 1 may be prepended to either array.\n",
       "* Arrays may be repeated along dimensions of length 1.\n",
       "\n",
       "Parameters\n",
       "----------\n",
       "*x : array_like\n",
       "    Input arrays.\n",
       "out : ndarray, None, or tuple of ndarray and None, optional\n",
       "    Alternate array object(s) in which to put the result; if provided, it\n",
       "    must have a shape that the inputs broadcast to. A tuple of arrays\n",
       "    (possible only as a keyword argument) must have length equal to the\n",
       "    number of outputs; use None for uninitialized outputs to be\n",
       "    allocated by the ufunc.\n",
       "where : array_like, optional\n",
       "    This condition is broadcast over the input. At locations where the\n",
       "    condition is True, the `out` array will be set to the ufunc result.\n",
       "    Elsewhere, the `out` array will retain its original value.\n",
       "    Note that if an uninitialized `out` array is created via the default\n",
       "    ``out=None``, locations within it where the condition is False will\n",
       "    remain uninitialized.\n",
       "**kwargs\n",
       "    For other keyword-only arguments, see the :ref:`ufunc docs <ufuncs.kwargs>`.\n",
       "\n",
       "Returns\n",
       "-------\n",
       "r : ndarray or tuple of ndarray\n",
       "    `r` will have the shape that the arrays in `x` broadcast to; if `out` is\n",
       "    provided, it will be returned. If not, `r` will be allocated and\n",
       "    may contain uninitialized values. If the function has more than one\n",
       "    output, then the result will be a tuple of arrays."
      ]
     },
     "metadata": {},
     "output_type": "display_data"
    }
   ],
   "source": [
    "np.logical_not?"
   ]
  },
  {
   "cell_type": "markdown",
   "id": "28bc16b0-1f83-4597-a2a1-b329367b14b1",
   "metadata": {},
   "source": [
    "### binary ufuncs"
   ]
  },
  {
   "cell_type": "code",
   "execution_count": 196,
   "id": "08c71e41-d9e0-4593-b120-2ce1944dea35",
   "metadata": {},
   "outputs": [],
   "source": [
    "a1 = np.random.standard_normal(10)"
   ]
  },
  {
   "cell_type": "code",
   "execution_count": 197,
   "id": "f7c40592-1a34-420d-8605-825c89cb7481",
   "metadata": {},
   "outputs": [],
   "source": [
    "a2 = np.random.standard_normal(10)"
   ]
  },
  {
   "cell_type": "code",
   "execution_count": 198,
   "id": "a5142cb5-b4ac-43ce-86ce-33c73f433854",
   "metadata": {},
   "outputs": [
    {
     "data": {
      "text/plain": [
       "(array([-1.38562082, -0.14369958,  1.37301326, -0.37720724,  1.12958493,\n",
       "        -0.34235074,  2.83431722,  0.091979  ,  0.67798558,  0.61156347]),\n",
       " array([ 1.63352591, -0.10557134,  0.89004543,  2.0303482 ,  2.1923991 ,\n",
       "         1.30411304,  0.74242631,  0.65598573, -1.59449857,  0.44455082]))"
      ]
     },
     "execution_count": 198,
     "metadata": {},
     "output_type": "execute_result"
    }
   ],
   "source": [
    "a1, a2"
   ]
  },
  {
   "cell_type": "code",
   "execution_count": 199,
   "id": "8c32736c-908e-450f-b188-0a181a0ac8ac",
   "metadata": {},
   "outputs": [
    {
     "data": {
      "text/plain": [
       "array([-3.01914673, -0.03812825,  0.48296783, -2.40755544, -1.06281417,\n",
       "       -1.64646379,  2.09189091, -0.56400674,  2.27248415,  0.16701265])"
      ]
     },
     "execution_count": 199,
     "metadata": {},
     "output_type": "execute_result"
    }
   ],
   "source": [
    "np.subtract(a1, a2)"
   ]
  },
  {
   "cell_type": "code",
   "execution_count": 200,
   "id": "d4709e5d-0d35-4c28-8268-060ffb3bd700",
   "metadata": {},
   "outputs": [
    {
     "data": {
      "text/plain": [
       "array([-2.26344751,  0.01517056,  1.22204418, -0.76586205,  2.47650097,\n",
       "       -0.44646407,  2.10427168,  0.06033691, -1.08104704,  0.27187105])"
      ]
     },
     "execution_count": 200,
     "metadata": {},
     "output_type": "execute_result"
    }
   ],
   "source": [
    "np.multiply(a1, a2)"
   ]
  },
  {
   "cell_type": "code",
   "execution_count": 201,
   "id": "12131960-bdaf-4c42-a7a9-2ab820056e31",
   "metadata": {},
   "outputs": [
    {
     "data": {
      "text/plain": [
       "array([-0.84823927,  1.36116099,  1.54263279, -0.18578451,  0.51522778,\n",
       "       -0.26251616,  3.81764112,  0.14021493, -0.42520301,  1.37568854])"
      ]
     },
     "execution_count": 201,
     "metadata": {},
     "output_type": "execute_result"
    }
   ],
   "source": [
    "np.divide(a1, a2)"
   ]
  },
  {
   "cell_type": "code",
   "execution_count": 202,
   "id": "7d48591d-eecb-4dc2-9152-4ebd1f41e465",
   "metadata": {},
   "outputs": [
    {
     "data": {
      "text/plain": [
       "array([-1.,  1.,  1., -1.,  0., -1.,  3.,  0., -1.,  1.])"
      ]
     },
     "execution_count": 202,
     "metadata": {},
     "output_type": "execute_result"
    }
   ],
   "source": [
    "np.floor_divide(a1, a2)"
   ]
  },
  {
   "cell_type": "code",
   "execution_count": 203,
   "id": "09796565-0dd5-4b07-825d-7fa78ca40ede",
   "metadata": {},
   "outputs": [
    {
     "data": {
      "text/plain": [
       "array([ 0.24790508, -0.03812825,  0.48296783,  1.65314095,  1.12958493,\n",
       "        0.9617623 ,  0.60703828,  0.091979  , -0.91651298,  0.16701265])"
      ]
     },
     "execution_count": 203,
     "metadata": {},
     "output_type": "execute_result"
    }
   ],
   "source": [
    "np.mod(a1,a2)"
   ]
  },
  {
   "cell_type": "code",
   "execution_count": 204,
   "id": "876e8ca6-23b3-48b1-be30-feee7af14fca",
   "metadata": {},
   "outputs": [
    {
     "data": {
      "text/plain": [
       "array([-1.38562082, -0.14369958,  0.89004543, -0.37720724,  1.12958493,\n",
       "       -0.34235074,  0.74242631,  0.091979  , -1.59449857,  0.44455082])"
      ]
     },
     "execution_count": 204,
     "metadata": {},
     "output_type": "execute_result"
    }
   ],
   "source": [
    "np.minimum(a1, a2)"
   ]
  },
  {
   "cell_type": "code",
   "execution_count": 205,
   "id": "7082ae76-cbbe-4e55-985d-741a60acc221",
   "metadata": {},
   "outputs": [
    {
     "data": {
      "text/plain": [
       "array([False, False,  True, False, False, False,  True, False,  True,\n",
       "        True])"
      ]
     },
     "execution_count": 205,
     "metadata": {},
     "output_type": "execute_result"
    }
   ],
   "source": [
    "np.greater(a1, a2)"
   ]
  },
  {
   "cell_type": "code",
   "execution_count": 206,
   "id": "42cf4796-f2ee-44a6-bed3-1dc2b1f5c8a4",
   "metadata": {},
   "outputs": [
    {
     "data": {
      "text/plain": [
       "array([False, False,  True, False, False, False,  True, False,  True,\n",
       "        True])"
      ]
     },
     "execution_count": 206,
     "metadata": {},
     "output_type": "execute_result"
    }
   ],
   "source": [
    "np.greater_equal(a1, a2)"
   ]
  },
  {
   "cell_type": "code",
   "execution_count": 207,
   "id": "8df58a4c-bb6c-486e-9847-6d80f7667b7f",
   "metadata": {},
   "outputs": [
    {
     "data": {
      "text/plain": [
       "array([ True,  True,  True,  True,  True,  True,  True,  True,  True,\n",
       "        True])"
      ]
     },
     "execution_count": 207,
     "metadata": {},
     "output_type": "execute_result"
    }
   ],
   "source": [
    "np.logical_and(a1, a2)"
   ]
  },
  {
   "cell_type": "code",
   "execution_count": 208,
   "id": "213efeb0-1212-4735-9dfd-420466bc7c61",
   "metadata": {},
   "outputs": [],
   "source": [
    "a1 = np.arange(10)"
   ]
  },
  {
   "cell_type": "code",
   "execution_count": 209,
   "id": "32e15bef-26dd-4920-bf1c-85bd3166f015",
   "metadata": {},
   "outputs": [],
   "source": [
    "powers = np.arange(10, 0, -1)"
   ]
  },
  {
   "cell_type": "code",
   "execution_count": 210,
   "id": "b6663b9e-5778-40f1-a644-5cbb41ea94e7",
   "metadata": {},
   "outputs": [
    {
     "data": {
      "text/plain": [
       "array([10,  9,  8,  7,  6,  5,  4,  3,  2,  1])"
      ]
     },
     "execution_count": 210,
     "metadata": {},
     "output_type": "execute_result"
    }
   ],
   "source": [
    "powers"
   ]
  },
  {
   "cell_type": "code",
   "execution_count": 211,
   "id": "3c305adb-b3c4-40f7-bcb3-2f3f2e965968",
   "metadata": {},
   "outputs": [
    {
     "data": {
      "text/plain": [
       "array([   0,    1,  256, 2187, 4096, 3125, 1296,  343,   64,    9])"
      ]
     },
     "execution_count": 211,
     "metadata": {},
     "output_type": "execute_result"
    }
   ],
   "source": [
    "np.power(a1, powers)"
   ]
  },
  {
   "cell_type": "markdown",
   "id": "df1e7aa2-a050-4f2a-99b5-9cd25df79a9e",
   "metadata": {},
   "source": [
    "# Array Oriented Programming"
   ]
  },
  {
   "cell_type": "code",
   "execution_count": 212,
   "id": "fa003994-db53-4805-b99a-e8fdecfa8f0a",
   "metadata": {},
   "outputs": [],
   "source": [
    "points = np.arange(-5, 5, 0.01)"
   ]
  },
  {
   "cell_type": "code",
   "execution_count": 213,
   "id": "e3dfe2e6-ccea-4b18-9f21-394c744d2c52",
   "metadata": {
    "scrolled": true
   },
   "outputs": [
    {
     "data": {
      "text/plain": [
       "array([-5.0000000e+00, -4.9900000e+00, -4.9800000e+00, -4.9700000e+00,\n",
       "       -4.9600000e+00, -4.9500000e+00, -4.9400000e+00, -4.9300000e+00,\n",
       "       -4.9200000e+00, -4.9100000e+00, -4.9000000e+00, -4.8900000e+00,\n",
       "       -4.8800000e+00, -4.8700000e+00, -4.8600000e+00, -4.8500000e+00,\n",
       "       -4.8400000e+00, -4.8300000e+00, -4.8200000e+00, -4.8100000e+00,\n",
       "       -4.8000000e+00, -4.7900000e+00, -4.7800000e+00, -4.7700000e+00,\n",
       "       -4.7600000e+00, -4.7500000e+00, -4.7400000e+00, -4.7300000e+00,\n",
       "       -4.7200000e+00, -4.7100000e+00, -4.7000000e+00, -4.6900000e+00,\n",
       "       -4.6800000e+00, -4.6700000e+00, -4.6600000e+00, -4.6500000e+00,\n",
       "       -4.6400000e+00, -4.6300000e+00, -4.6200000e+00, -4.6100000e+00,\n",
       "       -4.6000000e+00, -4.5900000e+00, -4.5800000e+00, -4.5700000e+00,\n",
       "       -4.5600000e+00, -4.5500000e+00, -4.5400000e+00, -4.5300000e+00,\n",
       "       -4.5200000e+00, -4.5100000e+00, -4.5000000e+00, -4.4900000e+00,\n",
       "       -4.4800000e+00, -4.4700000e+00, -4.4600000e+00, -4.4500000e+00,\n",
       "       -4.4400000e+00, -4.4300000e+00, -4.4200000e+00, -4.4100000e+00,\n",
       "       -4.4000000e+00, -4.3900000e+00, -4.3800000e+00, -4.3700000e+00,\n",
       "       -4.3600000e+00, -4.3500000e+00, -4.3400000e+00, -4.3300000e+00,\n",
       "       -4.3200000e+00, -4.3100000e+00, -4.3000000e+00, -4.2900000e+00,\n",
       "       -4.2800000e+00, -4.2700000e+00, -4.2600000e+00, -4.2500000e+00,\n",
       "       -4.2400000e+00, -4.2300000e+00, -4.2200000e+00, -4.2100000e+00,\n",
       "       -4.2000000e+00, -4.1900000e+00, -4.1800000e+00, -4.1700000e+00,\n",
       "       -4.1600000e+00, -4.1500000e+00, -4.1400000e+00, -4.1300000e+00,\n",
       "       -4.1200000e+00, -4.1100000e+00, -4.1000000e+00, -4.0900000e+00,\n",
       "       -4.0800000e+00, -4.0700000e+00, -4.0600000e+00, -4.0500000e+00,\n",
       "       -4.0400000e+00, -4.0300000e+00, -4.0200000e+00, -4.0100000e+00,\n",
       "       -4.0000000e+00, -3.9900000e+00, -3.9800000e+00, -3.9700000e+00,\n",
       "       -3.9600000e+00, -3.9500000e+00, -3.9400000e+00, -3.9300000e+00,\n",
       "       -3.9200000e+00, -3.9100000e+00, -3.9000000e+00, -3.8900000e+00,\n",
       "       -3.8800000e+00, -3.8700000e+00, -3.8600000e+00, -3.8500000e+00,\n",
       "       -3.8400000e+00, -3.8300000e+00, -3.8200000e+00, -3.8100000e+00,\n",
       "       -3.8000000e+00, -3.7900000e+00, -3.7800000e+00, -3.7700000e+00,\n",
       "       -3.7600000e+00, -3.7500000e+00, -3.7400000e+00, -3.7300000e+00,\n",
       "       -3.7200000e+00, -3.7100000e+00, -3.7000000e+00, -3.6900000e+00,\n",
       "       -3.6800000e+00, -3.6700000e+00, -3.6600000e+00, -3.6500000e+00,\n",
       "       -3.6400000e+00, -3.6300000e+00, -3.6200000e+00, -3.6100000e+00,\n",
       "       -3.6000000e+00, -3.5900000e+00, -3.5800000e+00, -3.5700000e+00,\n",
       "       -3.5600000e+00, -3.5500000e+00, -3.5400000e+00, -3.5300000e+00,\n",
       "       -3.5200000e+00, -3.5100000e+00, -3.5000000e+00, -3.4900000e+00,\n",
       "       -3.4800000e+00, -3.4700000e+00, -3.4600000e+00, -3.4500000e+00,\n",
       "       -3.4400000e+00, -3.4300000e+00, -3.4200000e+00, -3.4100000e+00,\n",
       "       -3.4000000e+00, -3.3900000e+00, -3.3800000e+00, -3.3700000e+00,\n",
       "       -3.3600000e+00, -3.3500000e+00, -3.3400000e+00, -3.3300000e+00,\n",
       "       -3.3200000e+00, -3.3100000e+00, -3.3000000e+00, -3.2900000e+00,\n",
       "       -3.2800000e+00, -3.2700000e+00, -3.2600000e+00, -3.2500000e+00,\n",
       "       -3.2400000e+00, -3.2300000e+00, -3.2200000e+00, -3.2100000e+00,\n",
       "       -3.2000000e+00, -3.1900000e+00, -3.1800000e+00, -3.1700000e+00,\n",
       "       -3.1600000e+00, -3.1500000e+00, -3.1400000e+00, -3.1300000e+00,\n",
       "       -3.1200000e+00, -3.1100000e+00, -3.1000000e+00, -3.0900000e+00,\n",
       "       -3.0800000e+00, -3.0700000e+00, -3.0600000e+00, -3.0500000e+00,\n",
       "       -3.0400000e+00, -3.0300000e+00, -3.0200000e+00, -3.0100000e+00,\n",
       "       -3.0000000e+00, -2.9900000e+00, -2.9800000e+00, -2.9700000e+00,\n",
       "       -2.9600000e+00, -2.9500000e+00, -2.9400000e+00, -2.9300000e+00,\n",
       "       -2.9200000e+00, -2.9100000e+00, -2.9000000e+00, -2.8900000e+00,\n",
       "       -2.8800000e+00, -2.8700000e+00, -2.8600000e+00, -2.8500000e+00,\n",
       "       -2.8400000e+00, -2.8300000e+00, -2.8200000e+00, -2.8100000e+00,\n",
       "       -2.8000000e+00, -2.7900000e+00, -2.7800000e+00, -2.7700000e+00,\n",
       "       -2.7600000e+00, -2.7500000e+00, -2.7400000e+00, -2.7300000e+00,\n",
       "       -2.7200000e+00, -2.7100000e+00, -2.7000000e+00, -2.6900000e+00,\n",
       "       -2.6800000e+00, -2.6700000e+00, -2.6600000e+00, -2.6500000e+00,\n",
       "       -2.6400000e+00, -2.6300000e+00, -2.6200000e+00, -2.6100000e+00,\n",
       "       -2.6000000e+00, -2.5900000e+00, -2.5800000e+00, -2.5700000e+00,\n",
       "       -2.5600000e+00, -2.5500000e+00, -2.5400000e+00, -2.5300000e+00,\n",
       "       -2.5200000e+00, -2.5100000e+00, -2.5000000e+00, -2.4900000e+00,\n",
       "       -2.4800000e+00, -2.4700000e+00, -2.4600000e+00, -2.4500000e+00,\n",
       "       -2.4400000e+00, -2.4300000e+00, -2.4200000e+00, -2.4100000e+00,\n",
       "       -2.4000000e+00, -2.3900000e+00, -2.3800000e+00, -2.3700000e+00,\n",
       "       -2.3600000e+00, -2.3500000e+00, -2.3400000e+00, -2.3300000e+00,\n",
       "       -2.3200000e+00, -2.3100000e+00, -2.3000000e+00, -2.2900000e+00,\n",
       "       -2.2800000e+00, -2.2700000e+00, -2.2600000e+00, -2.2500000e+00,\n",
       "       -2.2400000e+00, -2.2300000e+00, -2.2200000e+00, -2.2100000e+00,\n",
       "       -2.2000000e+00, -2.1900000e+00, -2.1800000e+00, -2.1700000e+00,\n",
       "       -2.1600000e+00, -2.1500000e+00, -2.1400000e+00, -2.1300000e+00,\n",
       "       -2.1200000e+00, -2.1100000e+00, -2.1000000e+00, -2.0900000e+00,\n",
       "       -2.0800000e+00, -2.0700000e+00, -2.0600000e+00, -2.0500000e+00,\n",
       "       -2.0400000e+00, -2.0300000e+00, -2.0200000e+00, -2.0100000e+00,\n",
       "       -2.0000000e+00, -1.9900000e+00, -1.9800000e+00, -1.9700000e+00,\n",
       "       -1.9600000e+00, -1.9500000e+00, -1.9400000e+00, -1.9300000e+00,\n",
       "       -1.9200000e+00, -1.9100000e+00, -1.9000000e+00, -1.8900000e+00,\n",
       "       -1.8800000e+00, -1.8700000e+00, -1.8600000e+00, -1.8500000e+00,\n",
       "       -1.8400000e+00, -1.8300000e+00, -1.8200000e+00, -1.8100000e+00,\n",
       "       -1.8000000e+00, -1.7900000e+00, -1.7800000e+00, -1.7700000e+00,\n",
       "       -1.7600000e+00, -1.7500000e+00, -1.7400000e+00, -1.7300000e+00,\n",
       "       -1.7200000e+00, -1.7100000e+00, -1.7000000e+00, -1.6900000e+00,\n",
       "       -1.6800000e+00, -1.6700000e+00, -1.6600000e+00, -1.6500000e+00,\n",
       "       -1.6400000e+00, -1.6300000e+00, -1.6200000e+00, -1.6100000e+00,\n",
       "       -1.6000000e+00, -1.5900000e+00, -1.5800000e+00, -1.5700000e+00,\n",
       "       -1.5600000e+00, -1.5500000e+00, -1.5400000e+00, -1.5300000e+00,\n",
       "       -1.5200000e+00, -1.5100000e+00, -1.5000000e+00, -1.4900000e+00,\n",
       "       -1.4800000e+00, -1.4700000e+00, -1.4600000e+00, -1.4500000e+00,\n",
       "       -1.4400000e+00, -1.4300000e+00, -1.4200000e+00, -1.4100000e+00,\n",
       "       -1.4000000e+00, -1.3900000e+00, -1.3800000e+00, -1.3700000e+00,\n",
       "       -1.3600000e+00, -1.3500000e+00, -1.3400000e+00, -1.3300000e+00,\n",
       "       -1.3200000e+00, -1.3100000e+00, -1.3000000e+00, -1.2900000e+00,\n",
       "       -1.2800000e+00, -1.2700000e+00, -1.2600000e+00, -1.2500000e+00,\n",
       "       -1.2400000e+00, -1.2300000e+00, -1.2200000e+00, -1.2100000e+00,\n",
       "       -1.2000000e+00, -1.1900000e+00, -1.1800000e+00, -1.1700000e+00,\n",
       "       -1.1600000e+00, -1.1500000e+00, -1.1400000e+00, -1.1300000e+00,\n",
       "       -1.1200000e+00, -1.1100000e+00, -1.1000000e+00, -1.0900000e+00,\n",
       "       -1.0800000e+00, -1.0700000e+00, -1.0600000e+00, -1.0500000e+00,\n",
       "       -1.0400000e+00, -1.0300000e+00, -1.0200000e+00, -1.0100000e+00,\n",
       "       -1.0000000e+00, -9.9000000e-01, -9.8000000e-01, -9.7000000e-01,\n",
       "       -9.6000000e-01, -9.5000000e-01, -9.4000000e-01, -9.3000000e-01,\n",
       "       -9.2000000e-01, -9.1000000e-01, -9.0000000e-01, -8.9000000e-01,\n",
       "       -8.8000000e-01, -8.7000000e-01, -8.6000000e-01, -8.5000000e-01,\n",
       "       -8.4000000e-01, -8.3000000e-01, -8.2000000e-01, -8.1000000e-01,\n",
       "       -8.0000000e-01, -7.9000000e-01, -7.8000000e-01, -7.7000000e-01,\n",
       "       -7.6000000e-01, -7.5000000e-01, -7.4000000e-01, -7.3000000e-01,\n",
       "       -7.2000000e-01, -7.1000000e-01, -7.0000000e-01, -6.9000000e-01,\n",
       "       -6.8000000e-01, -6.7000000e-01, -6.6000000e-01, -6.5000000e-01,\n",
       "       -6.4000000e-01, -6.3000000e-01, -6.2000000e-01, -6.1000000e-01,\n",
       "       -6.0000000e-01, -5.9000000e-01, -5.8000000e-01, -5.7000000e-01,\n",
       "       -5.6000000e-01, -5.5000000e-01, -5.4000000e-01, -5.3000000e-01,\n",
       "       -5.2000000e-01, -5.1000000e-01, -5.0000000e-01, -4.9000000e-01,\n",
       "       -4.8000000e-01, -4.7000000e-01, -4.6000000e-01, -4.5000000e-01,\n",
       "       -4.4000000e-01, -4.3000000e-01, -4.2000000e-01, -4.1000000e-01,\n",
       "       -4.0000000e-01, -3.9000000e-01, -3.8000000e-01, -3.7000000e-01,\n",
       "       -3.6000000e-01, -3.5000000e-01, -3.4000000e-01, -3.3000000e-01,\n",
       "       -3.2000000e-01, -3.1000000e-01, -3.0000000e-01, -2.9000000e-01,\n",
       "       -2.8000000e-01, -2.7000000e-01, -2.6000000e-01, -2.5000000e-01,\n",
       "       -2.4000000e-01, -2.3000000e-01, -2.2000000e-01, -2.1000000e-01,\n",
       "       -2.0000000e-01, -1.9000000e-01, -1.8000000e-01, -1.7000000e-01,\n",
       "       -1.6000000e-01, -1.5000000e-01, -1.4000000e-01, -1.3000000e-01,\n",
       "       -1.2000000e-01, -1.1000000e-01, -1.0000000e-01, -9.0000000e-02,\n",
       "       -8.0000000e-02, -7.0000000e-02, -6.0000000e-02, -5.0000000e-02,\n",
       "       -4.0000000e-02, -3.0000000e-02, -2.0000000e-02, -1.0000000e-02,\n",
       "       -1.0658141e-13,  1.0000000e-02,  2.0000000e-02,  3.0000000e-02,\n",
       "        4.0000000e-02,  5.0000000e-02,  6.0000000e-02,  7.0000000e-02,\n",
       "        8.0000000e-02,  9.0000000e-02,  1.0000000e-01,  1.1000000e-01,\n",
       "        1.2000000e-01,  1.3000000e-01,  1.4000000e-01,  1.5000000e-01,\n",
       "        1.6000000e-01,  1.7000000e-01,  1.8000000e-01,  1.9000000e-01,\n",
       "        2.0000000e-01,  2.1000000e-01,  2.2000000e-01,  2.3000000e-01,\n",
       "        2.4000000e-01,  2.5000000e-01,  2.6000000e-01,  2.7000000e-01,\n",
       "        2.8000000e-01,  2.9000000e-01,  3.0000000e-01,  3.1000000e-01,\n",
       "        3.2000000e-01,  3.3000000e-01,  3.4000000e-01,  3.5000000e-01,\n",
       "        3.6000000e-01,  3.7000000e-01,  3.8000000e-01,  3.9000000e-01,\n",
       "        4.0000000e-01,  4.1000000e-01,  4.2000000e-01,  4.3000000e-01,\n",
       "        4.4000000e-01,  4.5000000e-01,  4.6000000e-01,  4.7000000e-01,\n",
       "        4.8000000e-01,  4.9000000e-01,  5.0000000e-01,  5.1000000e-01,\n",
       "        5.2000000e-01,  5.3000000e-01,  5.4000000e-01,  5.5000000e-01,\n",
       "        5.6000000e-01,  5.7000000e-01,  5.8000000e-01,  5.9000000e-01,\n",
       "        6.0000000e-01,  6.1000000e-01,  6.2000000e-01,  6.3000000e-01,\n",
       "        6.4000000e-01,  6.5000000e-01,  6.6000000e-01,  6.7000000e-01,\n",
       "        6.8000000e-01,  6.9000000e-01,  7.0000000e-01,  7.1000000e-01,\n",
       "        7.2000000e-01,  7.3000000e-01,  7.4000000e-01,  7.5000000e-01,\n",
       "        7.6000000e-01,  7.7000000e-01,  7.8000000e-01,  7.9000000e-01,\n",
       "        8.0000000e-01,  8.1000000e-01,  8.2000000e-01,  8.3000000e-01,\n",
       "        8.4000000e-01,  8.5000000e-01,  8.6000000e-01,  8.7000000e-01,\n",
       "        8.8000000e-01,  8.9000000e-01,  9.0000000e-01,  9.1000000e-01,\n",
       "        9.2000000e-01,  9.3000000e-01,  9.4000000e-01,  9.5000000e-01,\n",
       "        9.6000000e-01,  9.7000000e-01,  9.8000000e-01,  9.9000000e-01,\n",
       "        1.0000000e+00,  1.0100000e+00,  1.0200000e+00,  1.0300000e+00,\n",
       "        1.0400000e+00,  1.0500000e+00,  1.0600000e+00,  1.0700000e+00,\n",
       "        1.0800000e+00,  1.0900000e+00,  1.1000000e+00,  1.1100000e+00,\n",
       "        1.1200000e+00,  1.1300000e+00,  1.1400000e+00,  1.1500000e+00,\n",
       "        1.1600000e+00,  1.1700000e+00,  1.1800000e+00,  1.1900000e+00,\n",
       "        1.2000000e+00,  1.2100000e+00,  1.2200000e+00,  1.2300000e+00,\n",
       "        1.2400000e+00,  1.2500000e+00,  1.2600000e+00,  1.2700000e+00,\n",
       "        1.2800000e+00,  1.2900000e+00,  1.3000000e+00,  1.3100000e+00,\n",
       "        1.3200000e+00,  1.3300000e+00,  1.3400000e+00,  1.3500000e+00,\n",
       "        1.3600000e+00,  1.3700000e+00,  1.3800000e+00,  1.3900000e+00,\n",
       "        1.4000000e+00,  1.4100000e+00,  1.4200000e+00,  1.4300000e+00,\n",
       "        1.4400000e+00,  1.4500000e+00,  1.4600000e+00,  1.4700000e+00,\n",
       "        1.4800000e+00,  1.4900000e+00,  1.5000000e+00,  1.5100000e+00,\n",
       "        1.5200000e+00,  1.5300000e+00,  1.5400000e+00,  1.5500000e+00,\n",
       "        1.5600000e+00,  1.5700000e+00,  1.5800000e+00,  1.5900000e+00,\n",
       "        1.6000000e+00,  1.6100000e+00,  1.6200000e+00,  1.6300000e+00,\n",
       "        1.6400000e+00,  1.6500000e+00,  1.6600000e+00,  1.6700000e+00,\n",
       "        1.6800000e+00,  1.6900000e+00,  1.7000000e+00,  1.7100000e+00,\n",
       "        1.7200000e+00,  1.7300000e+00,  1.7400000e+00,  1.7500000e+00,\n",
       "        1.7600000e+00,  1.7700000e+00,  1.7800000e+00,  1.7900000e+00,\n",
       "        1.8000000e+00,  1.8100000e+00,  1.8200000e+00,  1.8300000e+00,\n",
       "        1.8400000e+00,  1.8500000e+00,  1.8600000e+00,  1.8700000e+00,\n",
       "        1.8800000e+00,  1.8900000e+00,  1.9000000e+00,  1.9100000e+00,\n",
       "        1.9200000e+00,  1.9300000e+00,  1.9400000e+00,  1.9500000e+00,\n",
       "        1.9600000e+00,  1.9700000e+00,  1.9800000e+00,  1.9900000e+00,\n",
       "        2.0000000e+00,  2.0100000e+00,  2.0200000e+00,  2.0300000e+00,\n",
       "        2.0400000e+00,  2.0500000e+00,  2.0600000e+00,  2.0700000e+00,\n",
       "        2.0800000e+00,  2.0900000e+00,  2.1000000e+00,  2.1100000e+00,\n",
       "        2.1200000e+00,  2.1300000e+00,  2.1400000e+00,  2.1500000e+00,\n",
       "        2.1600000e+00,  2.1700000e+00,  2.1800000e+00,  2.1900000e+00,\n",
       "        2.2000000e+00,  2.2100000e+00,  2.2200000e+00,  2.2300000e+00,\n",
       "        2.2400000e+00,  2.2500000e+00,  2.2600000e+00,  2.2700000e+00,\n",
       "        2.2800000e+00,  2.2900000e+00,  2.3000000e+00,  2.3100000e+00,\n",
       "        2.3200000e+00,  2.3300000e+00,  2.3400000e+00,  2.3500000e+00,\n",
       "        2.3600000e+00,  2.3700000e+00,  2.3800000e+00,  2.3900000e+00,\n",
       "        2.4000000e+00,  2.4100000e+00,  2.4200000e+00,  2.4300000e+00,\n",
       "        2.4400000e+00,  2.4500000e+00,  2.4600000e+00,  2.4700000e+00,\n",
       "        2.4800000e+00,  2.4900000e+00,  2.5000000e+00,  2.5100000e+00,\n",
       "        2.5200000e+00,  2.5300000e+00,  2.5400000e+00,  2.5500000e+00,\n",
       "        2.5600000e+00,  2.5700000e+00,  2.5800000e+00,  2.5900000e+00,\n",
       "        2.6000000e+00,  2.6100000e+00,  2.6200000e+00,  2.6300000e+00,\n",
       "        2.6400000e+00,  2.6500000e+00,  2.6600000e+00,  2.6700000e+00,\n",
       "        2.6800000e+00,  2.6900000e+00,  2.7000000e+00,  2.7100000e+00,\n",
       "        2.7200000e+00,  2.7300000e+00,  2.7400000e+00,  2.7500000e+00,\n",
       "        2.7600000e+00,  2.7700000e+00,  2.7800000e+00,  2.7900000e+00,\n",
       "        2.8000000e+00,  2.8100000e+00,  2.8200000e+00,  2.8300000e+00,\n",
       "        2.8400000e+00,  2.8500000e+00,  2.8600000e+00,  2.8700000e+00,\n",
       "        2.8800000e+00,  2.8900000e+00,  2.9000000e+00,  2.9100000e+00,\n",
       "        2.9200000e+00,  2.9300000e+00,  2.9400000e+00,  2.9500000e+00,\n",
       "        2.9600000e+00,  2.9700000e+00,  2.9800000e+00,  2.9900000e+00,\n",
       "        3.0000000e+00,  3.0100000e+00,  3.0200000e+00,  3.0300000e+00,\n",
       "        3.0400000e+00,  3.0500000e+00,  3.0600000e+00,  3.0700000e+00,\n",
       "        3.0800000e+00,  3.0900000e+00,  3.1000000e+00,  3.1100000e+00,\n",
       "        3.1200000e+00,  3.1300000e+00,  3.1400000e+00,  3.1500000e+00,\n",
       "        3.1600000e+00,  3.1700000e+00,  3.1800000e+00,  3.1900000e+00,\n",
       "        3.2000000e+00,  3.2100000e+00,  3.2200000e+00,  3.2300000e+00,\n",
       "        3.2400000e+00,  3.2500000e+00,  3.2600000e+00,  3.2700000e+00,\n",
       "        3.2800000e+00,  3.2900000e+00,  3.3000000e+00,  3.3100000e+00,\n",
       "        3.3200000e+00,  3.3300000e+00,  3.3400000e+00,  3.3500000e+00,\n",
       "        3.3600000e+00,  3.3700000e+00,  3.3800000e+00,  3.3900000e+00,\n",
       "        3.4000000e+00,  3.4100000e+00,  3.4200000e+00,  3.4300000e+00,\n",
       "        3.4400000e+00,  3.4500000e+00,  3.4600000e+00,  3.4700000e+00,\n",
       "        3.4800000e+00,  3.4900000e+00,  3.5000000e+00,  3.5100000e+00,\n",
       "        3.5200000e+00,  3.5300000e+00,  3.5400000e+00,  3.5500000e+00,\n",
       "        3.5600000e+00,  3.5700000e+00,  3.5800000e+00,  3.5900000e+00,\n",
       "        3.6000000e+00,  3.6100000e+00,  3.6200000e+00,  3.6300000e+00,\n",
       "        3.6400000e+00,  3.6500000e+00,  3.6600000e+00,  3.6700000e+00,\n",
       "        3.6800000e+00,  3.6900000e+00,  3.7000000e+00,  3.7100000e+00,\n",
       "        3.7200000e+00,  3.7300000e+00,  3.7400000e+00,  3.7500000e+00,\n",
       "        3.7600000e+00,  3.7700000e+00,  3.7800000e+00,  3.7900000e+00,\n",
       "        3.8000000e+00,  3.8100000e+00,  3.8200000e+00,  3.8300000e+00,\n",
       "        3.8400000e+00,  3.8500000e+00,  3.8600000e+00,  3.8700000e+00,\n",
       "        3.8800000e+00,  3.8900000e+00,  3.9000000e+00,  3.9100000e+00,\n",
       "        3.9200000e+00,  3.9300000e+00,  3.9400000e+00,  3.9500000e+00,\n",
       "        3.9600000e+00,  3.9700000e+00,  3.9800000e+00,  3.9900000e+00,\n",
       "        4.0000000e+00,  4.0100000e+00,  4.0200000e+00,  4.0300000e+00,\n",
       "        4.0400000e+00,  4.0500000e+00,  4.0600000e+00,  4.0700000e+00,\n",
       "        4.0800000e+00,  4.0900000e+00,  4.1000000e+00,  4.1100000e+00,\n",
       "        4.1200000e+00,  4.1300000e+00,  4.1400000e+00,  4.1500000e+00,\n",
       "        4.1600000e+00,  4.1700000e+00,  4.1800000e+00,  4.1900000e+00,\n",
       "        4.2000000e+00,  4.2100000e+00,  4.2200000e+00,  4.2300000e+00,\n",
       "        4.2400000e+00,  4.2500000e+00,  4.2600000e+00,  4.2700000e+00,\n",
       "        4.2800000e+00,  4.2900000e+00,  4.3000000e+00,  4.3100000e+00,\n",
       "        4.3200000e+00,  4.3300000e+00,  4.3400000e+00,  4.3500000e+00,\n",
       "        4.3600000e+00,  4.3700000e+00,  4.3800000e+00,  4.3900000e+00,\n",
       "        4.4000000e+00,  4.4100000e+00,  4.4200000e+00,  4.4300000e+00,\n",
       "        4.4400000e+00,  4.4500000e+00,  4.4600000e+00,  4.4700000e+00,\n",
       "        4.4800000e+00,  4.4900000e+00,  4.5000000e+00,  4.5100000e+00,\n",
       "        4.5200000e+00,  4.5300000e+00,  4.5400000e+00,  4.5500000e+00,\n",
       "        4.5600000e+00,  4.5700000e+00,  4.5800000e+00,  4.5900000e+00,\n",
       "        4.6000000e+00,  4.6100000e+00,  4.6200000e+00,  4.6300000e+00,\n",
       "        4.6400000e+00,  4.6500000e+00,  4.6600000e+00,  4.6700000e+00,\n",
       "        4.6800000e+00,  4.6900000e+00,  4.7000000e+00,  4.7100000e+00,\n",
       "        4.7200000e+00,  4.7300000e+00,  4.7400000e+00,  4.7500000e+00,\n",
       "        4.7600000e+00,  4.7700000e+00,  4.7800000e+00,  4.7900000e+00,\n",
       "        4.8000000e+00,  4.8100000e+00,  4.8200000e+00,  4.8300000e+00,\n",
       "        4.8400000e+00,  4.8500000e+00,  4.8600000e+00,  4.8700000e+00,\n",
       "        4.8800000e+00,  4.8900000e+00,  4.9000000e+00,  4.9100000e+00,\n",
       "        4.9200000e+00,  4.9300000e+00,  4.9400000e+00,  4.9500000e+00,\n",
       "        4.9600000e+00,  4.9700000e+00,  4.9800000e+00,  4.9900000e+00])"
      ]
     },
     "execution_count": 213,
     "metadata": {},
     "output_type": "execute_result"
    }
   ],
   "source": [
    "points"
   ]
  },
  {
   "cell_type": "code",
   "execution_count": 214,
   "id": "d966787a-2e06-4a92-afa6-e63dc7f906e3",
   "metadata": {},
   "outputs": [],
   "source": [
    "xs, ys = np.meshgrid(points, points)"
   ]
  },
  {
   "cell_type": "code",
   "execution_count": 215,
   "id": "e2cd3393-4b84-467b-b7db-ab760edfdc36",
   "metadata": {},
   "outputs": [],
   "source": [
    "z = np.sqrt(xs ** 2 + ys ** 2)"
   ]
  },
  {
   "cell_type": "code",
   "execution_count": 216,
   "id": "0e990781-dbfd-4127-ae13-b9c33fc4bb86",
   "metadata": {},
   "outputs": [
    {
     "data": {
      "text/plain": [
       "array([[7.07106781, 7.06400028, 7.05693985, ..., 7.04988652, 7.05693985,\n",
       "        7.06400028],\n",
       "       [7.06400028, 7.05692568, 7.04985815, ..., 7.04279774, 7.04985815,\n",
       "        7.05692568],\n",
       "       [7.05693985, 7.04985815, 7.04278354, ..., 7.03571603, 7.04278354,\n",
       "        7.04985815],\n",
       "       ...,\n",
       "       [7.04988652, 7.04279774, 7.03571603, ..., 7.0286414 , 7.03571603,\n",
       "        7.04279774],\n",
       "       [7.05693985, 7.04985815, 7.04278354, ..., 7.03571603, 7.04278354,\n",
       "        7.04985815],\n",
       "       [7.06400028, 7.05692568, 7.04985815, ..., 7.04279774, 7.04985815,\n",
       "        7.05692568]])"
      ]
     },
     "execution_count": 216,
     "metadata": {},
     "output_type": "execute_result"
    }
   ],
   "source": [
    "z"
   ]
  },
  {
   "cell_type": "code",
   "execution_count": 217,
   "id": "c67b22e9-9968-4fc4-ad36-f4d678f88ce5",
   "metadata": {},
   "outputs": [],
   "source": [
    "import matplotlib.pyplot as plt"
   ]
  },
  {
   "cell_type": "code",
   "execution_count": 218,
   "id": "4f9c4574-76e8-41be-bea0-1bb6d756a070",
   "metadata": {},
   "outputs": [
    {
     "data": {
      "text/plain": [
       "Text(0.5, 1.0, 'Image plot of $\\\\sqrt{x^2 + y^2}$ for a grid of values')"
      ]
     },
     "execution_count": 218,
     "metadata": {},
     "output_type": "execute_result"
    },
    {
     "data": {
      "image/png": "[encoded data removed]",
      "text/plain": [
       "<Figure size 640x480 with 2 Axes>"
      ]
     },
     "metadata": {},
     "output_type": "display_data"
    }
   ],
   "source": [
    "plt.imshow(z, cmap= plt.cm.gray, extent= [-5, 5, -5, 5])\n",
    "plt.colorbar()\n",
    "plt.title(\"Image plot of $\\\\sqrt{x^2 + y^2}$ for a grid of values\")\n",
    "#plt.close('all')     #it will close the graph"
   ]
  },
  {
   "cell_type": "markdown",
   "id": "805457d9-6d32-4750-a172-8a0357e13584",
   "metadata": {},
   "source": [
    "## Conditional logic"
   ]
  },
  {
   "cell_type": "code",
   "execution_count": 219,
   "id": "815ac04b-8966-4b70-941b-08cd2b156321",
   "metadata": {},
   "outputs": [],
   "source": [
    "x = np.arange(1.1, 1.6, 0.1)"
   ]
  },
  {
   "cell_type": "code",
   "execution_count": 220,
   "id": "42acd40e-2274-498f-9eee-18c1c668e0a8",
   "metadata": {},
   "outputs": [
    {
     "data": {
      "text/plain": [
       "array([1.1, 1.2, 1.3, 1.4, 1.5])"
      ]
     },
     "execution_count": 220,
     "metadata": {},
     "output_type": "execute_result"
    }
   ],
   "source": [
    "x"
   ]
  },
  {
   "cell_type": "code",
   "execution_count": 221,
   "id": "8e6898d3-8105-45bc-805c-434adc164092",
   "metadata": {},
   "outputs": [],
   "source": [
    "y = np.arange(2.1, 2.6, 0.1)"
   ]
  },
  {
   "cell_type": "code",
   "execution_count": 222,
   "id": "a58aa3f4-ce62-4ffa-a093-95543577b6e4",
   "metadata": {},
   "outputs": [
    {
     "data": {
      "text/plain": [
       "array([2.1, 2.2, 2.3, 2.4, 2.5])"
      ]
     },
     "execution_count": 222,
     "metadata": {},
     "output_type": "execute_result"
    }
   ],
   "source": [
    "y"
   ]
  },
  {
   "cell_type": "code",
   "execution_count": 223,
   "id": "ba37b602-8eaa-485b-9d14-01796bc43670",
   "metadata": {},
   "outputs": [],
   "source": [
    "condition = np.array([True, False, True, True, False])"
   ]
  },
  {
   "cell_type": "code",
   "execution_count": 224,
   "id": "04a578dc-0d34-4a35-a17d-0e37dce831b4",
   "metadata": {},
   "outputs": [
    {
     "data": {
      "text/plain": [
       "array([1.1, 2.2, 1.3, 1.4, 2.5])"
      ]
     },
     "execution_count": 224,
     "metadata": {},
     "output_type": "execute_result"
    }
   ],
   "source": [
    "np.where(condition, x, y)      #vectorized form of x if condition else y (ternary expression)"
   ]
  },
  {
   "cell_type": "code",
   "execution_count": 225,
   "id": "a5519c8b-8dd8-4794-888a-5a3ac8957cc2",
   "metadata": {},
   "outputs": [
    {
     "data": {
      "text/plain": [
       "array([False, False, False, False,  True,  True,  True,  True,  True,\n",
       "        True])"
      ]
     },
     "execution_count": 225,
     "metadata": {},
     "output_type": "execute_result"
    }
   ],
   "source": [
    "arr > 7"
   ]
  },
  {
   "cell_type": "code",
   "execution_count": 226,
   "id": "0c3ea255-592b-4c68-ac07-6d8225c91951",
   "metadata": {},
   "outputs": [
    {
     "data": {
      "text/plain": [
       "array([1, 1, 1, 1, 0, 0, 0, 0, 0, 0])"
      ]
     },
     "execution_count": 226,
     "metadata": {},
     "output_type": "execute_result"
    }
   ],
   "source": [
    "np.where(arr > 7, 0, 1)"
   ]
  },
  {
   "cell_type": "code",
   "execution_count": 227,
   "id": "a0bbb887-b77d-4275-9093-1887d3acf3db",
   "metadata": {},
   "outputs": [
    {
     "data": {
      "text/plain": [
       "array([1, 3, 5, 7, 0, 0, 0, 0, 0, 0])"
      ]
     },
     "execution_count": 227,
     "metadata": {},
     "output_type": "execute_result"
    }
   ],
   "source": [
    "np.where(arr > 7, 0, arr)"
   ]
  },
  {
   "cell_type": "markdown",
   "id": "4d3db2f5-d7d2-45f9-8ecf-cba6fc73229a",
   "metadata": {},
   "source": [
    "## Mathematical and Statistical methods"
   ]
  },
  {
   "cell_type": "code",
   "execution_count": 228,
   "id": "e96fd5a7-c5b7-4d53-b059-e8b0a6d9bafb",
   "metadata": {},
   "outputs": [],
   "source": [
    "arr = np.random.standard_normal((4, 5))"
   ]
  },
  {
   "cell_type": "code",
   "execution_count": 229,
   "id": "52c0e082-5248-4a7b-8241-dbf40a19499b",
   "metadata": {},
   "outputs": [
    {
     "data": {
      "text/plain": [
       "array([[ 0.34363533, -0.27420377,  0.82765612,  0.82130568, -0.71842794],\n",
       "       [ 0.7693296 ,  0.91304353, -0.357749  , -2.09666984,  0.30832991],\n",
       "       [ 0.30562282,  0.41155288,  1.50713526,  0.45606809,  2.35882505],\n",
       "       [-0.01096264, -0.8145693 ,  0.54753252,  0.69010536,  0.13762861]])"
      ]
     },
     "execution_count": 229,
     "metadata": {},
     "output_type": "execute_result"
    }
   ],
   "source": [
    "arr"
   ]
  },
  {
   "cell_type": "code",
   "execution_count": 230,
   "id": "08e0d523-3788-4037-816f-56bfc080aafd",
   "metadata": {},
   "outputs": [
    {
     "data": {
      "text/plain": [
       "0.3062594128716421"
      ]
     },
     "execution_count": 230,
     "metadata": {},
     "output_type": "execute_result"
    }
   ],
   "source": [
    "arr.mean()"
   ]
  },
  {
   "cell_type": "code",
   "execution_count": 231,
   "id": "5a3f9e86-fd94-4e88-a046-3c935ddd2bcb",
   "metadata": {},
   "outputs": [
    {
     "data": {
      "text/plain": [
       "0.3062594128716421"
      ]
     },
     "execution_count": 231,
     "metadata": {},
     "output_type": "execute_result"
    }
   ],
   "source": [
    "np.mean(arr)"
   ]
  },
  {
   "cell_type": "code",
   "execution_count": 232,
   "id": "aec1c71e-5012-4ded-bab1-bc4cc09f66fd",
   "metadata": {},
   "outputs": [
    {
     "data": {
      "text/plain": [
       "6.125188257432842"
      ]
     },
     "execution_count": 232,
     "metadata": {},
     "output_type": "execute_result"
    }
   ],
   "source": [
    "arr.sum()"
   ]
  },
  {
   "cell_type": "code",
   "execution_count": 233,
   "id": "1238ae26-7f7a-4b7e-bc50-292e0466f028",
   "metadata": {},
   "outputs": [
    {
     "data": {
      "text/plain": [
       "array([ 0.99996542, -0.4637158 ,  5.0392041 ,  0.54973455])"
      ]
     },
     "execution_count": 233,
     "metadata": {},
     "output_type": "execute_result"
    }
   ],
   "source": [
    "arr.sum(axis= 1)"
   ]
  },
  {
   "cell_type": "code",
   "execution_count": 234,
   "id": "29a28c99-3f14-4a56-a514-ab7e9ef2f9b1",
   "metadata": {},
   "outputs": [
    {
     "data": {
      "text/plain": [
       "array([ 1.40762511,  0.23582334,  2.5245749 , -0.12919072,  2.08635563])"
      ]
     },
     "execution_count": 234,
     "metadata": {},
     "output_type": "execute_result"
    }
   ],
   "source": [
    "arr.sum(axis= 0)"
   ]
  },
  {
   "cell_type": "code",
   "execution_count": 235,
   "id": "db111649-f01f-47e5-a84a-03b30d9c7776",
   "metadata": {},
   "outputs": [
    {
     "data": {
      "text/plain": [
       "\u001b[1;31mDocstring:\u001b[0m\n",
       "a.cumsum(axis=None, dtype=None, out=None)\n",
       "\n",
       "Return the cumulative sum of the elements along the given axis.\n",
       "\n",
       "Refer to `numpy.cumsum` for full documentation.\n",
       "\n",
       "See Also\n",
       "--------\n",
       "numpy.cumsum : equivalent function\n",
       "\u001b[1;31mType:\u001b[0m      builtin_function_or_method"
      ]
     },
     "metadata": {},
     "output_type": "display_data"
    }
   ],
   "source": [
    "arr.cumsum?"
   ]
  },
  {
   "cell_type": "code",
   "execution_count": 236,
   "id": "2b679c99-39f5-4f3e-a852-87932a9f2116",
   "metadata": {},
   "outputs": [
    {
     "data": {
      "text/plain": [
       "array([0.34363533, 0.06943156, 0.89708768, 1.71839336, 0.99996542,\n",
       "       1.76929502, 2.68233855, 2.32458955, 0.2279197 , 0.53624961,\n",
       "       0.84187244, 1.25342532, 2.76056057, 3.21662867, 5.57545371,\n",
       "       5.56449107, 4.74992177, 5.29745429, 5.98755964, 6.12518826])"
      ]
     },
     "execution_count": 236,
     "metadata": {},
     "output_type": "execute_result"
    }
   ],
   "source": [
    "arr.cumsum()"
   ]
  },
  {
   "cell_type": "code",
   "execution_count": 237,
   "id": "759b603e-9470-4f39-9ead-29d1be678e34",
   "metadata": {},
   "outputs": [],
   "source": [
    "arr2 = np.arange(10)"
   ]
  },
  {
   "cell_type": "code",
   "execution_count": 238,
   "id": "775d4fb8-d96c-4a02-9eae-9666ac190baa",
   "metadata": {},
   "outputs": [
    {
     "data": {
      "text/plain": [
       "array([0, 1, 2, 3, 4, 5, 6, 7, 8, 9])"
      ]
     },
     "execution_count": 238,
     "metadata": {},
     "output_type": "execute_result"
    }
   ],
   "source": [
    "arr2"
   ]
  },
  {
   "cell_type": "code",
   "execution_count": 239,
   "id": "03bb001a-d8d5-49ba-ba43-c68dfc936c44",
   "metadata": {},
   "outputs": [
    {
     "data": {
      "text/plain": [
       "array([ 0,  1,  3,  6, 10, 15, 21, 28, 36, 45])"
      ]
     },
     "execution_count": 239,
     "metadata": {},
     "output_type": "execute_result"
    }
   ],
   "source": [
    "arr2.cumsum()    #The cumulative sum of an array at index i is the sum of all elements of the array from index 0 to index i"
   ]
  },
  {
   "cell_type": "code",
   "execution_count": 240,
   "id": "113da9fe-4bca-4eef-b726-39417b7bfc89",
   "metadata": {},
   "outputs": [
    {
     "data": {
      "text/plain": [
       "0.8944992760775017"
      ]
     },
     "execution_count": 240,
     "metadata": {},
     "output_type": "execute_result"
    }
   ],
   "source": [
    "arr.std()"
   ]
  },
  {
   "cell_type": "code",
   "execution_count": 241,
   "id": "ce20c8c5-4c9f-4fd7-8f5f-1bd5ccf09a0f",
   "metadata": {},
   "outputs": [
    {
     "data": {
      "text/plain": [
       "0.8001289549031745"
      ]
     },
     "execution_count": 241,
     "metadata": {},
     "output_type": "execute_result"
    }
   ],
   "source": [
    "arr.var()"
   ]
  },
  {
   "cell_type": "code",
   "execution_count": 242,
   "id": "8def120e-58ec-424d-8090-3a6fb1b601cd",
   "metadata": {},
   "outputs": [
    {
     "data": {
      "text/plain": [
       "-2.096669843643772"
      ]
     },
     "execution_count": 242,
     "metadata": {},
     "output_type": "execute_result"
    }
   ],
   "source": [
    "arr.min()"
   ]
  },
  {
   "cell_type": "code",
   "execution_count": 243,
   "id": "8bba89bf-5f67-484f-b33e-4ee3cb0b9e90",
   "metadata": {},
   "outputs": [
    {
     "data": {
      "text/plain": [
       "2.3588250462638873"
      ]
     },
     "execution_count": 243,
     "metadata": {},
     "output_type": "execute_result"
    }
   ],
   "source": [
    "arr.max()"
   ]
  },
  {
   "cell_type": "code",
   "execution_count": 244,
   "id": "c8dfbe00-c167-4132-ad84-d84a5c70d7aa",
   "metadata": {},
   "outputs": [
    {
     "data": {
      "text/plain": [
       "array([ 3.43635326e-01, -9.42261006e-02, -7.79868090e-02, -6.40510089e-02,\n",
       "        4.60160345e-02,  3.54014976e-02,  3.23231083e-02, -1.15635598e-02,\n",
       "        2.42449671e-02,  7.47544855e-03,  2.28466770e-03,  9.40261563e-04,\n",
       "        1.41710135e-03,  6.46294710e-04,  1.52449615e-03, -1.67125099e-05,\n",
       "        1.36134975e-05,  7.45383256e-06,  5.14392980e-06,  7.07951922e-07])"
      ]
     },
     "execution_count": 244,
     "metadata": {},
     "output_type": "execute_result"
    }
   ],
   "source": [
    "arr.cumprod()"
   ]
  },
  {
   "cell_type": "markdown",
   "id": "cb7bf3b9-1483-46d3-9e01-65f9c9d415d5",
   "metadata": {},
   "source": [
    "## Methods for Boolean Arrays"
   ]
  },
  {
   "cell_type": "code",
   "execution_count": 245,
   "id": "a4218f41-9121-4c4f-8efd-70146993be5f",
   "metadata": {},
   "outputs": [
    {
     "data": {
      "text/plain": [
       "6"
      ]
     },
     "execution_count": 245,
     "metadata": {},
     "output_type": "execute_result"
    }
   ],
   "source": [
    "(arr < 0).sum()   #sum of negative values"
   ]
  },
  {
   "cell_type": "code",
   "execution_count": 246,
   "id": "0666ba1a-e391-4e0b-8e2e-8200d8f366b5",
   "metadata": {},
   "outputs": [
    {
     "data": {
      "text/plain": [
       "14"
      ]
     },
     "execution_count": 246,
     "metadata": {},
     "output_type": "execute_result"
    }
   ],
   "source": [
    "(arr > 0).sum()"
   ]
  },
  {
   "cell_type": "code",
   "execution_count": 247,
   "id": "35cb1690-99cb-4253-87dd-49eb343daa91",
   "metadata": {},
   "outputs": [
    {
     "data": {
      "text/plain": [
       "array([[ 0.34363533, -0.27420377,  0.82765612,  0.82130568, -0.71842794],\n",
       "       [ 0.7693296 ,  0.91304353, -0.357749  , -2.09666984,  0.30832991],\n",
       "       [ 0.30562282,  0.41155288,  1.50713526,  0.45606809,  2.35882505],\n",
       "       [-0.01096264, -0.8145693 ,  0.54753252,  0.69010536,  0.13762861]])"
      ]
     },
     "execution_count": 247,
     "metadata": {},
     "output_type": "execute_result"
    }
   ],
   "source": [
    "arr"
   ]
  },
  {
   "cell_type": "code",
   "execution_count": 248,
   "id": "8e6c3215-3c9e-472b-9b1c-91d7b5388a00",
   "metadata": {},
   "outputs": [],
   "source": [
    "bool_arr = arr > 0"
   ]
  },
  {
   "cell_type": "code",
   "execution_count": 249,
   "id": "916700ce-7aa3-4db7-b7e0-8fcc86afd07b",
   "metadata": {},
   "outputs": [
    {
     "data": {
      "text/plain": [
       "array([[ True, False,  True,  True, False],\n",
       "       [ True,  True, False, False,  True],\n",
       "       [ True,  True,  True,  True,  True],\n",
       "       [False, False,  True,  True,  True]])"
      ]
     },
     "execution_count": 249,
     "metadata": {},
     "output_type": "execute_result"
    }
   ],
   "source": [
    "bool_arr"
   ]
  },
  {
   "cell_type": "code",
   "execution_count": 250,
   "id": "d40751c5-79d0-493e-aa1e-6a8d38654b6c",
   "metadata": {},
   "outputs": [
    {
     "data": {
      "text/plain": [
       "True"
      ]
     },
     "execution_count": 250,
     "metadata": {},
     "output_type": "execute_result"
    }
   ],
   "source": [
    "bool_arr.any()"
   ]
  },
  {
   "cell_type": "code",
   "execution_count": 251,
   "id": "a93010e0-a666-4a14-9bc6-ce2616a29a36",
   "metadata": {},
   "outputs": [
    {
     "data": {
      "text/plain": [
       "False"
      ]
     },
     "execution_count": 251,
     "metadata": {},
     "output_type": "execute_result"
    }
   ],
   "source": [
    "bool_arr.all()"
   ]
  },
  {
   "cell_type": "markdown",
   "id": "1b9506e1-43f4-443f-acef-2ed6e0ceeb45",
   "metadata": {},
   "source": [
    "## Sorting"
   ]
  },
  {
   "cell_type": "code",
   "execution_count": 252,
   "id": "089ac03d-1c4c-4cd9-b1b2-0c503bbdd4bd",
   "metadata": {},
   "outputs": [],
   "source": [
    "arr.sort()"
   ]
  },
  {
   "cell_type": "code",
   "execution_count": 253,
   "id": "e975b6cf-2d6f-4de2-bd04-b58fe32b94a9",
   "metadata": {},
   "outputs": [
    {
     "data": {
      "text/plain": [
       "array([[-0.71842794, -0.27420377,  0.34363533,  0.82130568,  0.82765612],\n",
       "       [-2.09666984, -0.357749  ,  0.30832991,  0.7693296 ,  0.91304353],\n",
       "       [ 0.30562282,  0.41155288,  0.45606809,  1.50713526,  2.35882505],\n",
       "       [-0.8145693 , -0.01096264,  0.13762861,  0.54753252,  0.69010536]])"
      ]
     },
     "execution_count": 253,
     "metadata": {},
     "output_type": "execute_result"
    }
   ],
   "source": [
    "arr"
   ]
  },
  {
   "cell_type": "code",
   "execution_count": 254,
   "id": "3ed77eb5-28a3-48ee-a27a-4b58f4ffc03e",
   "metadata": {},
   "outputs": [],
   "source": [
    "unsorted = np.random.standard_normal(10)"
   ]
  },
  {
   "cell_type": "code",
   "execution_count": 255,
   "id": "73dfc5e1-e8ac-43a8-bed4-afc0287680fe",
   "metadata": {},
   "outputs": [
    {
     "data": {
      "text/plain": [
       "array([-0.73481696,  0.63194364,  0.46505911,  0.46166796, -0.24609142,\n",
       "       -0.03480292, -0.0585561 ,  0.9509628 , -0.4101018 ,  0.74329725])"
      ]
     },
     "execution_count": 255,
     "metadata": {},
     "output_type": "execute_result"
    }
   ],
   "source": [
    "unsorted"
   ]
  },
  {
   "cell_type": "code",
   "execution_count": 256,
   "id": "6d92619f-f0cd-4d43-83b5-8e65906fc7b3",
   "metadata": {},
   "outputs": [],
   "source": [
    "sorted = np.sort(unsorted)"
   ]
  },
  {
   "cell_type": "code",
   "execution_count": 257,
   "id": "8a0f9ad7-8a8e-4248-912d-4741ddb333e0",
   "metadata": {},
   "outputs": [
    {
     "data": {
      "text/plain": [
       "array([-0.73481696, -0.4101018 , -0.24609142, -0.0585561 , -0.03480292,\n",
       "        0.46166796,  0.46505911,  0.63194364,  0.74329725,  0.9509628 ])"
      ]
     },
     "execution_count": 257,
     "metadata": {},
     "output_type": "execute_result"
    }
   ],
   "source": [
    "sorted"
   ]
  },
  {
   "cell_type": "code",
   "execution_count": 258,
   "id": "d5bb1804-0c73-4fcc-ab1a-5a4485753da2",
   "metadata": {},
   "outputs": [],
   "source": [
    "arr.sort(axis= 0)"
   ]
  },
  {
   "cell_type": "code",
   "execution_count": 259,
   "id": "cd401b68-3d2e-4d8a-bc58-bde1b54eb84d",
   "metadata": {},
   "outputs": [
    {
     "data": {
      "text/plain": [
       "array([[-2.09666984, -0.357749  ,  0.13762861,  0.54753252,  0.69010536],\n",
       "       [-0.8145693 , -0.27420377,  0.30832991,  0.7693296 ,  0.82765612],\n",
       "       [-0.71842794, -0.01096264,  0.34363533,  0.82130568,  0.91304353],\n",
       "       [ 0.30562282,  0.41155288,  0.45606809,  1.50713526,  2.35882505]])"
      ]
     },
     "execution_count": 259,
     "metadata": {},
     "output_type": "execute_result"
    }
   ],
   "source": [
    "arr"
   ]
  },
  {
   "cell_type": "markdown",
   "id": "dd9a4934-c31d-4dfa-9f82-0a016d8b4b89",
   "metadata": {},
   "source": [
    "## Set Logic"
   ]
  },
  {
   "cell_type": "code",
   "execution_count": 260,
   "id": "b751a43a-100e-4f57-bc78-58da84ef0942",
   "metadata": {},
   "outputs": [
    {
     "data": {
      "text/plain": [
       "array(['Bob', 'Joe', 'Will', 'Bob', 'Will', 'Joe', 'Joe'], dtype='<U4')"
      ]
     },
     "execution_count": 260,
     "metadata": {},
     "output_type": "execute_result"
    }
   ],
   "source": [
    "names"
   ]
  },
  {
   "cell_type": "code",
   "execution_count": 261,
   "id": "6b987016-434d-4274-9f01-441e0a108ef1",
   "metadata": {},
   "outputs": [
    {
     "data": {
      "text/plain": [
       "array(['Bob', 'Joe', 'Will'], dtype='<U4')"
      ]
     },
     "execution_count": 261,
     "metadata": {},
     "output_type": "execute_result"
    }
   ],
   "source": [
    "np.unique(names)"
   ]
  },
  {
   "cell_type": "code",
   "execution_count": 262,
   "id": "9e65ae40-8409-4c3d-8775-f90256759208",
   "metadata": {},
   "outputs": [],
   "source": [
    "x = np.arange(10)\n",
    "y = np.arange(5, 20)"
   ]
  },
  {
   "cell_type": "code",
   "execution_count": 263,
   "id": "dc25866e-47a8-4d14-ae55-e93a7872723c",
   "metadata": {},
   "outputs": [
    {
     "data": {
      "text/plain": [
       "(array([0, 1, 2, 3, 4, 5, 6, 7, 8, 9]),\n",
       " array([ 5,  6,  7,  8,  9, 10, 11, 12, 13, 14, 15, 16, 17, 18, 19]))"
      ]
     },
     "execution_count": 263,
     "metadata": {},
     "output_type": "execute_result"
    }
   ],
   "source": [
    "x, y"
   ]
  },
  {
   "cell_type": "code",
   "execution_count": 264,
   "id": "a4f1846c-84b8-4b3e-afd7-4ef5710c8c55",
   "metadata": {},
   "outputs": [
    {
     "data": {
      "text/plain": [
       "array([5, 6, 7, 8, 9])"
      ]
     },
     "execution_count": 264,
     "metadata": {},
     "output_type": "execute_result"
    }
   ],
   "source": [
    "np.intersect1d(x, y)"
   ]
  },
  {
   "cell_type": "code",
   "execution_count": 265,
   "id": "7c5dba63-b0b6-4a2e-a37e-972168ff2fca",
   "metadata": {},
   "outputs": [
    {
     "data": {
      "text/plain": [
       "array([ 0,  1,  2,  3,  4,  5,  6,  7,  8,  9, 10, 11, 12, 13, 14, 15, 16,\n",
       "       17, 18, 19])"
      ]
     },
     "execution_count": 265,
     "metadata": {},
     "output_type": "execute_result"
    }
   ],
   "source": [
    "np.union1d(x, y)"
   ]
  },
  {
   "cell_type": "code",
   "execution_count": 266,
   "id": "f5b3402f-cb69-40a3-9e43-6791c958c5a4",
   "metadata": {},
   "outputs": [
    {
     "data": {
      "text/plain": [
       "array([False, False, False, False, False,  True,  True,  True,  True,\n",
       "        True])"
      ]
     },
     "execution_count": 266,
     "metadata": {},
     "output_type": "execute_result"
    }
   ],
   "source": [
    "np.in1d(x, y)"
   ]
  },
  {
   "cell_type": "code",
   "execution_count": 267,
   "id": "947d9247-dd02-4eff-b3a3-1bf2ce80ce30",
   "metadata": {},
   "outputs": [
    {
     "data": {
      "text/plain": [
       "array([0, 1, 2, 3, 4])"
      ]
     },
     "execution_count": 267,
     "metadata": {},
     "output_type": "execute_result"
    }
   ],
   "source": [
    "np.setdiff1d(x, y)"
   ]
  },
  {
   "cell_type": "markdown",
   "id": "ef645798-2c84-4e8a-91c6-bb13839ea77f",
   "metadata": {},
   "source": [
    "# File Input and Output with Arrays"
   ]
  },
  {
   "cell_type": "code",
   "execution_count": 268,
   "id": "8d616544-bb8e-4c2b-afe6-663fc2eeff22",
   "metadata": {},
   "outputs": [],
   "source": [
    "np.save(\"x_array\", x)"
   ]
  },
  {
   "cell_type": "code",
   "execution_count": 269,
   "id": "dcfd0015-c201-41ce-8f25-a0ca500e46ac",
   "metadata": {},
   "outputs": [
    {
     "data": {
      "text/plain": [
       "array([0, 1, 2, 3, 4, 5, 6, 7, 8, 9])"
      ]
     },
     "execution_count": 269,
     "metadata": {},
     "output_type": "execute_result"
    }
   ],
   "source": [
    "np.load(\"x_array.npy\")"
   ]
  },
  {
   "cell_type": "code",
   "execution_count": 270,
   "id": "9391f46c-0d9a-4019-952d-ae3f1480b640",
   "metadata": {},
   "outputs": [],
   "source": [
    "np.savez(\"somearray.npz\", a= x, b= y)"
   ]
  },
  {
   "cell_type": "code",
   "execution_count": 271,
   "id": "bbba82c8-0d05-46e9-a356-83753956941f",
   "metadata": {},
   "outputs": [],
   "source": [
    "arrays = np.load(\"somearray.npz\")"
   ]
  },
  {
   "cell_type": "code",
   "execution_count": 272,
   "id": "33656bd9-7156-41a3-8ef5-9124d3a86255",
   "metadata": {},
   "outputs": [
    {
     "data": {
      "text/plain": [
       "array([0, 1, 2, 3, 4, 5, 6, 7, 8, 9])"
      ]
     },
     "execution_count": 272,
     "metadata": {},
     "output_type": "execute_result"
    }
   ],
   "source": [
    "arrays['a']"
   ]
  },
  {
   "cell_type": "code",
   "execution_count": 273,
   "id": "86295473-e71f-40b1-80c9-6583c8627f29",
   "metadata": {},
   "outputs": [
    {
     "data": {
      "text/plain": [
       "array([ 5,  6,  7,  8,  9, 10, 11, 12, 13, 14, 15, 16, 17, 18, 19])"
      ]
     },
     "execution_count": 273,
     "metadata": {},
     "output_type": "execute_result"
    }
   ],
   "source": [
    "arrays['b']"
   ]
  },
  {
   "cell_type": "code",
   "execution_count": 274,
   "id": "c0589862-e38a-40f1-ba2e-54bb8bba04a7",
   "metadata": {},
   "outputs": [],
   "source": [
    "np.savez_compressed('compressed.npz', x, y)"
   ]
  },
  {
   "cell_type": "markdown",
   "id": "dda662df-272b-4c0c-9efe-8a834bb91b32",
   "metadata": {},
   "source": [
    "# Linear Algebra "
   ]
  },
  {
   "cell_type": "code",
   "execution_count": 275,
   "id": "25d3990a-f581-4f0e-8cc2-a6ecc6eeba13",
   "metadata": {},
   "outputs": [],
   "source": [
    "from numpy import linalg"
   ]
  },
  {
   "cell_type": "code",
   "execution_count": 276,
   "id": "2fc50d7b-5f67-4c79-bbd1-c89609dbd4fe",
   "metadata": {},
   "outputs": [],
   "source": [
    "arr = np.random.standard_normal((3, 3))"
   ]
  },
  {
   "cell_type": "code",
   "execution_count": 277,
   "id": "40d76a79-c007-403b-9090-b598ec51fe4a",
   "metadata": {},
   "outputs": [
    {
     "data": {
      "text/plain": [
       "array([[ 0.49637631,  0.06848983,  0.1884144 ],\n",
       "       [-0.14193916, -0.21285204, -1.37136353],\n",
       "       [-1.28506346,  1.87516857, -0.06984587]])"
      ]
     },
     "execution_count": 277,
     "metadata": {},
     "output_type": "execute_result"
    }
   ],
   "source": [
    "arr"
   ]
  },
  {
   "cell_type": "code",
   "execution_count": 278,
   "id": "e7c97bd9-d780-4641-a22e-2ebec57bf415",
   "metadata": {},
   "outputs": [],
   "source": [
    "inverse = linalg.inv(arr)"
   ]
  },
  {
   "cell_type": "code",
   "execution_count": 279,
   "id": "c5d79cac-c3d8-4791-afb0-d2dd9d3225bc",
   "metadata": {},
   "outputs": [
    {
     "data": {
      "text/plain": [
       "array([[ 1.98623443,  0.27499782, -0.04133122],\n",
       "       [ 1.34573999,  0.15931518,  0.50221675],\n",
       "       [-0.41445462, -0.78239176, -0.07367218]])"
      ]
     },
     "execution_count": 279,
     "metadata": {},
     "output_type": "execute_result"
    }
   ],
   "source": [
    "inverse"
   ]
  },
  {
   "cell_type": "code",
   "execution_count": 280,
   "id": "29248e87-c78f-4979-859a-b693c6708de8",
   "metadata": {},
   "outputs": [
    {
     "data": {
      "text/plain": [
       "array([[ 1.00000000e+00, -3.42497993e-17, -1.60586179e-17],\n",
       "       [-2.39823183e-16,  1.00000000e+00, -5.57796704e-17],\n",
       "       [ 1.96751512e-17,  1.48102341e-17,  1.00000000e+00]])"
      ]
     },
     "execution_count": 280,
     "metadata": {},
     "output_type": "execute_result"
    }
   ],
   "source": [
    "arr @ inverse"
   ]
  },
  {
   "cell_type": "code",
   "execution_count": 281,
   "id": "76d8532d-5593-42cd-a098-8a765d08ed49",
   "metadata": {},
   "outputs": [
    {
     "data": {
      "text/plain": [
       "array([[ 1.00000000e+00, -3.42497993e-17, -1.60586179e-17],\n",
       "       [-2.39823183e-16,  1.00000000e+00, -5.57796704e-17],\n",
       "       [ 1.96751512e-17,  1.48102341e-17,  1.00000000e+00]])"
      ]
     },
     "execution_count": 281,
     "metadata": {},
     "output_type": "execute_result"
    }
   ],
   "source": [
    "arr.dot(inverse)"
   ]
  },
  {
   "cell_type": "code",
   "execution_count": 282,
   "id": "6be3e1a4-8dc8-4de5-ad37-1d151fb628f2",
   "metadata": {},
   "outputs": [
    {
     "data": {
      "text/plain": [
       "array([ 0.49637631, -0.21285204, -0.06984587])"
      ]
     },
     "execution_count": 282,
     "metadata": {},
     "output_type": "execute_result"
    }
   ],
   "source": [
    "np.diag(arr)    #give the diagonal "
   ]
  },
  {
   "cell_type": "code",
   "execution_count": 283,
   "id": "cdff2795-bd6f-4360-8426-4b8c4e2fe7a8",
   "metadata": {},
   "outputs": [
    {
     "data": {
      "text/plain": [
       "0.21367840609998573"
      ]
     },
     "execution_count": 283,
     "metadata": {},
     "output_type": "execute_result"
    }
   ],
   "source": [
    "np.trace(arr)   #sum of diagonal"
   ]
  },
  {
   "cell_type": "code",
   "execution_count": 284,
   "id": "5da79171-9659-4c0b-8047-957c96c9f547",
   "metadata": {},
   "outputs": [
    {
     "data": {
      "text/plain": [
       "1.3021648363906733"
      ]
     },
     "execution_count": 284,
     "metadata": {},
     "output_type": "execute_result"
    }
   ],
   "source": [
    "linalg.det(arr)    #determinant"
   ]
  },
  {
   "cell_type": "code",
   "execution_count": 285,
   "id": "6a41edb4-8163-481e-a22c-7d265c3c6cda",
   "metadata": {},
   "outputs": [
    {
     "data": {
      "text/plain": [
       "EigResult(eigenvalues=array([ 0.46286583+0.j        , -0.12459371+1.67264542j,\n",
       "       -0.12459371-1.67264542j]), eigenvectors=array([[ 0.82176901+0.j        ,  0.00530677+0.08383186j,\n",
       "         0.00530677-0.08383186j],\n",
       "       [ 0.47281535+0.j        ,  0.02615326-0.63046911j,\n",
       "         0.02615326+0.63046911j],\n",
       "       [-0.31802726+0.j        , -0.77121253+0.j        ,\n",
       "        -0.77121253-0.j        ]]))"
      ]
     },
     "execution_count": 285,
     "metadata": {},
     "output_type": "execute_result"
    }
   ],
   "source": [
    "linalg.eig(arr)"
   ]
  },
  {
   "cell_type": "markdown",
   "id": "57beca7b-b9cb-4e7c-94a0-7fa048ec9ee3",
   "metadata": {},
   "source": [
    "# Random Walks"
   ]
  },
  {
   "cell_type": "code",
   "execution_count": 286,
   "id": "461ac45f-ab0a-45d8-901c-646e75cc6c53",
   "metadata": {},
   "outputs": [
    {
     "data": {
      "text/plain": [
       "[<matplotlib.lines.Line2D at 0x2a9fa7c05f0>]"
      ]
     },
     "execution_count": 286,
     "metadata": {},
     "output_type": "execute_result"
    },
    {
     "data": {
      "image/png": "[encoded data removed]",
      "text/plain": [
       "<Figure size 640x480 with 1 Axes>"
      ]
     },
     "metadata": {},
     "output_type": "display_data"
    }
   ],
   "source": [
    "import random\n",
    "position = 0\n",
    "walk = [position]\n",
    "steps = 1000\n",
    "\n",
    "for _ in range(steps):\n",
    "    step = 1 if random.randint(0, 1) else -1\n",
    "    position += step\n",
    "    walk.append(position)\n",
    "\n",
    "plt.plot(walk)"
   ]
  },
  {
   "cell_type": "code",
   "execution_count": 287,
   "id": "74a57878-f8b7-45fb-baf8-40247348b39e",
   "metadata": {},
   "outputs": [],
   "source": [
    "nsteps = 1000\n",
    "rng = np.random.default_rng(seed= 54321)    #generating fresh random numbers"
   ]
  },
  {
   "cell_type": "code",
   "execution_count": 288,
   "id": "8e11096b-1698-4ef9-bfd7-2a3dd6a64d68",
   "metadata": {},
   "outputs": [],
   "source": [
    "draws = rng.integers(0, 2, size= nsteps)    #creating a 1000 element array of 0 and 1"
   ]
  },
  {
   "cell_type": "code",
   "execution_count": 289,
   "id": "cb99651a-16da-4318-9941-a460326461a0",
   "metadata": {},
   "outputs": [
    {
     "data": {
      "text/plain": [
       "array([0, 1, 1, 1, 1, 0, 1, 0, 0, 0, 1, 0, 1, 1, 1, 0, 0, 0, 0, 1, 0, 1,\n",
       "       0, 1, 0, 0, 0, 1, 1, 1, 1, 0, 1, 1, 1, 1, 1, 0, 0, 0, 1, 0, 1, 0,\n",
       "       1, 1, 0, 1, 1, 1, 0, 1, 1, 0, 0, 0, 1, 0, 0, 1, 1, 0, 0, 0, 1, 1,\n",
       "       0, 1, 0, 0, 1, 1, 1, 1, 0, 1, 1, 1, 1, 1, 1, 0, 0, 0, 0, 0, 0, 1,\n",
       "       1, 0, 0, 0, 0, 0, 0, 1, 1, 1, 0, 1, 0, 0, 1, 1, 0, 1, 1, 1, 1, 0,\n",
       "       0, 0, 0, 1, 1, 0, 0, 1, 1, 1, 1, 1, 0, 0, 0, 1, 1, 0, 1, 1, 1, 0,\n",
       "       0, 0, 1, 0, 0, 0, 1, 1, 0, 1, 0, 1, 0, 0, 1, 1, 0, 0, 1, 1, 0, 0,\n",
       "       1, 0, 1, 0, 0, 1, 0, 1, 0, 0, 0, 1, 1, 1, 0, 1, 1, 1, 0, 1, 0, 1,\n",
       "       1, 1, 0, 0, 1, 1, 0, 0, 1, 0, 1, 1, 0, 1, 1, 0, 0, 0, 1, 1, 1, 0,\n",
       "       1, 0, 1, 0, 1, 0, 1, 0, 0, 0, 0, 0, 0, 1, 1, 1, 1, 0, 1, 0, 0, 0,\n",
       "       1, 0, 1, 0, 0, 0, 0, 1, 0, 0, 1, 1, 0, 1, 1, 1, 1, 0, 1, 0, 0, 1,\n",
       "       0, 0, 0, 0, 1, 0, 0, 1, 1, 1, 1, 0, 0, 1, 0, 0, 0, 1, 1, 1, 0, 0,\n",
       "       1, 1, 1, 0, 1, 1, 1, 0, 0, 1, 1, 0, 0, 1, 1, 0, 1, 0, 1, 1, 1, 0,\n",
       "       0, 0, 1, 0, 1, 1, 0, 0, 0, 0, 1, 0, 1, 0, 0, 0, 0, 1, 0, 0, 0, 1,\n",
       "       1, 1, 1, 1, 1, 1, 1, 0, 0, 0, 1, 0, 0, 1, 0, 1, 1, 0, 1, 1, 0, 0,\n",
       "       1, 0, 0, 0, 1, 1, 0, 1, 0, 1, 1, 1, 0, 0, 1, 1, 1, 1, 1, 0, 1, 0,\n",
       "       0, 1, 1, 1, 1, 0, 1, 1, 0, 0, 1, 1, 0, 0, 1, 0, 1, 0, 0, 1, 1, 0,\n",
       "       0, 0, 0, 1, 0, 1, 1, 1, 0, 0, 1, 1, 1, 1, 0, 0, 0, 0, 1, 1, 1, 0,\n",
       "       1, 1, 0, 0, 0, 0, 1, 0, 0, 1, 1, 0, 0, 1, 1, 0, 0, 0, 0, 1, 0, 1,\n",
       "       0, 1, 1, 1, 0, 0, 0, 1, 0, 0, 0, 0, 1, 1, 1, 1, 0, 1, 0, 1, 1, 0,\n",
       "       1, 1, 0, 0, 0, 1, 1, 0, 1, 0, 0, 1, 1, 1, 1, 0, 0, 0, 0, 0, 1, 0,\n",
       "       1, 0, 1, 1, 1, 0, 0, 1, 1, 1, 1, 1, 1, 0, 1, 1, 0, 0, 0, 0, 0, 0,\n",
       "       1, 0, 0, 0, 0, 0, 1, 0, 0, 0, 1, 0, 1, 1, 1, 1, 1, 1, 1, 0, 1, 0,\n",
       "       1, 1, 0, 0, 1, 1, 0, 0, 0, 1, 0, 0, 1, 0, 1, 0, 0, 0, 0, 1, 1, 0,\n",
       "       0, 1, 0, 0, 1, 0, 1, 1, 1, 1, 1, 0, 1, 0, 1, 0, 0, 1, 1, 1, 1, 1,\n",
       "       1, 1, 1, 1, 1, 0, 1, 0, 1, 1, 1, 1, 1, 0, 1, 0, 1, 1, 1, 1, 1, 1,\n",
       "       1, 1, 0, 0, 0, 0, 0, 1, 0, 1, 1, 1, 1, 1, 0, 0, 0, 0, 0, 0, 1, 0,\n",
       "       1, 1, 0, 0, 0, 1, 0, 0, 1, 0, 1, 0, 0, 0, 1, 0, 0, 0, 0, 0, 0, 0,\n",
       "       1, 0, 0, 1, 1, 0, 1, 0, 0, 0, 1, 0, 0, 1, 0, 1, 0, 1, 0, 0, 0, 1,\n",
       "       1, 1, 1, 0, 1, 0, 0, 0, 1, 1, 1, 0, 0, 0, 1, 1, 0, 1, 0, 1, 1, 0,\n",
       "       0, 0, 1, 0, 1, 0, 1, 1, 0, 0, 1, 1, 0, 0, 0, 0, 0, 1, 1, 0, 1, 1,\n",
       "       0, 0, 1, 0, 1, 0, 1, 0, 0, 1, 1, 0, 1, 0, 0, 1, 0, 0, 1, 0, 0, 0,\n",
       "       0, 0, 0, 1, 0, 1, 1, 1, 0, 1, 1, 0, 0, 0, 1, 1, 1, 1, 1, 0, 1, 0,\n",
       "       0, 1, 0, 0, 0, 0, 0, 0, 0, 0, 1, 1, 0, 0, 1, 0, 1, 0, 1, 1, 0, 0,\n",
       "       0, 1, 0, 1, 1, 0, 0, 0, 1, 0, 0, 0, 0, 1, 1, 0, 0, 1, 0, 0, 0, 1,\n",
       "       0, 1, 1, 1, 1, 0, 1, 1, 1, 1, 0, 0, 1, 1, 1, 0, 1, 1, 0, 1, 0, 1,\n",
       "       0, 1, 0, 1, 1, 1, 1, 0, 0, 0, 1, 0, 1, 0, 0, 1, 0, 1, 0, 1, 1, 1,\n",
       "       1, 0, 0, 0, 0, 1, 1, 1, 1, 1, 1, 1, 1, 1, 1, 1, 0, 0, 1, 0, 0, 0,\n",
       "       0, 1, 0, 1, 0, 0, 1, 0, 0, 1, 0, 1, 0, 0, 1, 1, 0, 1, 1, 0, 1, 1,\n",
       "       0, 0, 0, 1, 1, 0, 0, 0, 1, 1, 1, 0, 1, 1, 0, 1, 0, 0, 0, 0, 1, 0,\n",
       "       0, 1, 0, 1, 0, 1, 1, 0, 1, 0, 0, 1, 1, 1, 1, 1, 1, 0, 1, 0, 1, 1,\n",
       "       0, 1, 0, 0, 1, 1, 0, 0, 1, 0, 0, 1, 0, 1, 1, 1, 0, 1, 1, 1, 0, 1,\n",
       "       0, 1, 1, 0, 0, 0, 1, 1, 1, 1, 1, 0, 1, 1, 1, 0, 1, 0, 1, 0, 0, 1,\n",
       "       0, 0, 1, 0, 1, 1, 0, 0, 1, 1, 1, 0, 1, 1, 0, 1, 0, 0, 1, 1, 0, 0,\n",
       "       1, 0, 1, 0, 0, 1, 0, 0, 0, 1, 1, 0, 1, 1, 1, 1, 1, 0, 1, 0, 0, 1,\n",
       "       0, 0, 1, 0, 0, 1, 0, 0, 1, 1], dtype=int64)"
      ]
     },
     "execution_count": 289,
     "metadata": {},
     "output_type": "execute_result"
    }
   ],
   "source": [
    "draws"
   ]
  },
  {
   "cell_type": "code",
   "execution_count": 290,
   "id": "60ba5855-8fb4-45ff-80ef-c38e6f0bb944",
   "metadata": {},
   "outputs": [],
   "source": [
    "steps = np.where(draws == 0, -1, 1)     #1 if random.randint(0, 1) else -1"
   ]
  },
  {
   "cell_type": "code",
   "execution_count": 291,
   "id": "944c2090-4b50-42bd-a6bf-e437a933054b",
   "metadata": {},
   "outputs": [
    {
     "data": {
      "text/plain": [
       "array([-1,  1,  1,  1,  1, -1,  1, -1, -1, -1,  1, -1,  1,  1,  1, -1, -1,\n",
       "       -1, -1,  1, -1,  1, -1,  1, -1, -1, -1,  1,  1,  1,  1, -1,  1,  1,\n",
       "        1,  1,  1, -1, -1, -1,  1, -1,  1, -1,  1,  1, -1,  1,  1,  1, -1,\n",
       "        1,  1, -1, -1, -1,  1, -1, -1,  1,  1, -1, -1, -1,  1,  1, -1,  1,\n",
       "       -1, -1,  1,  1,  1,  1, -1,  1,  1,  1,  1,  1,  1, -1, -1, -1, -1,\n",
       "       -1, -1,  1,  1, -1, -1, -1, -1, -1, -1,  1,  1,  1, -1,  1, -1, -1,\n",
       "        1,  1, -1,  1,  1,  1,  1, -1, -1, -1, -1,  1,  1, -1, -1,  1,  1,\n",
       "        1,  1,  1, -1, -1, -1,  1,  1, -1,  1,  1,  1, -1, -1, -1,  1, -1,\n",
       "       -1, -1,  1,  1, -1,  1, -1,  1, -1, -1,  1,  1, -1, -1,  1,  1, -1,\n",
       "       -1,  1, -1,  1, -1, -1,  1, -1,  1, -1, -1, -1,  1,  1,  1, -1,  1,\n",
       "        1,  1, -1,  1, -1,  1,  1,  1, -1, -1,  1,  1, -1, -1,  1, -1,  1,\n",
       "        1, -1,  1,  1, -1, -1, -1,  1,  1,  1, -1,  1, -1,  1, -1,  1, -1,\n",
       "        1, -1, -1, -1, -1, -1, -1,  1,  1,  1,  1, -1,  1, -1, -1, -1,  1,\n",
       "       -1,  1, -1, -1, -1, -1,  1, -1, -1,  1,  1, -1,  1,  1,  1,  1, -1,\n",
       "        1, -1, -1,  1, -1, -1, -1, -1,  1, -1, -1,  1,  1,  1,  1, -1, -1,\n",
       "        1, -1, -1, -1,  1,  1,  1, -1, -1,  1,  1,  1, -1,  1,  1,  1, -1,\n",
       "       -1,  1,  1, -1, -1,  1,  1, -1,  1, -1,  1,  1,  1, -1, -1, -1,  1,\n",
       "       -1,  1,  1, -1, -1, -1, -1,  1, -1,  1, -1, -1, -1, -1,  1, -1, -1,\n",
       "       -1,  1,  1,  1,  1,  1,  1,  1,  1, -1, -1, -1,  1, -1, -1,  1, -1,\n",
       "        1,  1, -1,  1,  1, -1, -1,  1, -1, -1, -1,  1,  1, -1,  1, -1,  1,\n",
       "        1,  1, -1, -1,  1,  1,  1,  1,  1, -1,  1, -1, -1,  1,  1,  1,  1,\n",
       "       -1,  1,  1, -1, -1,  1,  1, -1, -1,  1, -1,  1, -1, -1,  1,  1, -1,\n",
       "       -1, -1, -1,  1, -1,  1,  1,  1, -1, -1,  1,  1,  1,  1, -1, -1, -1,\n",
       "       -1,  1,  1,  1, -1,  1,  1, -1, -1, -1, -1,  1, -1, -1,  1,  1, -1,\n",
       "       -1,  1,  1, -1, -1, -1, -1,  1, -1,  1, -1,  1,  1,  1, -1, -1, -1,\n",
       "        1, -1, -1, -1, -1,  1,  1,  1,  1, -1,  1, -1,  1,  1, -1,  1,  1,\n",
       "       -1, -1, -1,  1,  1, -1,  1, -1, -1,  1,  1,  1,  1, -1, -1, -1, -1,\n",
       "       -1,  1, -1,  1, -1,  1,  1,  1, -1, -1,  1,  1,  1,  1,  1,  1, -1,\n",
       "        1,  1, -1, -1, -1, -1, -1, -1,  1, -1, -1, -1, -1, -1,  1, -1, -1,\n",
       "       -1,  1, -1,  1,  1,  1,  1,  1,  1,  1, -1,  1, -1,  1,  1, -1, -1,\n",
       "        1,  1, -1, -1, -1,  1, -1, -1,  1, -1,  1, -1, -1, -1, -1,  1,  1,\n",
       "       -1, -1,  1, -1, -1,  1, -1,  1,  1,  1,  1,  1, -1,  1, -1,  1, -1,\n",
       "       -1,  1,  1,  1,  1,  1,  1,  1,  1,  1,  1, -1,  1, -1,  1,  1,  1,\n",
       "        1,  1, -1,  1, -1,  1,  1,  1,  1,  1,  1,  1,  1, -1, -1, -1, -1,\n",
       "       -1,  1, -1,  1,  1,  1,  1,  1, -1, -1, -1, -1, -1, -1,  1, -1,  1,\n",
       "        1, -1, -1, -1,  1, -1, -1,  1, -1,  1, -1, -1, -1,  1, -1, -1, -1,\n",
       "       -1, -1, -1, -1,  1, -1, -1,  1,  1, -1,  1, -1, -1, -1,  1, -1, -1,\n",
       "        1, -1,  1, -1,  1, -1, -1, -1,  1,  1,  1,  1, -1,  1, -1, -1, -1,\n",
       "        1,  1,  1, -1, -1, -1,  1,  1, -1,  1, -1,  1,  1, -1, -1, -1,  1,\n",
       "       -1,  1, -1,  1,  1, -1, -1,  1,  1, -1, -1, -1, -1, -1,  1,  1, -1,\n",
       "        1,  1, -1, -1,  1, -1,  1, -1,  1, -1, -1,  1,  1, -1,  1, -1, -1,\n",
       "        1, -1, -1,  1, -1, -1, -1, -1, -1, -1,  1, -1,  1,  1,  1, -1,  1,\n",
       "        1, -1, -1, -1,  1,  1,  1,  1,  1, -1,  1, -1, -1,  1, -1, -1, -1,\n",
       "       -1, -1, -1, -1, -1,  1,  1, -1, -1,  1, -1,  1, -1,  1,  1, -1, -1,\n",
       "       -1,  1, -1,  1,  1, -1, -1, -1,  1, -1, -1, -1, -1,  1,  1, -1, -1,\n",
       "        1, -1, -1, -1,  1, -1,  1,  1,  1,  1, -1,  1,  1,  1,  1, -1, -1,\n",
       "        1,  1,  1, -1,  1,  1, -1,  1, -1,  1, -1,  1, -1,  1,  1,  1,  1,\n",
       "       -1, -1, -1,  1, -1,  1, -1, -1,  1, -1,  1, -1,  1,  1,  1,  1, -1,\n",
       "       -1, -1, -1,  1,  1,  1,  1,  1,  1,  1,  1,  1,  1,  1, -1, -1,  1,\n",
       "       -1, -1, -1, -1,  1, -1,  1, -1, -1,  1, -1, -1,  1, -1,  1, -1, -1,\n",
       "        1,  1, -1,  1,  1, -1,  1,  1, -1, -1, -1,  1,  1, -1, -1, -1,  1,\n",
       "        1,  1, -1,  1,  1, -1,  1, -1, -1, -1, -1,  1, -1, -1,  1, -1,  1,\n",
       "       -1,  1,  1, -1,  1, -1, -1,  1,  1,  1,  1,  1,  1, -1,  1, -1,  1,\n",
       "        1, -1,  1, -1, -1,  1,  1, -1, -1,  1, -1, -1,  1, -1,  1,  1,  1,\n",
       "       -1,  1,  1,  1, -1,  1, -1,  1,  1, -1, -1, -1,  1,  1,  1,  1,  1,\n",
       "       -1,  1,  1,  1, -1,  1, -1,  1, -1, -1,  1, -1, -1,  1, -1,  1,  1,\n",
       "       -1, -1,  1,  1,  1, -1,  1,  1, -1,  1, -1, -1,  1,  1, -1, -1,  1,\n",
       "       -1,  1, -1, -1,  1, -1, -1, -1,  1,  1, -1,  1,  1,  1,  1,  1, -1,\n",
       "        1, -1, -1,  1, -1, -1,  1, -1, -1,  1, -1, -1,  1,  1])"
      ]
     },
     "execution_count": 291,
     "metadata": {},
     "output_type": "execute_result"
    }
   ],
   "source": [
    "steps"
   ]
  },
  {
   "cell_type": "code",
   "execution_count": 292,
   "id": "17098509-b16c-46f5-bd38-f2bb0698722b",
   "metadata": {},
   "outputs": [],
   "source": [
    "walk = steps.cumsum()    #performing cumsum because position += step"
   ]
  },
  {
   "cell_type": "code",
   "execution_count": 293,
   "id": "c263f239-abfd-4bfc-be74-6d5a88c3b5de",
   "metadata": {},
   "outputs": [
    {
     "data": {
      "text/plain": [
       "array([ -1,   0,   1,   2,   3,   2,   3,   2,   1,   0,   1,   0,   1,\n",
       "         2,   3,   2,   1,   0,  -1,   0,  -1,   0,  -1,   0,  -1,  -2,\n",
       "        -3,  -2,  -1,   0,   1,   0,   1,   2,   3,   4,   5,   4,   3,\n",
       "         2,   3,   2,   3,   2,   3,   4,   3,   4,   5,   6,   5,   6,\n",
       "         7,   6,   5,   4,   5,   4,   3,   4,   5,   4,   3,   2,   3,\n",
       "         4,   3,   4,   3,   2,   3,   4,   5,   6,   5,   6,   7,   8,\n",
       "         9,  10,  11,  10,   9,   8,   7,   6,   5,   6,   7,   6,   5,\n",
       "         4,   3,   2,   1,   2,   3,   4,   3,   4,   3,   2,   3,   4,\n",
       "         3,   4,   5,   6,   7,   6,   5,   4,   3,   4,   5,   4,   3,\n",
       "         4,   5,   6,   7,   8,   7,   6,   5,   6,   7,   6,   7,   8,\n",
       "         9,   8,   7,   6,   7,   6,   5,   4,   5,   6,   5,   6,   5,\n",
       "         6,   5,   4,   5,   6,   5,   4,   5,   6,   5,   4,   5,   4,\n",
       "         5,   4,   3,   4,   3,   4,   3,   2,   1,   2,   3,   4,   3,\n",
       "         4,   5,   6,   5,   6,   5,   6,   7,   8,   7,   6,   7,   8,\n",
       "         7,   6,   7,   6,   7,   8,   7,   8,   9,   8,   7,   6,   7,\n",
       "         8,   9,   8,   9,   8,   9,   8,   9,   8,   9,   8,   7,   6,\n",
       "         5,   4,   3,   4,   5,   6,   7,   6,   7,   6,   5,   4,   5,\n",
       "         4,   5,   4,   3,   2,   1,   2,   1,   0,   1,   2,   1,   2,\n",
       "         3,   4,   5,   4,   5,   4,   3,   4,   3,   2,   1,   0,   1,\n",
       "         0,  -1,   0,   1,   2,   3,   2,   1,   2,   1,   0,  -1,   0,\n",
       "         1,   2,   1,   0,   1,   2,   3,   2,   3,   4,   5,   4,   3,\n",
       "         4,   5,   4,   3,   4,   5,   4,   5,   4,   5,   6,   7,   6,\n",
       "         5,   4,   5,   4,   5,   6,   5,   4,   3,   2,   3,   2,   3,\n",
       "         2,   1,   0,  -1,   0,  -1,  -2,  -3,  -2,  -1,   0,   1,   2,\n",
       "         3,   4,   5,   4,   3,   2,   3,   2,   1,   2,   1,   2,   3,\n",
       "         2,   3,   4,   3,   2,   3,   2,   1,   0,   1,   2,   1,   2,\n",
       "         1,   2,   3,   4,   3,   2,   3,   4,   5,   6,   7,   6,   7,\n",
       "         6,   5,   6,   7,   8,   9,   8,   9,  10,   9,   8,   9,  10,\n",
       "         9,   8,   9,   8,   9,   8,   7,   8,   9,   8,   7,   6,   5,\n",
       "         6,   5,   6,   7,   8,   7,   6,   7,   8,   9,  10,   9,   8,\n",
       "         7,   6,   7,   8,   9,   8,   9,  10,   9,   8,   7,   6,   7,\n",
       "         6,   5,   6,   7,   6,   5,   6,   7,   6,   5,   4,   3,   4,\n",
       "         3,   4,   3,   4,   5,   6,   5,   4,   3,   4,   3,   2,   1,\n",
       "         0,   1,   2,   3,   4,   3,   4,   3,   4,   5,   4,   5,   6,\n",
       "         5,   4,   3,   4,   5,   4,   5,   4,   3,   4,   5,   6,   7,\n",
       "         6,   5,   4,   3,   2,   3,   2,   3,   2,   3,   4,   5,   4,\n",
       "         3,   4,   5,   6,   7,   8,   9,   8,   9,  10,   9,   8,   7,\n",
       "         6,   5,   4,   5,   4,   3,   2,   1,   0,   1,   0,  -1,  -2,\n",
       "        -1,  -2,  -1,   0,   1,   2,   3,   4,   5,   4,   5,   4,   5,\n",
       "         6,   5,   4,   5,   6,   5,   4,   3,   4,   3,   2,   3,   2,\n",
       "         3,   2,   1,   0,  -1,   0,   1,   0,  -1,   0,  -1,  -2,  -1,\n",
       "        -2,  -1,   0,   1,   2,   3,   2,   3,   2,   3,   2,   1,   2,\n",
       "         3,   4,   5,   6,   7,   8,   9,  10,  11,  10,  11,  10,  11,\n",
       "        12,  13,  14,  15,  14,  15,  14,  15,  16,  17,  18,  19,  20,\n",
       "        21,  22,  21,  20,  19,  18,  17,  18,  17,  18,  19,  20,  21,\n",
       "        22,  21,  20,  19,  18,  17,  16,  17,  16,  17,  18,  17,  16,\n",
       "        15,  16,  15,  14,  15,  14,  15,  14,  13,  12,  13,  12,  11,\n",
       "        10,   9,   8,   7,   6,   7,   6,   5,   6,   7,   6,   7,   6,\n",
       "         5,   4,   5,   4,   3,   4,   3,   4,   3,   4,   3,   2,   1,\n",
       "         2,   3,   4,   5,   4,   5,   4,   3,   2,   3,   4,   5,   4,\n",
       "         3,   2,   3,   4,   3,   4,   3,   4,   5,   4,   3,   2,   3,\n",
       "         2,   3,   2,   3,   4,   3,   2,   3,   4,   3,   2,   1,   0,\n",
       "        -1,   0,   1,   0,   1,   2,   1,   0,   1,   0,   1,   0,   1,\n",
       "         0,  -1,   0,   1,   0,   1,   0,  -1,   0,  -1,  -2,  -1,  -2,\n",
       "        -3,  -4,  -5,  -6,  -7,  -6,  -7,  -6,  -5,  -4,  -5,  -4,  -3,\n",
       "        -4,  -5,  -6,  -5,  -4,  -3,  -2,  -1,  -2,  -1,  -2,  -3,  -2,\n",
       "        -3,  -4,  -5,  -6,  -7,  -8,  -9, -10,  -9,  -8,  -9, -10,  -9,\n",
       "       -10,  -9, -10,  -9,  -8,  -9, -10, -11, -10, -11, -10,  -9, -10,\n",
       "       -11, -12, -11, -12, -13, -14, -15, -14, -13, -14, -15, -14, -15,\n",
       "       -16, -17, -16, -17, -16, -15, -14, -13, -14, -13, -12, -11, -10,\n",
       "       -11, -12, -11, -10,  -9, -10,  -9,  -8,  -9,  -8,  -9,  -8,  -9,\n",
       "        -8,  -9,  -8,  -7,  -6,  -5,  -6,  -7,  -8,  -7,  -8,  -7,  -8,\n",
       "        -9,  -8,  -9,  -8,  -9,  -8,  -7,  -6,  -5,  -6,  -7,  -8,  -9,\n",
       "        -8,  -7,  -6,  -5,  -4,  -3,  -2,  -1,   0,   1,   2,   1,   0,\n",
       "         1,   0,  -1,  -2,  -3,  -2,  -3,  -2,  -3,  -4,  -3,  -4,  -5,\n",
       "        -4,  -5,  -4,  -5,  -6,  -5,  -4,  -5,  -4,  -3,  -4,  -3,  -2,\n",
       "        -3,  -4,  -5,  -4,  -3,  -4,  -5,  -6,  -5,  -4,  -3,  -4,  -3,\n",
       "        -2,  -3,  -2,  -3,  -4,  -5,  -6,  -5,  -6,  -7,  -6,  -7,  -6,\n",
       "        -7,  -6,  -5,  -6,  -5,  -6,  -7,  -6,  -5,  -4,  -3,  -2,  -1,\n",
       "        -2,  -1,  -2,  -1,   0,  -1,   0,  -1,  -2,  -1,   0,  -1,  -2,\n",
       "        -1,  -2,  -3,  -2,  -3,  -2,  -1,   0,  -1,   0,   1,   2,   1,\n",
       "         2,   1,   2,   3,   2,   1,   0,   1,   2,   3,   4,   5,   4,\n",
       "         5,   6,   7,   6,   7,   6,   7,   6,   5,   6,   5,   4,   5,\n",
       "         4,   5,   6,   5,   4,   5,   6,   7,   6,   7,   8,   7,   8,\n",
       "         7,   6,   7,   8,   7,   6,   7,   6,   7,   6,   5,   6,   5,\n",
       "         4,   3,   4,   5,   4,   5,   6,   7,   8,   9,   8,   9,   8,\n",
       "         7,   8,   7,   6,   7,   6,   5,   6,   5,   4,   5,   6])"
      ]
     },
     "execution_count": 293,
     "metadata": {},
     "output_type": "execute_result"
    }
   ],
   "source": [
    "walk"
   ]
  },
  {
   "cell_type": "code",
   "execution_count": 294,
   "id": "2b83861f-f212-4f65-ad5f-a1719566b16d",
   "metadata": {},
   "outputs": [
    {
     "data": {
      "text/plain": [
       "[<matplotlib.lines.Line2D at 0x2a9fcc7e090>]"
      ]
     },
     "execution_count": 294,
     "metadata": {},
     "output_type": "execute_result"
    },
    {
     "data": {
      "image/png": "[encoded data removed]",
      "text/plain": [
       "<Figure size 640x480 with 1 Axes>"
      ]
     },
     "metadata": {},
     "output_type": "display_data"
    }
   ],
   "source": [
    "plt.plot(walk)"
   ]
  },
  {
   "cell_type": "code",
   "execution_count": 295,
   "id": "a0a21944-488d-4484-a981-a08d56ad3462",
   "metadata": {},
   "outputs": [
    {
     "data": {
      "text/plain": [
       "-17"
      ]
     },
     "execution_count": 295,
     "metadata": {},
     "output_type": "execute_result"
    }
   ],
   "source": [
    "walk.min()"
   ]
  },
  {
   "cell_type": "code",
   "execution_count": 296,
   "id": "964477c8-9730-4ede-becf-b950481cdb10",
   "metadata": {},
   "outputs": [
    {
     "data": {
      "text/plain": [
       "22"
      ]
     },
     "execution_count": 296,
     "metadata": {},
     "output_type": "execute_result"
    }
   ],
   "source": [
    "walk.max()"
   ]
  },
  {
   "cell_type": "code",
   "execution_count": 297,
   "id": "9750fc31-b690-4a85-ad0a-98d0e9878d4d",
   "metadata": {},
   "outputs": [
    {
     "data": {
      "text/plain": [
       "array([False, False, False, False, False, False, False, False, False,\n",
       "       False, False, False, False, False, False, False, False, False,\n",
       "       False, False, False, False, False, False, False, False, False,\n",
       "       False, False, False, False, False, False, False, False, False,\n",
       "       False, False, False, False, False, False, False, False, False,\n",
       "       False, False, False, False, False, False, False, False, False,\n",
       "       False, False, False, False, False, False, False, False, False,\n",
       "       False, False, False, False, False, False, False, False, False,\n",
       "       False, False, False, False, False, False, False,  True, False,\n",
       "        True, False, False, False, False, False, False, False, False,\n",
       "       False, False, False, False, False, False, False, False, False,\n",
       "       False, False, False, False, False, False, False, False, False,\n",
       "       False, False, False, False, False, False, False, False, False,\n",
       "       False, False, False, False, False, False, False, False, False,\n",
       "       False, False, False, False, False, False, False, False, False,\n",
       "       False, False, False, False, False, False, False, False, False,\n",
       "       False, False, False, False, False, False, False, False, False,\n",
       "       False, False, False, False, False, False, False, False, False,\n",
       "       False, False, False, False, False, False, False, False, False,\n",
       "       False, False, False, False, False, False, False, False, False,\n",
       "       False, False, False, False, False, False, False, False, False,\n",
       "       False, False, False, False, False, False, False, False, False,\n",
       "       False, False, False, False, False, False, False, False, False,\n",
       "       False, False, False, False, False, False, False, False, False,\n",
       "       False, False, False, False, False, False, False, False, False,\n",
       "       False, False, False, False, False, False, False, False, False,\n",
       "       False, False, False, False, False, False, False, False, False,\n",
       "       False, False, False, False, False, False, False, False, False,\n",
       "       False, False, False, False, False, False, False, False, False,\n",
       "       False, False, False, False, False, False, False, False, False,\n",
       "       False, False, False, False, False, False, False, False, False,\n",
       "       False, False, False, False, False, False, False, False, False,\n",
       "       False, False, False, False, False, False, False, False, False,\n",
       "       False, False, False, False, False, False, False, False, False,\n",
       "       False, False, False, False, False, False, False, False, False,\n",
       "       False, False, False, False, False, False, False, False, False,\n",
       "       False, False, False, False, False, False, False, False, False,\n",
       "       False, False, False, False, False, False, False, False, False,\n",
       "       False, False, False, False, False, False, False, False, False,\n",
       "       False, False, False, False, False, False, False, False,  True,\n",
       "       False, False, False,  True, False, False, False, False, False,\n",
       "       False, False, False, False, False, False, False, False, False,\n",
       "       False, False, False, False, False, False, False, False, False,\n",
       "        True, False, False, False, False, False, False, False, False,\n",
       "       False,  True, False, False, False, False, False, False, False,\n",
       "       False, False, False, False, False, False, False, False, False,\n",
       "       False, False, False, False, False, False, False, False, False,\n",
       "       False, False, False, False, False, False, False, False, False,\n",
       "       False, False, False, False, False, False, False, False, False,\n",
       "       False, False, False, False, False, False, False, False, False,\n",
       "       False, False, False, False, False, False, False, False, False,\n",
       "       False, False, False, False, False, False, False, False, False,\n",
       "       False, False, False, False, False, False, False, False, False,\n",
       "        True, False, False, False, False, False, False, False, False,\n",
       "       False, False, False, False, False, False, False, False, False,\n",
       "       False, False, False, False, False, False, False, False, False,\n",
       "       False, False, False, False, False, False, False, False, False,\n",
       "       False, False, False, False, False, False, False, False, False,\n",
       "       False, False, False, False, False, False, False, False, False,\n",
       "       False, False, False, False, False, False, False, False, False,\n",
       "       False, False, False, False, False, False, False, False, False,\n",
       "       False, False, False, False,  True, False,  True, False,  True,\n",
       "       False, False, False, False, False, False, False, False, False,\n",
       "       False, False, False, False, False, False, False, False, False,\n",
       "       False, False, False, False, False, False, False, False, False,\n",
       "       False, False, False, False, False, False, False, False, False,\n",
       "       False, False, False, False, False, False, False, False, False,\n",
       "       False, False, False, False, False, False, False, False,  True,\n",
       "       False, False, False, False, False, False, False, False, False,\n",
       "       False, False, False, False, False, False, False, False, False,\n",
       "       False, False, False, False, False, False, False, False, False,\n",
       "       False, False, False, False, False, False, False, False, False,\n",
       "       False, False, False, False, False, False, False, False, False,\n",
       "       False, False, False, False, False, False, False, False, False,\n",
       "       False, False, False, False, False, False, False, False, False,\n",
       "       False, False, False, False, False, False, False, False, False,\n",
       "       False, False, False, False, False, False, False, False, False,\n",
       "       False, False, False, False, False, False, False, False, False,\n",
       "       False, False, False, False, False, False, False, False, False,\n",
       "       False, False, False, False, False, False, False, False, False,\n",
       "       False, False, False, False, False, False, False, False, False,\n",
       "       False, False, False, False, False, False,  True, False, False,\n",
       "       False,  True, False,  True, False,  True, False, False, False,\n",
       "        True, False,  True, False,  True, False,  True, False, False,\n",
       "       False, False, False, False, False, False, False, False, False,\n",
       "       False, False, False, False, False, False, False, False, False,\n",
       "       False, False, False, False, False,  True, False, False, False,\n",
       "        True, False,  True, False, False, False, False, False, False,\n",
       "       False, False, False, False, False, False, False, False, False,\n",
       "       False, False, False, False, False, False, False, False, False,\n",
       "       False, False, False, False, False, False, False, False, False,\n",
       "       False, False, False, False, False, False, False, False, False,\n",
       "       False, False, False, False, False, False, False, False, False,\n",
       "       False, False, False, False, False, False, False, False, False,\n",
       "       False, False, False, False, False, False, False, False, False,\n",
       "       False, False, False, False, False, False, False, False, False,\n",
       "       False, False, False, False, False, False, False, False, False,\n",
       "       False, False, False, False, False, False, False, False, False,\n",
       "       False, False, False, False, False, False, False, False, False,\n",
       "       False, False, False, False, False, False, False, False, False,\n",
       "       False, False, False, False, False, False, False, False, False,\n",
       "       False, False, False, False, False, False, False, False, False,\n",
       "       False, False, False, False, False, False, False, False, False,\n",
       "       False, False, False, False, False, False, False, False, False,\n",
       "       False, False, False, False, False, False, False, False, False,\n",
       "       False, False, False, False, False, False, False, False, False,\n",
       "       False, False, False, False, False, False, False, False, False,\n",
       "       False, False, False, False, False, False, False, False, False,\n",
       "       False, False, False, False, False, False, False, False, False,\n",
       "       False, False, False, False, False, False, False, False, False,\n",
       "       False, False, False, False, False, False, False, False, False,\n",
       "       False])"
      ]
     },
     "execution_count": 297,
     "metadata": {},
     "output_type": "execute_result"
    }
   ],
   "source": [
    "np.abs(walk) == 10"
   ]
  },
  {
   "cell_type": "code",
   "execution_count": 298,
   "id": "e7d8b8be-e832-481f-b547-59a455861958",
   "metadata": {},
   "outputs": [
    {
     "data": {
      "text/plain": [
       "79"
      ]
     },
     "execution_count": 298,
     "metadata": {},
     "output_type": "execute_result"
    }
   ],
   "source": [
    "(np.abs(walk) == 10).argmax()"
   ]
  },
  {
   "cell_type": "code",
   "execution_count": 299,
   "id": "9faf1432-6ade-496c-bb64-ccddc957cd4e",
   "metadata": {},
   "outputs": [
    {
     "data": {
      "text/plain": [
       "573"
      ]
     },
     "execution_count": 299,
     "metadata": {},
     "output_type": "execute_result"
    }
   ],
   "source": [
    "(np.abs(walk) == walk.max()).argmax()"
   ]
  },
  {
   "cell_type": "code",
   "execution_count": 300,
   "id": "bc017df3-e04d-4869-87f0-ca52021d934f",
   "metadata": {},
   "outputs": [],
   "source": [
    "nsteps = 1000"
   ]
  },
  {
   "cell_type": "code",
   "execution_count": 301,
   "id": "9bc7b0ff-c3df-4488-abba-482512d6069e",
   "metadata": {},
   "outputs": [],
   "source": [
    "nwalks = 10000"
   ]
  },
  {
   "cell_type": "code",
   "execution_count": 302,
   "id": "3e4b4121-7dea-4dca-8587-3d69880023a3",
   "metadata": {},
   "outputs": [],
   "source": [
    "draws = rng.integers(0, 2, size= (nwalks, nsteps))"
   ]
  },
  {
   "cell_type": "code",
   "execution_count": 303,
   "id": "3a05c8f9-9b85-411d-8018-740ef38fa79f",
   "metadata": {},
   "outputs": [
    {
     "data": {
      "text/plain": [
       "array([[1, 1, 1, ..., 0, 0, 0],\n",
       "       [0, 1, 0, ..., 1, 0, 1],\n",
       "       [1, 0, 1, ..., 1, 1, 1],\n",
       "       ...,\n",
       "       [1, 0, 0, ..., 0, 1, 1],\n",
       "       [0, 0, 1, ..., 0, 0, 0],\n",
       "       [0, 0, 1, ..., 1, 1, 0]], dtype=int64)"
      ]
     },
     "execution_count": 303,
     "metadata": {},
     "output_type": "execute_result"
    }
   ],
   "source": [
    "draws"
   ]
  },
  {
   "cell_type": "code",
   "execution_count": 304,
   "id": "9834a82d-b82f-424e-97be-c0aeec0d849d",
   "metadata": {},
   "outputs": [],
   "source": [
    "steps = np.where(draws == 0, -1, 1)"
   ]
  },
  {
   "cell_type": "code",
   "execution_count": 305,
   "id": "3a7b6030-7fd4-448d-808f-f6f92c6a054c",
   "metadata": {},
   "outputs": [
    {
     "data": {
      "text/plain": [
       "array([[ 1,  1,  1, ..., -1, -1, -1],\n",
       "       [-1,  1, -1, ...,  1, -1,  1],\n",
       "       [ 1, -1,  1, ...,  1,  1,  1],\n",
       "       ...,\n",
       "       [ 1, -1, -1, ..., -1,  1,  1],\n",
       "       [-1, -1,  1, ..., -1, -1, -1],\n",
       "       [-1, -1,  1, ...,  1,  1, -1]])"
      ]
     },
     "execution_count": 305,
     "metadata": {},
     "output_type": "execute_result"
    }
   ],
   "source": [
    "steps"
   ]
  },
  {
   "cell_type": "code",
   "execution_count": 306,
   "id": "0a0c9223-dbaa-4ad7-aaaf-1c5d5611b7f9",
   "metadata": {},
   "outputs": [],
   "source": [
    "walks = steps.cumsum(axis= 1)"
   ]
  },
  {
   "cell_type": "code",
   "execution_count": 307,
   "id": "3b401e75-ef48-46d5-bc9e-fbc6bbb0b710",
   "metadata": {},
   "outputs": [
    {
     "data": {
      "text/plain": [
       "array([[  1,   2,   3, ...,  44,  43,  42],\n",
       "       [ -1,   0,  -1, ...,  32,  31,  32],\n",
       "       [  1,   0,   1, ...,  -2,  -1,   0],\n",
       "       ...,\n",
       "       [  1,   0,  -1, ...,  -2,  -1,   0],\n",
       "       [ -1,  -2,  -1, ...,  -2,  -3,  -4],\n",
       "       [ -1,  -2,  -1, ..., -10,  -9, -10]])"
      ]
     },
     "execution_count": 307,
     "metadata": {},
     "output_type": "execute_result"
    }
   ],
   "source": [
    "walks"
   ]
  },
  {
   "cell_type": "code",
   "execution_count": 308,
   "id": "023e0715-9022-45d5-8028-d17939c64ad4",
   "metadata": {},
   "outputs": [
    {
     "data": {
      "text/plain": [
       "[<matplotlib.lines.Line2D at 0x2a9fccf9a60>]"
      ]
     },
     "execution_count": 308,
     "metadata": {},
     "output_type": "execute_result"
    },
    {
     "data": {
      "image/png": "[encoded data removed]",
      "text/plain": [
       "<Figure size 640x480 with 1 Axes>"
      ]
     },
     "metadata": {},
     "output_type": "display_data"
    }
   ],
   "source": [
    "plt.plot(walks[2])"
   ]
  },
  {
   "cell_type": "code",
   "execution_count": 309,
   "id": "04f50a08-bb3b-4bbc-84cc-76d1bc5920ad",
   "metadata": {},
   "outputs": [
    {
     "data": {
      "text/plain": [
       "-128"
      ]
     },
     "execution_count": 309,
     "metadata": {},
     "output_type": "execute_result"
    }
   ],
   "source": [
    "walks.min()"
   ]
  },
  {
   "cell_type": "code",
   "execution_count": 310,
   "id": "5b8a245c-1c03-4bee-9b71-212d3aff89ac",
   "metadata": {},
   "outputs": [
    {
     "data": {
      "text/plain": [
       "116"
      ]
     },
     "execution_count": 310,
     "metadata": {},
     "output_type": "execute_result"
    }
   ],
   "source": [
    "walks.max()"
   ]
  },
  {
   "cell_type": "code",
   "execution_count": 311,
   "id": "a74332e4-c561-4170-b5c5-2eee0b366cfe",
   "metadata": {},
   "outputs": [],
   "source": [
    "hits30 = (np.abs(walks) == 30).any(axis= 1)   #selecting all the rows that hit 30 at any point"
   ]
  },
  {
   "cell_type": "code",
   "execution_count": 312,
   "id": "d991f82b-b117-4c8c-af0f-afccdbe6c48e",
   "metadata": {},
   "outputs": [
    {
     "data": {
      "text/plain": [
       "array([ True,  True,  True, ..., False, False, False])"
      ]
     },
     "execution_count": 312,
     "metadata": {},
     "output_type": "execute_result"
    }
   ],
   "source": [
    "hits30"
   ]
  },
  {
   "cell_type": "code",
   "execution_count": 313,
   "id": "6831b2bd-851c-425e-846c-e68f9c07e2f5",
   "metadata": {},
   "outputs": [
    {
     "data": {
      "text/plain": [
       "6847"
      ]
     },
     "execution_count": 313,
     "metadata": {},
     "output_type": "execute_result"
    }
   ],
   "source": [
    "hits30.sum()    #number of rows that hit 30 out of 10000"
   ]
  },
  {
   "cell_type": "code",
   "execution_count": 320,
   "id": "ce0bb2df-0f97-4e7b-b74b-37648e6f31f6",
   "metadata": {},
   "outputs": [],
   "source": [
    "crossing_index = (np.abs(walks[hits30]) >= 30).argmax(axis= 1)"
   ]
  },
  {
   "cell_type": "code",
   "execution_count": 321,
   "id": "1f21d6dd-b310-4f3e-bf88-d0f293ab2a91",
   "metadata": {},
   "outputs": [
    {
     "data": {
      "text/plain": [
       "array([515, 513, 267, ..., 773, 215, 945], dtype=int64)"
      ]
     },
     "execution_count": 321,
     "metadata": {},
     "output_type": "execute_result"
    }
   ],
   "source": [
    "crossing_index"
   ]
  },
  {
   "cell_type": "code",
   "execution_count": 322,
   "id": "20a1cfa5-0829-4f69-9a73-b57c4e1f5fab",
   "metadata": {},
   "outputs": [
    {
     "data": {
      "text/plain": [
       "504.1903023221849"
      ]
     },
     "execution_count": 322,
     "metadata": {},
     "output_type": "execute_result"
    }
   ],
   "source": [
    "crossing_index.mean()"
   ]
  }
 ],
 "metadata": {
  "kernelspec": {
   "display_name": "Python 3 (ipykernel)",
   "language": "python",
   "name": "python3"
  },
  "language_info": {
   "codemirror_mode": {
    "name": "ipython",
    "version": 3
   },
   "file_extension": ".py",
   "mimetype": "text/x-python",
   "name": "python",
   "nbconvert_exporter": "python",
   "pygments_lexer": "ipython3",
   "version": "3.12.1"
  }
 },
 "nbformat": 4,
 "nbformat_minor": 5
}
